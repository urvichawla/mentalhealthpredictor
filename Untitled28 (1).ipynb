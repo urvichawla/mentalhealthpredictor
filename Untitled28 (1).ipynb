{
  "cells": [
    {
      "cell_type": "code",
      "execution_count": null,
      "metadata": {
        "id": "Cea3s75uCBBW"
      },
      "outputs": [],
      "source": [
        "import pandas as pd"
      ]
    },
    {
      "cell_type": "code",
      "execution_count": null,
      "metadata": {
        "id": "JkYbHhXy0DPz"
      },
      "outputs": [],
      "source": []
    },
    {
      "cell_type": "code",
      "execution_count": null,
      "metadata": {
        "id": "uQSneD48CHf9"
      },
      "outputs": [],
      "source": [
        "df=pd.read_csv(r\"/content/social media responses.csv (1) (1).csv\")"
      ]
    },
    {
      "cell_type": "code",
      "execution_count": null,
      "metadata": {
        "colab": {
          "base_uri": "https://localhost:8080/",
          "height": 694
        },
        "id": "-E1DQtk9CL8B",
        "outputId": "e70776f2-4c74-4f33-f23d-eec4bdcfee8c"
      },
      "outputs": [
        {
          "output_type": "execute_result",
          "data": {
            "text/plain": [
              "          Timestamp            Name  Age  Gender Profession  \\\n",
              "0  17-04-2024 18:12  Parnavi Sharma   19  Female    Student   \n",
              "1  17-04-2024 18:17        Akshita    19  Female    Student   \n",
              "2  17-04-2024 18:17  Divyansh gupta   20    Male    Student   \n",
              "3  17-04-2024 18:19   Srijani Nayak   17  Female    Student   \n",
              "4  17-04-2024 18:21         Abhigna   18  Female    Student   \n",
              "\n",
              "  On average, how many hours per day do you spend on social media?  \\\n",
              "0                                          4-7 hours                 \n",
              "1                                          1-4 hours                 \n",
              "2                                  More than 7 hours                 \n",
              "3                                          1-4 hours                 \n",
              "4                                          1-4 hours                 \n",
              "\n",
              "  Which social media app do you use the most?  \\\n",
              "0               Instagram, Snapchat, Whatsapp   \n",
              "1      Instagram, Snapchat, Whatsapp, Youtube   \n",
              "2       Instagram, Snapchat, Whatsapp, Others   \n",
              "3                           Whatsapp, Youtube   \n",
              "4                Instagram, Snapchat, Youtube   \n",
              "\n",
              "  Do you use Social media just before going to bed and just after waking up?  \\\n",
              "0                                Yes, both the times                           \n",
              "1                                Yes, both the times                           \n",
              "2                                Yes, both the times                           \n",
              "3                                               Nope                           \n",
              "4                                Yes, both the times                           \n",
              "\n",
              "  Do you often find yourself scrolling through social media feeds without a specific purpose?  \\\n",
              "0                                                Yes                                            \n",
              "1                                                Yes                                            \n",
              "2                                                Yes                                            \n",
              "3                                                Yes                                            \n",
              "4                                                Yes                                            \n",
              "\n",
              "  Do you ever feel like your achievements aren't as good as what you see on social media?  \\\n",
              "0                                                Yes                                        \n",
              "1                                                Yes                                        \n",
              "2                                                Yes                                        \n",
              "3                                                Yes                                        \n",
              "4                                                Yes                                        \n",
              "\n",
              "  How often do you encounter negative content (e.g., cyberbullying, distressing news) on social media?  \\\n",
              "0                                              Often                                                     \n",
              "1                                             Rarely                                                     \n",
              "2                                          Sometimes                                                     \n",
              "3                                             Rarely                                                     \n",
              "4                                              Never                                                     \n",
              "\n",
              "  Do you feel anxious or stressed when you don't get enough likes or engagement on your posts?  \\\n",
              "0                                          Sometimes                                             \n",
              "1                                          Sometimes                                             \n",
              "2                                          Sometimes                                             \n",
              "3                                          Sometimes                                             \n",
              "4                                          Sometimes                                             \n",
              "\n",
              "  Which type of content do you engage with the most on social media?  \\\n",
              "0  News and current events, Entertainment(memes, ...                   \n",
              "1  News and current events, Entertainment(memes, ...                   \n",
              "2  News and current events, Entertainment(memes, ...                   \n",
              "3  News and current events, Entertainment(memes, ...                   \n",
              "4  News and current events, Entertainment(memes, ...                   \n",
              "\n",
              "   How satisfied are you with your social relationships outside of social media?   \\\n",
              "0                                                  1                                \n",
              "1                                                  1                                \n",
              "2                                                  2                                \n",
              "3                                                  3                                \n",
              "4                                                  2                                \n",
              "\n",
              "  Do u experience symptoms of anxiety (e.g., worry, nervousness, panic attacks)?   \\\n",
              "0                                              Daily                                \n",
              "1                                             Rarely                                \n",
              "2                                              Daily                                \n",
              "3                                             Rarely                                \n",
              "4                                            Monthly                                \n",
              "\n",
              "   On a scale of 1 to 10, how would you rate your overall mental health?   \\\n",
              "0                                                  4                        \n",
              "1                                                  8                        \n",
              "2                                                  1                        \n",
              "3                                                  5                        \n",
              "4                                                  7                        \n",
              "\n",
              "  Do you think life would be fundamentally different without social media?  \\\n",
              "0                                                Yes                         \n",
              "1                                                 No                         \n",
              "2                                                Yes                         \n",
              "3                                                Yes                         \n",
              "4                                                 No                         \n",
              "\n",
              "  Email address  \n",
              "0           NaN  \n",
              "1           NaN  \n",
              "2           NaN  \n",
              "3           NaN  \n",
              "4           NaN  "
            ],
            "text/html": [
              "\n",
              "  <div id=\"df-69a0743f-07ae-41ee-849b-7d02078ea6e3\" class=\"colab-df-container\">\n",
              "    <div>\n",
              "<style scoped>\n",
              "    .dataframe tbody tr th:only-of-type {\n",
              "        vertical-align: middle;\n",
              "    }\n",
              "\n",
              "    .dataframe tbody tr th {\n",
              "        vertical-align: top;\n",
              "    }\n",
              "\n",
              "    .dataframe thead th {\n",
              "        text-align: right;\n",
              "    }\n",
              "</style>\n",
              "<table border=\"1\" class=\"dataframe\">\n",
              "  <thead>\n",
              "    <tr style=\"text-align: right;\">\n",
              "      <th></th>\n",
              "      <th>Timestamp</th>\n",
              "      <th>Name</th>\n",
              "      <th>Age</th>\n",
              "      <th>Gender</th>\n",
              "      <th>Profession</th>\n",
              "      <th>On average, how many hours per day do you spend on social media?</th>\n",
              "      <th>Which social media app do you use the most?</th>\n",
              "      <th>Do you use Social media just before going to bed and just after waking up?</th>\n",
              "      <th>Do you often find yourself scrolling through social media feeds without a specific purpose?</th>\n",
              "      <th>Do you ever feel like your achievements aren't as good as what you see on social media?</th>\n",
              "      <th>How often do you encounter negative content (e.g., cyberbullying, distressing news) on social media?</th>\n",
              "      <th>Do you feel anxious or stressed when you don't get enough likes or engagement on your posts?</th>\n",
              "      <th>Which type of content do you engage with the most on social media?</th>\n",
              "      <th>How satisfied are you with your social relationships outside of social media?</th>\n",
              "      <th>Do u experience symptoms of anxiety (e.g., worry, nervousness, panic attacks)?</th>\n",
              "      <th>On a scale of 1 to 10, how would you rate your overall mental health?</th>\n",
              "      <th>Do you think life would be fundamentally different without social media?</th>\n",
              "      <th>Email address</th>\n",
              "    </tr>\n",
              "  </thead>\n",
              "  <tbody>\n",
              "    <tr>\n",
              "      <th>0</th>\n",
              "      <td>17-04-2024 18:12</td>\n",
              "      <td>Parnavi Sharma</td>\n",
              "      <td>19</td>\n",
              "      <td>Female</td>\n",
              "      <td>Student</td>\n",
              "      <td>4-7 hours</td>\n",
              "      <td>Instagram, Snapchat, Whatsapp</td>\n",
              "      <td>Yes, both the times</td>\n",
              "      <td>Yes</td>\n",
              "      <td>Yes</td>\n",
              "      <td>Often</td>\n",
              "      <td>Sometimes</td>\n",
              "      <td>News and current events, Entertainment(memes, ...</td>\n",
              "      <td>1</td>\n",
              "      <td>Daily</td>\n",
              "      <td>4</td>\n",
              "      <td>Yes</td>\n",
              "      <td>NaN</td>\n",
              "    </tr>\n",
              "    <tr>\n",
              "      <th>1</th>\n",
              "      <td>17-04-2024 18:17</td>\n",
              "      <td>Akshita</td>\n",
              "      <td>19</td>\n",
              "      <td>Female</td>\n",
              "      <td>Student</td>\n",
              "      <td>1-4 hours</td>\n",
              "      <td>Instagram, Snapchat, Whatsapp, Youtube</td>\n",
              "      <td>Yes, both the times</td>\n",
              "      <td>Yes</td>\n",
              "      <td>Yes</td>\n",
              "      <td>Rarely</td>\n",
              "      <td>Sometimes</td>\n",
              "      <td>News and current events, Entertainment(memes, ...</td>\n",
              "      <td>1</td>\n",
              "      <td>Rarely</td>\n",
              "      <td>8</td>\n",
              "      <td>No</td>\n",
              "      <td>NaN</td>\n",
              "    </tr>\n",
              "    <tr>\n",
              "      <th>2</th>\n",
              "      <td>17-04-2024 18:17</td>\n",
              "      <td>Divyansh gupta</td>\n",
              "      <td>20</td>\n",
              "      <td>Male</td>\n",
              "      <td>Student</td>\n",
              "      <td>More than 7 hours</td>\n",
              "      <td>Instagram, Snapchat, Whatsapp, Others</td>\n",
              "      <td>Yes, both the times</td>\n",
              "      <td>Yes</td>\n",
              "      <td>Yes</td>\n",
              "      <td>Sometimes</td>\n",
              "      <td>Sometimes</td>\n",
              "      <td>News and current events, Entertainment(memes, ...</td>\n",
              "      <td>2</td>\n",
              "      <td>Daily</td>\n",
              "      <td>1</td>\n",
              "      <td>Yes</td>\n",
              "      <td>NaN</td>\n",
              "    </tr>\n",
              "    <tr>\n",
              "      <th>3</th>\n",
              "      <td>17-04-2024 18:19</td>\n",
              "      <td>Srijani Nayak</td>\n",
              "      <td>17</td>\n",
              "      <td>Female</td>\n",
              "      <td>Student</td>\n",
              "      <td>1-4 hours</td>\n",
              "      <td>Whatsapp, Youtube</td>\n",
              "      <td>Nope</td>\n",
              "      <td>Yes</td>\n",
              "      <td>Yes</td>\n",
              "      <td>Rarely</td>\n",
              "      <td>Sometimes</td>\n",
              "      <td>News and current events, Entertainment(memes, ...</td>\n",
              "      <td>3</td>\n",
              "      <td>Rarely</td>\n",
              "      <td>5</td>\n",
              "      <td>Yes</td>\n",
              "      <td>NaN</td>\n",
              "    </tr>\n",
              "    <tr>\n",
              "      <th>4</th>\n",
              "      <td>17-04-2024 18:21</td>\n",
              "      <td>Abhigna</td>\n",
              "      <td>18</td>\n",
              "      <td>Female</td>\n",
              "      <td>Student</td>\n",
              "      <td>1-4 hours</td>\n",
              "      <td>Instagram, Snapchat, Youtube</td>\n",
              "      <td>Yes, both the times</td>\n",
              "      <td>Yes</td>\n",
              "      <td>Yes</td>\n",
              "      <td>Never</td>\n",
              "      <td>Sometimes</td>\n",
              "      <td>News and current events, Entertainment(memes, ...</td>\n",
              "      <td>2</td>\n",
              "      <td>Monthly</td>\n",
              "      <td>7</td>\n",
              "      <td>No</td>\n",
              "      <td>NaN</td>\n",
              "    </tr>\n",
              "  </tbody>\n",
              "</table>\n",
              "</div>\n",
              "    <div class=\"colab-df-buttons\">\n",
              "\n",
              "  <div class=\"colab-df-container\">\n",
              "    <button class=\"colab-df-convert\" onclick=\"convertToInteractive('df-69a0743f-07ae-41ee-849b-7d02078ea6e3')\"\n",
              "            title=\"Convert this dataframe to an interactive table.\"\n",
              "            style=\"display:none;\">\n",
              "\n",
              "  <svg xmlns=\"http://www.w3.org/2000/svg\" height=\"24px\" viewBox=\"0 -960 960 960\">\n",
              "    <path d=\"M120-120v-720h720v720H120Zm60-500h600v-160H180v160Zm220 220h160v-160H400v160Zm0 220h160v-160H400v160ZM180-400h160v-160H180v160Zm440 0h160v-160H620v160ZM180-180h160v-160H180v160Zm440 0h160v-160H620v160Z\"/>\n",
              "  </svg>\n",
              "    </button>\n",
              "\n",
              "  <style>\n",
              "    .colab-df-container {\n",
              "      display:flex;\n",
              "      gap: 12px;\n",
              "    }\n",
              "\n",
              "    .colab-df-convert {\n",
              "      background-color: #E8F0FE;\n",
              "      border: none;\n",
              "      border-radius: 50%;\n",
              "      cursor: pointer;\n",
              "      display: none;\n",
              "      fill: #1967D2;\n",
              "      height: 32px;\n",
              "      padding: 0 0 0 0;\n",
              "      width: 32px;\n",
              "    }\n",
              "\n",
              "    .colab-df-convert:hover {\n",
              "      background-color: #E2EBFA;\n",
              "      box-shadow: 0px 1px 2px rgba(60, 64, 67, 0.3), 0px 1px 3px 1px rgba(60, 64, 67, 0.15);\n",
              "      fill: #174EA6;\n",
              "    }\n",
              "\n",
              "    .colab-df-buttons div {\n",
              "      margin-bottom: 4px;\n",
              "    }\n",
              "\n",
              "    [theme=dark] .colab-df-convert {\n",
              "      background-color: #3B4455;\n",
              "      fill: #D2E3FC;\n",
              "    }\n",
              "\n",
              "    [theme=dark] .colab-df-convert:hover {\n",
              "      background-color: #434B5C;\n",
              "      box-shadow: 0px 1px 3px 1px rgba(0, 0, 0, 0.15);\n",
              "      filter: drop-shadow(0px 1px 2px rgba(0, 0, 0, 0.3));\n",
              "      fill: #FFFFFF;\n",
              "    }\n",
              "  </style>\n",
              "\n",
              "    <script>\n",
              "      const buttonEl =\n",
              "        document.querySelector('#df-69a0743f-07ae-41ee-849b-7d02078ea6e3 button.colab-df-convert');\n",
              "      buttonEl.style.display =\n",
              "        google.colab.kernel.accessAllowed ? 'block' : 'none';\n",
              "\n",
              "      async function convertToInteractive(key) {\n",
              "        const element = document.querySelector('#df-69a0743f-07ae-41ee-849b-7d02078ea6e3');\n",
              "        const dataTable =\n",
              "          await google.colab.kernel.invokeFunction('convertToInteractive',\n",
              "                                                    [key], {});\n",
              "        if (!dataTable) return;\n",
              "\n",
              "        const docLinkHtml = 'Like what you see? Visit the ' +\n",
              "          '<a target=\"_blank\" href=https://colab.research.google.com/notebooks/data_table.ipynb>data table notebook</a>'\n",
              "          + ' to learn more about interactive tables.';\n",
              "        element.innerHTML = '';\n",
              "        dataTable['output_type'] = 'display_data';\n",
              "        await google.colab.output.renderOutput(dataTable, element);\n",
              "        const docLink = document.createElement('div');\n",
              "        docLink.innerHTML = docLinkHtml;\n",
              "        element.appendChild(docLink);\n",
              "      }\n",
              "    </script>\n",
              "  </div>\n",
              "\n",
              "\n",
              "<div id=\"df-f43fc331-eac5-4e32-ad92-b12a5256d174\">\n",
              "  <button class=\"colab-df-quickchart\" onclick=\"quickchart('df-f43fc331-eac5-4e32-ad92-b12a5256d174')\"\n",
              "            title=\"Suggest charts\"\n",
              "            style=\"display:none;\">\n",
              "\n",
              "<svg xmlns=\"http://www.w3.org/2000/svg\" height=\"24px\"viewBox=\"0 0 24 24\"\n",
              "     width=\"24px\">\n",
              "    <g>\n",
              "        <path d=\"M19 3H5c-1.1 0-2 .9-2 2v14c0 1.1.9 2 2 2h14c1.1 0 2-.9 2-2V5c0-1.1-.9-2-2-2zM9 17H7v-7h2v7zm4 0h-2V7h2v10zm4 0h-2v-4h2v4z\"/>\n",
              "    </g>\n",
              "</svg>\n",
              "  </button>\n",
              "\n",
              "<style>\n",
              "  .colab-df-quickchart {\n",
              "      --bg-color: #E8F0FE;\n",
              "      --fill-color: #1967D2;\n",
              "      --hover-bg-color: #E2EBFA;\n",
              "      --hover-fill-color: #174EA6;\n",
              "      --disabled-fill-color: #AAA;\n",
              "      --disabled-bg-color: #DDD;\n",
              "  }\n",
              "\n",
              "  [theme=dark] .colab-df-quickchart {\n",
              "      --bg-color: #3B4455;\n",
              "      --fill-color: #D2E3FC;\n",
              "      --hover-bg-color: #434B5C;\n",
              "      --hover-fill-color: #FFFFFF;\n",
              "      --disabled-bg-color: #3B4455;\n",
              "      --disabled-fill-color: #666;\n",
              "  }\n",
              "\n",
              "  .colab-df-quickchart {\n",
              "    background-color: var(--bg-color);\n",
              "    border: none;\n",
              "    border-radius: 50%;\n",
              "    cursor: pointer;\n",
              "    display: none;\n",
              "    fill: var(--fill-color);\n",
              "    height: 32px;\n",
              "    padding: 0;\n",
              "    width: 32px;\n",
              "  }\n",
              "\n",
              "  .colab-df-quickchart:hover {\n",
              "    background-color: var(--hover-bg-color);\n",
              "    box-shadow: 0 1px 2px rgba(60, 64, 67, 0.3), 0 1px 3px 1px rgba(60, 64, 67, 0.15);\n",
              "    fill: var(--button-hover-fill-color);\n",
              "  }\n",
              "\n",
              "  .colab-df-quickchart-complete:disabled,\n",
              "  .colab-df-quickchart-complete:disabled:hover {\n",
              "    background-color: var(--disabled-bg-color);\n",
              "    fill: var(--disabled-fill-color);\n",
              "    box-shadow: none;\n",
              "  }\n",
              "\n",
              "  .colab-df-spinner {\n",
              "    border: 2px solid var(--fill-color);\n",
              "    border-color: transparent;\n",
              "    border-bottom-color: var(--fill-color);\n",
              "    animation:\n",
              "      spin 1s steps(1) infinite;\n",
              "  }\n",
              "\n",
              "  @keyframes spin {\n",
              "    0% {\n",
              "      border-color: transparent;\n",
              "      border-bottom-color: var(--fill-color);\n",
              "      border-left-color: var(--fill-color);\n",
              "    }\n",
              "    20% {\n",
              "      border-color: transparent;\n",
              "      border-left-color: var(--fill-color);\n",
              "      border-top-color: var(--fill-color);\n",
              "    }\n",
              "    30% {\n",
              "      border-color: transparent;\n",
              "      border-left-color: var(--fill-color);\n",
              "      border-top-color: var(--fill-color);\n",
              "      border-right-color: var(--fill-color);\n",
              "    }\n",
              "    40% {\n",
              "      border-color: transparent;\n",
              "      border-right-color: var(--fill-color);\n",
              "      border-top-color: var(--fill-color);\n",
              "    }\n",
              "    60% {\n",
              "      border-color: transparent;\n",
              "      border-right-color: var(--fill-color);\n",
              "    }\n",
              "    80% {\n",
              "      border-color: transparent;\n",
              "      border-right-color: var(--fill-color);\n",
              "      border-bottom-color: var(--fill-color);\n",
              "    }\n",
              "    90% {\n",
              "      border-color: transparent;\n",
              "      border-bottom-color: var(--fill-color);\n",
              "    }\n",
              "  }\n",
              "</style>\n",
              "\n",
              "  <script>\n",
              "    async function quickchart(key) {\n",
              "      const quickchartButtonEl =\n",
              "        document.querySelector('#' + key + ' button');\n",
              "      quickchartButtonEl.disabled = true;  // To prevent multiple clicks.\n",
              "      quickchartButtonEl.classList.add('colab-df-spinner');\n",
              "      try {\n",
              "        const charts = await google.colab.kernel.invokeFunction(\n",
              "            'suggestCharts', [key], {});\n",
              "      } catch (error) {\n",
              "        console.error('Error during call to suggestCharts:', error);\n",
              "      }\n",
              "      quickchartButtonEl.classList.remove('colab-df-spinner');\n",
              "      quickchartButtonEl.classList.add('colab-df-quickchart-complete');\n",
              "    }\n",
              "    (() => {\n",
              "      let quickchartButtonEl =\n",
              "        document.querySelector('#df-f43fc331-eac5-4e32-ad92-b12a5256d174 button');\n",
              "      quickchartButtonEl.style.display =\n",
              "        google.colab.kernel.accessAllowed ? 'block' : 'none';\n",
              "    })();\n",
              "  </script>\n",
              "</div>\n",
              "\n",
              "    </div>\n",
              "  </div>\n"
            ],
            "application/vnd.google.colaboratory.intrinsic+json": {
              "type": "dataframe",
              "variable_name": "df",
              "summary": "{\n  \"name\": \"df\",\n  \"rows\": 243,\n  \"fields\": [\n    {\n      \"column\": \"Timestamp\",\n      \"properties\": {\n        \"dtype\": \"object\",\n        \"num_unique_values\": 227,\n        \"samples\": [\n          \"17-04-2024 18:32\",\n          \"20-04-2024 14:56\",\n          \"17-04-2024 19:06\"\n        ],\n        \"semantic_type\": \"\",\n        \"description\": \"\"\n      }\n    },\n    {\n      \"column\": \"Name\",\n      \"properties\": {\n        \"dtype\": \"string\",\n        \"num_unique_values\": 239,\n        \"samples\": [\n          \"Siddhi Kothekar \",\n          \"Akila Chetti\",\n          \"Priyanka Apte \"\n        ],\n        \"semantic_type\": \"\",\n        \"description\": \"\"\n      }\n    },\n    {\n      \"column\": \"Age\",\n      \"properties\": {\n        \"dtype\": \"number\",\n        \"std\": 6,\n        \"min\": 13,\n        \"max\": 56,\n        \"num_unique_values\": 29,\n        \"samples\": [\n          36,\n          44,\n          23\n        ],\n        \"semantic_type\": \"\",\n        \"description\": \"\"\n      }\n    },\n    {\n      \"column\": \"Gender\",\n      \"properties\": {\n        \"dtype\": \"category\",\n        \"num_unique_values\": 3,\n        \"samples\": [\n          \"Female\",\n          \"Male\",\n          \"Other\"\n        ],\n        \"semantic_type\": \"\",\n        \"description\": \"\"\n      }\n    },\n    {\n      \"column\": \"Profession\",\n      \"properties\": {\n        \"dtype\": \"category\",\n        \"num_unique_values\": 8,\n        \"samples\": [\n          \"Teacher\",\n          \"Businessmen\",\n          \"Student\"\n        ],\n        \"semantic_type\": \"\",\n        \"description\": \"\"\n      }\n    },\n    {\n      \"column\": \"On average, how many hours per day do you spend on social media?\",\n      \"properties\": {\n        \"dtype\": \"category\",\n        \"num_unique_values\": 4,\n        \"samples\": [\n          \"1-4 hours\",\n          \"Less than 1 hour\",\n          \"4-7 hours\"\n        ],\n        \"semantic_type\": \"\",\n        \"description\": \"\"\n      }\n    },\n    {\n      \"column\": \"Which social media app do you use the most?\",\n      \"properties\": {\n        \"dtype\": \"category\",\n        \"num_unique_values\": 49,\n        \"samples\": [\n          \"Instagram, Whatsapp, Youtube, Linkedin\",\n          \"Instagram, Whatsapp, Twitter\",\n          \"Instagram, Facebook, Snapchat, Whatsapp\"\n        ],\n        \"semantic_type\": \"\",\n        \"description\": \"\"\n      }\n    },\n    {\n      \"column\": \"Do you use Social media just before going to bed and just after waking up?\",\n      \"properties\": {\n        \"dtype\": \"category\",\n        \"num_unique_values\": 4,\n        \"samples\": [\n          \"Nope\",\n          \"Only after waking up\",\n          \"Yes, both the times\"\n        ],\n        \"semantic_type\": \"\",\n        \"description\": \"\"\n      }\n    },\n    {\n      \"column\": \"Do you often find yourself scrolling through social media feeds without a specific purpose?\",\n      \"properties\": {\n        \"dtype\": \"category\",\n        \"num_unique_values\": 2,\n        \"samples\": [\n          \"No\",\n          \"Yes\"\n        ],\n        \"semantic_type\": \"\",\n        \"description\": \"\"\n      }\n    },\n    {\n      \"column\": \"Do you ever feel like your achievements aren't as good as what you see on social media?\",\n      \"properties\": {\n        \"dtype\": \"category\",\n        \"num_unique_values\": 2,\n        \"samples\": [\n          \"No\",\n          \"Yes\"\n        ],\n        \"semantic_type\": \"\",\n        \"description\": \"\"\n      }\n    },\n    {\n      \"column\": \"How often do you encounter negative content (e.g., cyberbullying, distressing news) on social media?\",\n      \"properties\": {\n        \"dtype\": \"category\",\n        \"num_unique_values\": 4,\n        \"samples\": [\n          \"Rarely\",\n          \"Never\"\n        ],\n        \"semantic_type\": \"\",\n        \"description\": \"\"\n      }\n    },\n    {\n      \"column\": \"Do you feel anxious or stressed when you don't get enough likes or engagement on your posts?\",\n      \"properties\": {\n        \"dtype\": \"category\",\n        \"num_unique_values\": 3,\n        \"samples\": [\n          \"Sometimes\",\n          \"No\"\n        ],\n        \"semantic_type\": \"\",\n        \"description\": \"\"\n      }\n    },\n    {\n      \"column\": \"Which type of content do you engage with the most on social media?\",\n      \"properties\": {\n        \"dtype\": \"category\",\n        \"num_unique_values\": 63,\n        \"samples\": [\n          \"News and current events, Educational content, Health and wellness-related content, Cooking-related content\",\n          \"Entertainment(memes, funny videos), Inspirational and motivational posts, Educational content, Others\"\n        ],\n        \"semantic_type\": \"\",\n        \"description\": \"\"\n      }\n    },\n    {\n      \"column\": \"How satisfied are you with your social relationships outside of social media? \",\n      \"properties\": {\n        \"dtype\": \"number\",\n        \"std\": 2,\n        \"min\": 1,\n        \"max\": 10,\n        \"num_unique_values\": 10,\n        \"samples\": [\n          10,\n          2\n        ],\n        \"semantic_type\": \"\",\n        \"description\": \"\"\n      }\n    },\n    {\n      \"column\": \"Do u experience symptoms of anxiety (e.g., worry, nervousness, panic attacks)? \",\n      \"properties\": {\n        \"dtype\": \"category\",\n        \"num_unique_values\": 5,\n        \"samples\": [\n          \"Rarely\",\n          \"Never\"\n        ],\n        \"semantic_type\": \"\",\n        \"description\": \"\"\n      }\n    },\n    {\n      \"column\": \"On a scale of 1 to 10, how would you rate your overall mental health? \",\n      \"properties\": {\n        \"dtype\": \"number\",\n        \"std\": 2,\n        \"min\": 1,\n        \"max\": 10,\n        \"num_unique_values\": 10,\n        \"samples\": [\n          10,\n          8\n        ],\n        \"semantic_type\": \"\",\n        \"description\": \"\"\n      }\n    },\n    {\n      \"column\": \"Do you think life would be fundamentally different without social media?\",\n      \"properties\": {\n        \"dtype\": \"category\",\n        \"num_unique_values\": 2,\n        \"samples\": [\n          \"No\",\n          \"Yes\"\n        ],\n        \"semantic_type\": \"\",\n        \"description\": \"\"\n      }\n    },\n    {\n      \"column\": \"Email address\",\n      \"properties\": {\n        \"dtype\": \"string\",\n        \"num_unique_values\": 161,\n        \"samples\": [\n          \"jayasageesh@gmail.com\",\n          \"vaishnavimundirinti@gmail.com\"\n        ],\n        \"semantic_type\": \"\",\n        \"description\": \"\"\n      }\n    }\n  ]\n}"
            }
          },
          "metadata": {},
          "execution_count": 3
        }
      ],
      "source": [
        "df.head(5)"
      ]
    },
    {
      "cell_type": "code",
      "source": [],
      "metadata": {
        "id": "SWDFb_y6SGkd"
      },
      "execution_count": null,
      "outputs": []
    },
    {
      "cell_type": "code",
      "execution_count": null,
      "metadata": {
        "id": "SJz-09WbVgGC"
      },
      "outputs": [],
      "source": [
        "import matplotlib.pyplot as plt\n",
        "from sklearn.cluster import KMeans"
      ]
    },
    {
      "cell_type": "code",
      "source": [
        "%matplotlib inline\n",
        "from sklearn.preprocessing import MinMaxScaler"
      ],
      "metadata": {
        "id": "sYpXn0iHmxeg"
      },
      "execution_count": null,
      "outputs": []
    },
    {
      "cell_type": "code",
      "source": [
        "df.columns = df.columns.str.strip()\n"
      ],
      "metadata": {
        "id": "e2Dx7AxzoneN"
      },
      "execution_count": null,
      "outputs": []
    },
    {
      "cell_type": "code",
      "source": [
        "df_cleaned = df.dropna()"
      ],
      "metadata": {
        "id": "WEnkvVLJulE7"
      },
      "execution_count": null,
      "outputs": []
    },
    {
      "cell_type": "code",
      "source": [
        "xx=df_cleaned['How satisfied are you with your social relationships outside of social media?'].values.reshape(-1, 1)\n",
        "yy=df_cleaned['Do you often find yourself scrolling through social media feeds without a specific purpose?']\n",
        "yy.apply(lambda x: 1 if x== 'Yes' else 0)"
      ],
      "metadata": {
        "colab": {
          "base_uri": "https://localhost:8080/"
        },
        "id": "H0fx7k9LSNKF",
        "outputId": "0a1e55fb-92fd-479c-a3e5-fefe7797cf73"
      },
      "execution_count": null,
      "outputs": [
        {
          "output_type": "execute_result",
          "data": {
            "text/plain": [
              "71     1\n",
              "72     1\n",
              "73     1\n",
              "74     1\n",
              "75     1\n",
              "      ..\n",
              "238    1\n",
              "239    1\n",
              "240    1\n",
              "241    1\n",
              "242    1\n",
              "Name: Do you often find yourself scrolling through social media feeds without a specific purpose?, Length: 172, dtype: int64"
            ]
          },
          "metadata": {},
          "execution_count": 8
        }
      ]
    },
    {
      "cell_type": "code",
      "source": [
        "yy"
      ],
      "metadata": {
        "colab": {
          "base_uri": "https://localhost:8080/"
        },
        "id": "meZ5HKjFV4Vk",
        "outputId": "c8285935-80d0-4500-8c13-5874d3b8b447"
      },
      "execution_count": null,
      "outputs": [
        {
          "output_type": "execute_result",
          "data": {
            "text/plain": [
              "71     Yes\n",
              "72     Yes\n",
              "73     Yes\n",
              "74     Yes\n",
              "75     Yes\n",
              "      ... \n",
              "238    Yes\n",
              "239    Yes\n",
              "240    Yes\n",
              "241    Yes\n",
              "242    Yes\n",
              "Name: Do you often find yourself scrolling through social media feeds without a specific purpose?, Length: 172, dtype: object"
            ]
          },
          "metadata": {},
          "execution_count": 9
        }
      ]
    },
    {
      "cell_type": "code",
      "source": [
        "from sklearn.neighbors import KNeighborsClassifier\n",
        "neigh = KNeighborsClassifier(n_neighbors=3)\n",
        "neigh.fit(xx, yy)"
      ],
      "metadata": {
        "colab": {
          "base_uri": "https://localhost:8080/",
          "height": 74
        },
        "id": "Fwqu8cC8S8LO",
        "outputId": "0e45d85d-5b24-4c2c-beb7-59053028b8f1"
      },
      "execution_count": null,
      "outputs": [
        {
          "output_type": "execute_result",
          "data": {
            "text/plain": [
              "KNeighborsClassifier(n_neighbors=3)"
            ],
            "text/html": [
              "<style>#sk-container-id-1 {color: black;background-color: white;}#sk-container-id-1 pre{padding: 0;}#sk-container-id-1 div.sk-toggleable {background-color: white;}#sk-container-id-1 label.sk-toggleable__label {cursor: pointer;display: block;width: 100%;margin-bottom: 0;padding: 0.3em;box-sizing: border-box;text-align: center;}#sk-container-id-1 label.sk-toggleable__label-arrow:before {content: \"▸\";float: left;margin-right: 0.25em;color: #696969;}#sk-container-id-1 label.sk-toggleable__label-arrow:hover:before {color: black;}#sk-container-id-1 div.sk-estimator:hover label.sk-toggleable__label-arrow:before {color: black;}#sk-container-id-1 div.sk-toggleable__content {max-height: 0;max-width: 0;overflow: hidden;text-align: left;background-color: #f0f8ff;}#sk-container-id-1 div.sk-toggleable__content pre {margin: 0.2em;color: black;border-radius: 0.25em;background-color: #f0f8ff;}#sk-container-id-1 input.sk-toggleable__control:checked~div.sk-toggleable__content {max-height: 200px;max-width: 100%;overflow: auto;}#sk-container-id-1 input.sk-toggleable__control:checked~label.sk-toggleable__label-arrow:before {content: \"▾\";}#sk-container-id-1 div.sk-estimator input.sk-toggleable__control:checked~label.sk-toggleable__label {background-color: #d4ebff;}#sk-container-id-1 div.sk-label input.sk-toggleable__control:checked~label.sk-toggleable__label {background-color: #d4ebff;}#sk-container-id-1 input.sk-hidden--visually {border: 0;clip: rect(1px 1px 1px 1px);clip: rect(1px, 1px, 1px, 1px);height: 1px;margin: -1px;overflow: hidden;padding: 0;position: absolute;width: 1px;}#sk-container-id-1 div.sk-estimator {font-family: monospace;background-color: #f0f8ff;border: 1px dotted black;border-radius: 0.25em;box-sizing: border-box;margin-bottom: 0.5em;}#sk-container-id-1 div.sk-estimator:hover {background-color: #d4ebff;}#sk-container-id-1 div.sk-parallel-item::after {content: \"\";width: 100%;border-bottom: 1px solid gray;flex-grow: 1;}#sk-container-id-1 div.sk-label:hover label.sk-toggleable__label {background-color: #d4ebff;}#sk-container-id-1 div.sk-serial::before {content: \"\";position: absolute;border-left: 1px solid gray;box-sizing: border-box;top: 0;bottom: 0;left: 50%;z-index: 0;}#sk-container-id-1 div.sk-serial {display: flex;flex-direction: column;align-items: center;background-color: white;padding-right: 0.2em;padding-left: 0.2em;position: relative;}#sk-container-id-1 div.sk-item {position: relative;z-index: 1;}#sk-container-id-1 div.sk-parallel {display: flex;align-items: stretch;justify-content: center;background-color: white;position: relative;}#sk-container-id-1 div.sk-item::before, #sk-container-id-1 div.sk-parallel-item::before {content: \"\";position: absolute;border-left: 1px solid gray;box-sizing: border-box;top: 0;bottom: 0;left: 50%;z-index: -1;}#sk-container-id-1 div.sk-parallel-item {display: flex;flex-direction: column;z-index: 1;position: relative;background-color: white;}#sk-container-id-1 div.sk-parallel-item:first-child::after {align-self: flex-end;width: 50%;}#sk-container-id-1 div.sk-parallel-item:last-child::after {align-self: flex-start;width: 50%;}#sk-container-id-1 div.sk-parallel-item:only-child::after {width: 0;}#sk-container-id-1 div.sk-dashed-wrapped {border: 1px dashed gray;margin: 0 0.4em 0.5em 0.4em;box-sizing: border-box;padding-bottom: 0.4em;background-color: white;}#sk-container-id-1 div.sk-label label {font-family: monospace;font-weight: bold;display: inline-block;line-height: 1.2em;}#sk-container-id-1 div.sk-label-container {text-align: center;}#sk-container-id-1 div.sk-container {/* jupyter's `normalize.less` sets `[hidden] { display: none; }` but bootstrap.min.css set `[hidden] { display: none !important; }` so we also need the `!important` here to be able to override the default hidden behavior on the sphinx rendered scikit-learn.org. See: https://github.com/scikit-learn/scikit-learn/issues/21755 */display: inline-block !important;position: relative;}#sk-container-id-1 div.sk-text-repr-fallback {display: none;}</style><div id=\"sk-container-id-1\" class=\"sk-top-container\"><div class=\"sk-text-repr-fallback\"><pre>KNeighborsClassifier(n_neighbors=3)</pre><b>In a Jupyter environment, please rerun this cell to show the HTML representation or trust the notebook. <br />On GitHub, the HTML representation is unable to render, please try loading this page with nbviewer.org.</b></div><div class=\"sk-container\" hidden><div class=\"sk-item\"><div class=\"sk-estimator sk-toggleable\"><input class=\"sk-toggleable__control sk-hidden--visually\" id=\"sk-estimator-id-1\" type=\"checkbox\" checked><label for=\"sk-estimator-id-1\" class=\"sk-toggleable__label sk-toggleable__label-arrow\">KNeighborsClassifier</label><div class=\"sk-toggleable__content\"><pre>KNeighborsClassifier(n_neighbors=3)</pre></div></div></div></div></div>"
            ]
          },
          "metadata": {},
          "execution_count": 10
        }
      ]
    },
    {
      "cell_type": "code",
      "source": [
        "from sklearn.metrics import accuracy_score\n",
        "predictions = neigh.predict(xx)\n",
        "\n",
        "# Calculate and print accuracy\n",
        "accuracy = accuracy_score(yy, predictions)\n",
        "print(accuracy)\n"
      ],
      "metadata": {
        "colab": {
          "base_uri": "https://localhost:8080/"
        },
        "id": "l9nv2gLbXMgL",
        "outputId": "cebe0bb4-7263-42bf-9768-d70370f3d8d9"
      },
      "execution_count": null,
      "outputs": [
        {
          "output_type": "stream",
          "name": "stdout",
          "text": [
            "0.7209302325581395\n"
          ]
        }
      ]
    },
    {
      "cell_type": "code",
      "source": [
        "from sklearn.metrics import accuracy_score, precision_score, confusion_matrix\n"
      ],
      "metadata": {
        "id": "n6U9YS51YRu6"
      },
      "execution_count": null,
      "outputs": []
    },
    {
      "cell_type": "code",
      "source": [],
      "metadata": {
        "id": "nT11q2xhZKrO"
      },
      "execution_count": null,
      "outputs": []
    },
    {
      "cell_type": "code",
      "source": [
        "print(neigh.predict([[7]]))"
      ],
      "metadata": {
        "colab": {
          "base_uri": "https://localhost:8080/"
        },
        "id": "EXMRJdpaTRYU",
        "outputId": "830ba35a-b579-429a-8a39-61ae3901cf54"
      },
      "execution_count": null,
      "outputs": [
        {
          "output_type": "stream",
          "name": "stdout",
          "text": [
            "['No']\n"
          ]
        }
      ]
    },
    {
      "cell_type": "code",
      "source": [
        "print(neigh.predict([[3]]))"
      ],
      "metadata": {
        "colab": {
          "base_uri": "https://localhost:8080/"
        },
        "id": "_pWCLBPkWpFi",
        "outputId": "174f15aa-ffbe-4f22-ec66-39e6f819960e"
      },
      "execution_count": null,
      "outputs": [
        {
          "output_type": "stream",
          "name": "stdout",
          "text": [
            "['Yes']\n"
          ]
        }
      ]
    },
    {
      "cell_type": "code",
      "source": [],
      "metadata": {
        "id": "syQECxDFWugd"
      },
      "execution_count": null,
      "outputs": []
    },
    {
      "cell_type": "code",
      "source": [
        "km=KMeans(n_clusters=2)\n",
        "km"
      ],
      "metadata": {
        "colab": {
          "base_uri": "https://localhost:8080/",
          "height": 74
        },
        "id": "616sPYMbpuRC",
        "outputId": "99570f5a-4565-415b-cf5f-3b91b4a2c727"
      },
      "execution_count": null,
      "outputs": [
        {
          "output_type": "execute_result",
          "data": {
            "text/plain": [
              "KMeans(n_clusters=2)"
            ],
            "text/html": [
              "<style>#sk-container-id-2 {color: black;background-color: white;}#sk-container-id-2 pre{padding: 0;}#sk-container-id-2 div.sk-toggleable {background-color: white;}#sk-container-id-2 label.sk-toggleable__label {cursor: pointer;display: block;width: 100%;margin-bottom: 0;padding: 0.3em;box-sizing: border-box;text-align: center;}#sk-container-id-2 label.sk-toggleable__label-arrow:before {content: \"▸\";float: left;margin-right: 0.25em;color: #696969;}#sk-container-id-2 label.sk-toggleable__label-arrow:hover:before {color: black;}#sk-container-id-2 div.sk-estimator:hover label.sk-toggleable__label-arrow:before {color: black;}#sk-container-id-2 div.sk-toggleable__content {max-height: 0;max-width: 0;overflow: hidden;text-align: left;background-color: #f0f8ff;}#sk-container-id-2 div.sk-toggleable__content pre {margin: 0.2em;color: black;border-radius: 0.25em;background-color: #f0f8ff;}#sk-container-id-2 input.sk-toggleable__control:checked~div.sk-toggleable__content {max-height: 200px;max-width: 100%;overflow: auto;}#sk-container-id-2 input.sk-toggleable__control:checked~label.sk-toggleable__label-arrow:before {content: \"▾\";}#sk-container-id-2 div.sk-estimator input.sk-toggleable__control:checked~label.sk-toggleable__label {background-color: #d4ebff;}#sk-container-id-2 div.sk-label input.sk-toggleable__control:checked~label.sk-toggleable__label {background-color: #d4ebff;}#sk-container-id-2 input.sk-hidden--visually {border: 0;clip: rect(1px 1px 1px 1px);clip: rect(1px, 1px, 1px, 1px);height: 1px;margin: -1px;overflow: hidden;padding: 0;position: absolute;width: 1px;}#sk-container-id-2 div.sk-estimator {font-family: monospace;background-color: #f0f8ff;border: 1px dotted black;border-radius: 0.25em;box-sizing: border-box;margin-bottom: 0.5em;}#sk-container-id-2 div.sk-estimator:hover {background-color: #d4ebff;}#sk-container-id-2 div.sk-parallel-item::after {content: \"\";width: 100%;border-bottom: 1px solid gray;flex-grow: 1;}#sk-container-id-2 div.sk-label:hover label.sk-toggleable__label {background-color: #d4ebff;}#sk-container-id-2 div.sk-serial::before {content: \"\";position: absolute;border-left: 1px solid gray;box-sizing: border-box;top: 0;bottom: 0;left: 50%;z-index: 0;}#sk-container-id-2 div.sk-serial {display: flex;flex-direction: column;align-items: center;background-color: white;padding-right: 0.2em;padding-left: 0.2em;position: relative;}#sk-container-id-2 div.sk-item {position: relative;z-index: 1;}#sk-container-id-2 div.sk-parallel {display: flex;align-items: stretch;justify-content: center;background-color: white;position: relative;}#sk-container-id-2 div.sk-item::before, #sk-container-id-2 div.sk-parallel-item::before {content: \"\";position: absolute;border-left: 1px solid gray;box-sizing: border-box;top: 0;bottom: 0;left: 50%;z-index: -1;}#sk-container-id-2 div.sk-parallel-item {display: flex;flex-direction: column;z-index: 1;position: relative;background-color: white;}#sk-container-id-2 div.sk-parallel-item:first-child::after {align-self: flex-end;width: 50%;}#sk-container-id-2 div.sk-parallel-item:last-child::after {align-self: flex-start;width: 50%;}#sk-container-id-2 div.sk-parallel-item:only-child::after {width: 0;}#sk-container-id-2 div.sk-dashed-wrapped {border: 1px dashed gray;margin: 0 0.4em 0.5em 0.4em;box-sizing: border-box;padding-bottom: 0.4em;background-color: white;}#sk-container-id-2 div.sk-label label {font-family: monospace;font-weight: bold;display: inline-block;line-height: 1.2em;}#sk-container-id-2 div.sk-label-container {text-align: center;}#sk-container-id-2 div.sk-container {/* jupyter's `normalize.less` sets `[hidden] { display: none; }` but bootstrap.min.css set `[hidden] { display: none !important; }` so we also need the `!important` here to be able to override the default hidden behavior on the sphinx rendered scikit-learn.org. See: https://github.com/scikit-learn/scikit-learn/issues/21755 */display: inline-block !important;position: relative;}#sk-container-id-2 div.sk-text-repr-fallback {display: none;}</style><div id=\"sk-container-id-2\" class=\"sk-top-container\"><div class=\"sk-text-repr-fallback\"><pre>KMeans(n_clusters=2)</pre><b>In a Jupyter environment, please rerun this cell to show the HTML representation or trust the notebook. <br />On GitHub, the HTML representation is unable to render, please try loading this page with nbviewer.org.</b></div><div class=\"sk-container\" hidden><div class=\"sk-item\"><div class=\"sk-estimator sk-toggleable\"><input class=\"sk-toggleable__control sk-hidden--visually\" id=\"sk-estimator-id-2\" type=\"checkbox\" checked><label for=\"sk-estimator-id-2\" class=\"sk-toggleable__label sk-toggleable__label-arrow\">KMeans</label><div class=\"sk-toggleable__content\"><pre>KMeans(n_clusters=2)</pre></div></div></div></div></div>"
            ]
          },
          "metadata": {},
          "execution_count": 15
        }
      ]
    },
    {
      "cell_type": "code",
      "source": [
        "\n",
        "\n",
        "# Now apply KMeans clustering on the cleaned DataFrame\n",
        "predicted = km.fit_predict(df_cleaned[['How satisfied are you with your social relationships outside of social media?', 'On a scale of 1 to 10, how would you rate your overall mental health?']])\n"
      ],
      "metadata": {
        "colab": {
          "base_uri": "https://localhost:8080/"
        },
        "id": "QflIzQ0mqg7P",
        "outputId": "99b65a55-4143-428a-e174-8618da86c378"
      },
      "execution_count": null,
      "outputs": [
        {
          "output_type": "stream",
          "name": "stderr",
          "text": [
            "/usr/local/lib/python3.10/dist-packages/sklearn/cluster/_kmeans.py:870: FutureWarning: The default value of `n_init` will change from 10 to 'auto' in 1.4. Set the value of `n_init` explicitly to suppress the warning\n",
            "  warnings.warn(\n"
          ]
        }
      ]
    },
    {
      "cell_type": "code",
      "source": [
        "df_cleaned['cluster']=predicted\n",
        "df_cleaned.head()\n"
      ],
      "metadata": {
        "colab": {
          "base_uri": "https://localhost:8080/",
          "height": 798
        },
        "id": "L5LvtvDdq5qX",
        "outputId": "3cc971d2-8ce6-44af-95eb-733dcdedc661"
      },
      "execution_count": null,
      "outputs": [
        {
          "output_type": "stream",
          "name": "stderr",
          "text": [
            "<ipython-input-17-8317f56ea823>:1: SettingWithCopyWarning: \n",
            "A value is trying to be set on a copy of a slice from a DataFrame.\n",
            "Try using .loc[row_indexer,col_indexer] = value instead\n",
            "\n",
            "See the caveats in the documentation: https://pandas.pydata.org/pandas-docs/stable/user_guide/indexing.html#returning-a-view-versus-a-copy\n",
            "  df_cleaned['cluster']=predicted\n"
          ]
        },
        {
          "output_type": "execute_result",
          "data": {
            "text/plain": [
              "           Timestamp           Name  Age  Gender Profession  \\\n",
              "71  18-04-2024 18:12  Arpita singh    19  Female    Student   \n",
              "72  18-04-2024 18:42     Ayush rout   17    Male    Student   \n",
              "73  18-04-2024 18:44        Ashish    17    Male    Student   \n",
              "74  18-04-2024 18:55        Dishita   20  Female    Student   \n",
              "75  18-04-2024 19:35  Aastha Sharma   20  Female    Student   \n",
              "\n",
              "   On average, how many hours per day do you spend on social media?  \\\n",
              "71                                          4-7 hours                 \n",
              "72                                   Less than 1 hour                 \n",
              "73                                          4-7 hours                 \n",
              "74                                          1-4 hours                 \n",
              "75                                  More than 7 hours                 \n",
              "\n",
              "         Which social media app do you use the most?  \\\n",
              "71                      Instagram, Snapchat, Youtube   \n",
              "72                                 Whatsapp, Youtube   \n",
              "73                                 Whatsapp, Youtube   \n",
              "74                               Instagram, Whatsapp   \n",
              "75  Instagram, Facebook, Snapchat, Whatsapp, Youtube   \n",
              "\n",
              "   Do you use Social media just before going to bed and just after waking up?  \\\n",
              "71                                Yes, both the times                           \n",
              "72                                Yes, both the times                           \n",
              "73                                               Nope                           \n",
              "74                                Yes, both the times                           \n",
              "75                           Only before going to bed                           \n",
              "\n",
              "   Do you often find yourself scrolling through social media feeds without a specific purpose?  \\\n",
              "71                                                Yes                                            \n",
              "72                                                Yes                                            \n",
              "73                                                Yes                                            \n",
              "74                                                Yes                                            \n",
              "75                                                Yes                                            \n",
              "\n",
              "   Do you ever feel like your achievements aren't as good as what you see on social media?  \\\n",
              "71                                                Yes                                        \n",
              "72                                                Yes                                        \n",
              "73                                                 No                                        \n",
              "74                                                Yes                                        \n",
              "75                                                 No                                        \n",
              "\n",
              "   How often do you encounter negative content (e.g., cyberbullying, distressing news) on social media?  \\\n",
              "71                                          Sometimes                                                     \n",
              "72                                              Often                                                     \n",
              "73                                          Sometimes                                                     \n",
              "74                                          Sometimes                                                     \n",
              "75                                              Often                                                     \n",
              "\n",
              "   Do you feel anxious or stressed when you don't get enough likes or engagement on your posts?  \\\n",
              "71                                                 No                                             \n",
              "72                                                 No                                             \n",
              "73                                                 No                                             \n",
              "74                                                 No                                             \n",
              "75                                                 No                                             \n",
              "\n",
              "   Which type of content do you engage with the most on social media?  \\\n",
              "71                 Entertainment(memes, funny videos)                   \n",
              "72  Entertainment(memes, funny videos), Cooking-re...                   \n",
              "73  Entertainment(memes, funny videos), Cooking-re...                   \n",
              "74  Entertainment(memes, funny videos), Health and...                   \n",
              "75  Entertainment(memes, funny videos), Inspiratio...                   \n",
              "\n",
              "    How satisfied are you with your social relationships outside of social media?  \\\n",
              "71                                                  2                               \n",
              "72                                                  2                               \n",
              "73                                                  2                               \n",
              "74                                                  2                               \n",
              "75                                                  2                               \n",
              "\n",
              "   Do u experience symptoms of anxiety (e.g., worry, nervousness, panic attacks)?  \\\n",
              "71                                             Weekly                               \n",
              "72                                            Monthly                               \n",
              "73                                            Monthly                               \n",
              "74                                            Monthly                               \n",
              "75                                              Daily                               \n",
              "\n",
              "    On a scale of 1 to 10, how would you rate your overall mental health?  \\\n",
              "71                                                  3                       \n",
              "72                                                  4                       \n",
              "73                                                  1                       \n",
              "74                                                  6                       \n",
              "75                                                  5                       \n",
              "\n",
              "   Do you think life would be fundamentally different without social media?  \\\n",
              "71                                                Yes                         \n",
              "72                                                Yes                         \n",
              "73                                                Yes                         \n",
              "74                                                Yes                         \n",
              "75                                                Yes                         \n",
              "\n",
              "                Email address  cluster  \n",
              "71     arpitaaa0211@gmail.com        1  \n",
              "72  masterayushrout@gmail.com        1  \n",
              "73  ayushashishrout@gmail.com        1  \n",
              "74      dishitanagi@gmail.com        1  \n",
              "75     urvichawla21@gmail.com        1  "
            ],
            "text/html": [
              "\n",
              "  <div id=\"df-81eaa245-5699-4ac7-bba6-46983bd64bd9\" class=\"colab-df-container\">\n",
              "    <div>\n",
              "<style scoped>\n",
              "    .dataframe tbody tr th:only-of-type {\n",
              "        vertical-align: middle;\n",
              "    }\n",
              "\n",
              "    .dataframe tbody tr th {\n",
              "        vertical-align: top;\n",
              "    }\n",
              "\n",
              "    .dataframe thead th {\n",
              "        text-align: right;\n",
              "    }\n",
              "</style>\n",
              "<table border=\"1\" class=\"dataframe\">\n",
              "  <thead>\n",
              "    <tr style=\"text-align: right;\">\n",
              "      <th></th>\n",
              "      <th>Timestamp</th>\n",
              "      <th>Name</th>\n",
              "      <th>Age</th>\n",
              "      <th>Gender</th>\n",
              "      <th>Profession</th>\n",
              "      <th>On average, how many hours per day do you spend on social media?</th>\n",
              "      <th>Which social media app do you use the most?</th>\n",
              "      <th>Do you use Social media just before going to bed and just after waking up?</th>\n",
              "      <th>Do you often find yourself scrolling through social media feeds without a specific purpose?</th>\n",
              "      <th>Do you ever feel like your achievements aren't as good as what you see on social media?</th>\n",
              "      <th>How often do you encounter negative content (e.g., cyberbullying, distressing news) on social media?</th>\n",
              "      <th>Do you feel anxious or stressed when you don't get enough likes or engagement on your posts?</th>\n",
              "      <th>Which type of content do you engage with the most on social media?</th>\n",
              "      <th>How satisfied are you with your social relationships outside of social media?</th>\n",
              "      <th>Do u experience symptoms of anxiety (e.g., worry, nervousness, panic attacks)?</th>\n",
              "      <th>On a scale of 1 to 10, how would you rate your overall mental health?</th>\n",
              "      <th>Do you think life would be fundamentally different without social media?</th>\n",
              "      <th>Email address</th>\n",
              "      <th>cluster</th>\n",
              "    </tr>\n",
              "  </thead>\n",
              "  <tbody>\n",
              "    <tr>\n",
              "      <th>71</th>\n",
              "      <td>18-04-2024 18:12</td>\n",
              "      <td>Arpita singh</td>\n",
              "      <td>19</td>\n",
              "      <td>Female</td>\n",
              "      <td>Student</td>\n",
              "      <td>4-7 hours</td>\n",
              "      <td>Instagram, Snapchat, Youtube</td>\n",
              "      <td>Yes, both the times</td>\n",
              "      <td>Yes</td>\n",
              "      <td>Yes</td>\n",
              "      <td>Sometimes</td>\n",
              "      <td>No</td>\n",
              "      <td>Entertainment(memes, funny videos)</td>\n",
              "      <td>2</td>\n",
              "      <td>Weekly</td>\n",
              "      <td>3</td>\n",
              "      <td>Yes</td>\n",
              "      <td>arpitaaa0211@gmail.com</td>\n",
              "      <td>1</td>\n",
              "    </tr>\n",
              "    <tr>\n",
              "      <th>72</th>\n",
              "      <td>18-04-2024 18:42</td>\n",
              "      <td>Ayush rout</td>\n",
              "      <td>17</td>\n",
              "      <td>Male</td>\n",
              "      <td>Student</td>\n",
              "      <td>Less than 1 hour</td>\n",
              "      <td>Whatsapp, Youtube</td>\n",
              "      <td>Yes, both the times</td>\n",
              "      <td>Yes</td>\n",
              "      <td>Yes</td>\n",
              "      <td>Often</td>\n",
              "      <td>No</td>\n",
              "      <td>Entertainment(memes, funny videos), Cooking-re...</td>\n",
              "      <td>2</td>\n",
              "      <td>Monthly</td>\n",
              "      <td>4</td>\n",
              "      <td>Yes</td>\n",
              "      <td>masterayushrout@gmail.com</td>\n",
              "      <td>1</td>\n",
              "    </tr>\n",
              "    <tr>\n",
              "      <th>73</th>\n",
              "      <td>18-04-2024 18:44</td>\n",
              "      <td>Ashish</td>\n",
              "      <td>17</td>\n",
              "      <td>Male</td>\n",
              "      <td>Student</td>\n",
              "      <td>4-7 hours</td>\n",
              "      <td>Whatsapp, Youtube</td>\n",
              "      <td>Nope</td>\n",
              "      <td>Yes</td>\n",
              "      <td>No</td>\n",
              "      <td>Sometimes</td>\n",
              "      <td>No</td>\n",
              "      <td>Entertainment(memes, funny videos), Cooking-re...</td>\n",
              "      <td>2</td>\n",
              "      <td>Monthly</td>\n",
              "      <td>1</td>\n",
              "      <td>Yes</td>\n",
              "      <td>ayushashishrout@gmail.com</td>\n",
              "      <td>1</td>\n",
              "    </tr>\n",
              "    <tr>\n",
              "      <th>74</th>\n",
              "      <td>18-04-2024 18:55</td>\n",
              "      <td>Dishita</td>\n",
              "      <td>20</td>\n",
              "      <td>Female</td>\n",
              "      <td>Student</td>\n",
              "      <td>1-4 hours</td>\n",
              "      <td>Instagram, Whatsapp</td>\n",
              "      <td>Yes, both the times</td>\n",
              "      <td>Yes</td>\n",
              "      <td>Yes</td>\n",
              "      <td>Sometimes</td>\n",
              "      <td>No</td>\n",
              "      <td>Entertainment(memes, funny videos), Health and...</td>\n",
              "      <td>2</td>\n",
              "      <td>Monthly</td>\n",
              "      <td>6</td>\n",
              "      <td>Yes</td>\n",
              "      <td>dishitanagi@gmail.com</td>\n",
              "      <td>1</td>\n",
              "    </tr>\n",
              "    <tr>\n",
              "      <th>75</th>\n",
              "      <td>18-04-2024 19:35</td>\n",
              "      <td>Aastha Sharma</td>\n",
              "      <td>20</td>\n",
              "      <td>Female</td>\n",
              "      <td>Student</td>\n",
              "      <td>More than 7 hours</td>\n",
              "      <td>Instagram, Facebook, Snapchat, Whatsapp, Youtube</td>\n",
              "      <td>Only before going to bed</td>\n",
              "      <td>Yes</td>\n",
              "      <td>No</td>\n",
              "      <td>Often</td>\n",
              "      <td>No</td>\n",
              "      <td>Entertainment(memes, funny videos), Inspiratio...</td>\n",
              "      <td>2</td>\n",
              "      <td>Daily</td>\n",
              "      <td>5</td>\n",
              "      <td>Yes</td>\n",
              "      <td>urvichawla21@gmail.com</td>\n",
              "      <td>1</td>\n",
              "    </tr>\n",
              "  </tbody>\n",
              "</table>\n",
              "</div>\n",
              "    <div class=\"colab-df-buttons\">\n",
              "\n",
              "  <div class=\"colab-df-container\">\n",
              "    <button class=\"colab-df-convert\" onclick=\"convertToInteractive('df-81eaa245-5699-4ac7-bba6-46983bd64bd9')\"\n",
              "            title=\"Convert this dataframe to an interactive table.\"\n",
              "            style=\"display:none;\">\n",
              "\n",
              "  <svg xmlns=\"http://www.w3.org/2000/svg\" height=\"24px\" viewBox=\"0 -960 960 960\">\n",
              "    <path d=\"M120-120v-720h720v720H120Zm60-500h600v-160H180v160Zm220 220h160v-160H400v160Zm0 220h160v-160H400v160ZM180-400h160v-160H180v160Zm440 0h160v-160H620v160ZM180-180h160v-160H180v160Zm440 0h160v-160H620v160Z\"/>\n",
              "  </svg>\n",
              "    </button>\n",
              "\n",
              "  <style>\n",
              "    .colab-df-container {\n",
              "      display:flex;\n",
              "      gap: 12px;\n",
              "    }\n",
              "\n",
              "    .colab-df-convert {\n",
              "      background-color: #E8F0FE;\n",
              "      border: none;\n",
              "      border-radius: 50%;\n",
              "      cursor: pointer;\n",
              "      display: none;\n",
              "      fill: #1967D2;\n",
              "      height: 32px;\n",
              "      padding: 0 0 0 0;\n",
              "      width: 32px;\n",
              "    }\n",
              "\n",
              "    .colab-df-convert:hover {\n",
              "      background-color: #E2EBFA;\n",
              "      box-shadow: 0px 1px 2px rgba(60, 64, 67, 0.3), 0px 1px 3px 1px rgba(60, 64, 67, 0.15);\n",
              "      fill: #174EA6;\n",
              "    }\n",
              "\n",
              "    .colab-df-buttons div {\n",
              "      margin-bottom: 4px;\n",
              "    }\n",
              "\n",
              "    [theme=dark] .colab-df-convert {\n",
              "      background-color: #3B4455;\n",
              "      fill: #D2E3FC;\n",
              "    }\n",
              "\n",
              "    [theme=dark] .colab-df-convert:hover {\n",
              "      background-color: #434B5C;\n",
              "      box-shadow: 0px 1px 3px 1px rgba(0, 0, 0, 0.15);\n",
              "      filter: drop-shadow(0px 1px 2px rgba(0, 0, 0, 0.3));\n",
              "      fill: #FFFFFF;\n",
              "    }\n",
              "  </style>\n",
              "\n",
              "    <script>\n",
              "      const buttonEl =\n",
              "        document.querySelector('#df-81eaa245-5699-4ac7-bba6-46983bd64bd9 button.colab-df-convert');\n",
              "      buttonEl.style.display =\n",
              "        google.colab.kernel.accessAllowed ? 'block' : 'none';\n",
              "\n",
              "      async function convertToInteractive(key) {\n",
              "        const element = document.querySelector('#df-81eaa245-5699-4ac7-bba6-46983bd64bd9');\n",
              "        const dataTable =\n",
              "          await google.colab.kernel.invokeFunction('convertToInteractive',\n",
              "                                                    [key], {});\n",
              "        if (!dataTable) return;\n",
              "\n",
              "        const docLinkHtml = 'Like what you see? Visit the ' +\n",
              "          '<a target=\"_blank\" href=https://colab.research.google.com/notebooks/data_table.ipynb>data table notebook</a>'\n",
              "          + ' to learn more about interactive tables.';\n",
              "        element.innerHTML = '';\n",
              "        dataTable['output_type'] = 'display_data';\n",
              "        await google.colab.output.renderOutput(dataTable, element);\n",
              "        const docLink = document.createElement('div');\n",
              "        docLink.innerHTML = docLinkHtml;\n",
              "        element.appendChild(docLink);\n",
              "      }\n",
              "    </script>\n",
              "  </div>\n",
              "\n",
              "\n",
              "<div id=\"df-3e34282e-5c55-4d34-803f-4393b1e77e69\">\n",
              "  <button class=\"colab-df-quickchart\" onclick=\"quickchart('df-3e34282e-5c55-4d34-803f-4393b1e77e69')\"\n",
              "            title=\"Suggest charts\"\n",
              "            style=\"display:none;\">\n",
              "\n",
              "<svg xmlns=\"http://www.w3.org/2000/svg\" height=\"24px\"viewBox=\"0 0 24 24\"\n",
              "     width=\"24px\">\n",
              "    <g>\n",
              "        <path d=\"M19 3H5c-1.1 0-2 .9-2 2v14c0 1.1.9 2 2 2h14c1.1 0 2-.9 2-2V5c0-1.1-.9-2-2-2zM9 17H7v-7h2v7zm4 0h-2V7h2v10zm4 0h-2v-4h2v4z\"/>\n",
              "    </g>\n",
              "</svg>\n",
              "  </button>\n",
              "\n",
              "<style>\n",
              "  .colab-df-quickchart {\n",
              "      --bg-color: #E8F0FE;\n",
              "      --fill-color: #1967D2;\n",
              "      --hover-bg-color: #E2EBFA;\n",
              "      --hover-fill-color: #174EA6;\n",
              "      --disabled-fill-color: #AAA;\n",
              "      --disabled-bg-color: #DDD;\n",
              "  }\n",
              "\n",
              "  [theme=dark] .colab-df-quickchart {\n",
              "      --bg-color: #3B4455;\n",
              "      --fill-color: #D2E3FC;\n",
              "      --hover-bg-color: #434B5C;\n",
              "      --hover-fill-color: #FFFFFF;\n",
              "      --disabled-bg-color: #3B4455;\n",
              "      --disabled-fill-color: #666;\n",
              "  }\n",
              "\n",
              "  .colab-df-quickchart {\n",
              "    background-color: var(--bg-color);\n",
              "    border: none;\n",
              "    border-radius: 50%;\n",
              "    cursor: pointer;\n",
              "    display: none;\n",
              "    fill: var(--fill-color);\n",
              "    height: 32px;\n",
              "    padding: 0;\n",
              "    width: 32px;\n",
              "  }\n",
              "\n",
              "  .colab-df-quickchart:hover {\n",
              "    background-color: var(--hover-bg-color);\n",
              "    box-shadow: 0 1px 2px rgba(60, 64, 67, 0.3), 0 1px 3px 1px rgba(60, 64, 67, 0.15);\n",
              "    fill: var(--button-hover-fill-color);\n",
              "  }\n",
              "\n",
              "  .colab-df-quickchart-complete:disabled,\n",
              "  .colab-df-quickchart-complete:disabled:hover {\n",
              "    background-color: var(--disabled-bg-color);\n",
              "    fill: var(--disabled-fill-color);\n",
              "    box-shadow: none;\n",
              "  }\n",
              "\n",
              "  .colab-df-spinner {\n",
              "    border: 2px solid var(--fill-color);\n",
              "    border-color: transparent;\n",
              "    border-bottom-color: var(--fill-color);\n",
              "    animation:\n",
              "      spin 1s steps(1) infinite;\n",
              "  }\n",
              "\n",
              "  @keyframes spin {\n",
              "    0% {\n",
              "      border-color: transparent;\n",
              "      border-bottom-color: var(--fill-color);\n",
              "      border-left-color: var(--fill-color);\n",
              "    }\n",
              "    20% {\n",
              "      border-color: transparent;\n",
              "      border-left-color: var(--fill-color);\n",
              "      border-top-color: var(--fill-color);\n",
              "    }\n",
              "    30% {\n",
              "      border-color: transparent;\n",
              "      border-left-color: var(--fill-color);\n",
              "      border-top-color: var(--fill-color);\n",
              "      border-right-color: var(--fill-color);\n",
              "    }\n",
              "    40% {\n",
              "      border-color: transparent;\n",
              "      border-right-color: var(--fill-color);\n",
              "      border-top-color: var(--fill-color);\n",
              "    }\n",
              "    60% {\n",
              "      border-color: transparent;\n",
              "      border-right-color: var(--fill-color);\n",
              "    }\n",
              "    80% {\n",
              "      border-color: transparent;\n",
              "      border-right-color: var(--fill-color);\n",
              "      border-bottom-color: var(--fill-color);\n",
              "    }\n",
              "    90% {\n",
              "      border-color: transparent;\n",
              "      border-bottom-color: var(--fill-color);\n",
              "    }\n",
              "  }\n",
              "</style>\n",
              "\n",
              "  <script>\n",
              "    async function quickchart(key) {\n",
              "      const quickchartButtonEl =\n",
              "        document.querySelector('#' + key + ' button');\n",
              "      quickchartButtonEl.disabled = true;  // To prevent multiple clicks.\n",
              "      quickchartButtonEl.classList.add('colab-df-spinner');\n",
              "      try {\n",
              "        const charts = await google.colab.kernel.invokeFunction(\n",
              "            'suggestCharts', [key], {});\n",
              "      } catch (error) {\n",
              "        console.error('Error during call to suggestCharts:', error);\n",
              "      }\n",
              "      quickchartButtonEl.classList.remove('colab-df-spinner');\n",
              "      quickchartButtonEl.classList.add('colab-df-quickchart-complete');\n",
              "    }\n",
              "    (() => {\n",
              "      let quickchartButtonEl =\n",
              "        document.querySelector('#df-3e34282e-5c55-4d34-803f-4393b1e77e69 button');\n",
              "      quickchartButtonEl.style.display =\n",
              "        google.colab.kernel.accessAllowed ? 'block' : 'none';\n",
              "    })();\n",
              "  </script>\n",
              "</div>\n",
              "\n",
              "    </div>\n",
              "  </div>\n"
            ],
            "application/vnd.google.colaboratory.intrinsic+json": {
              "type": "dataframe",
              "variable_name": "df_cleaned",
              "repr_error": "0"
            }
          },
          "metadata": {},
          "execution_count": 17
        }
      ]
    },
    {
      "cell_type": "code",
      "source": [
        "predicted"
      ],
      "metadata": {
        "colab": {
          "base_uri": "https://localhost:8080/"
        },
        "id": "_2p1xuU4ry7k",
        "outputId": "22707642-84e8-45fc-a252-1b1fa5ffa086"
      },
      "execution_count": null,
      "outputs": [
        {
          "output_type": "execute_result",
          "data": {
            "text/plain": [
              "array([1, 1, 1, 1, 1, 1, 1, 1, 1, 0, 1, 1, 1, 1, 1, 1, 1, 1, 1, 1, 1, 1,\n",
              "       1, 1, 1, 1, 1, 1, 1, 1, 1, 1, 1, 1, 1, 0, 0, 1, 1, 1, 0, 1, 1, 1,\n",
              "       1, 1, 1, 0, 1, 0, 0, 0, 0, 0, 0, 0, 0, 0, 0, 0, 1, 0, 0, 0, 0, 0,\n",
              "       1, 0, 0, 0, 0, 0, 0, 1, 0, 1, 0, 0, 1, 0, 0, 0, 0, 0, 0, 1, 1, 0,\n",
              "       0, 1, 0, 1, 0, 0, 0, 0, 0, 1, 0, 0, 1, 0, 1, 0, 0, 0, 1, 0, 0, 1,\n",
              "       1, 1, 0, 0, 0, 0, 1, 0, 1, 0, 0, 0, 0, 0, 1, 0, 0, 0, 1, 0, 0, 0,\n",
              "       0, 0, 0, 0, 0, 0, 1, 0, 1, 0, 0, 0, 0, 0, 0, 0, 0, 0, 0, 0, 0, 1,\n",
              "       0, 1, 0, 0, 0, 0, 0, 0, 0, 1, 1, 1, 1, 1, 1, 1, 1, 1], dtype=int32)"
            ]
          },
          "metadata": {},
          "execution_count": 18
        }
      ]
    },
    {
      "cell_type": "code",
      "source": [
        "km.cluster_centers_"
      ],
      "metadata": {
        "id": "geSuDbrvw7yo",
        "outputId": "c5e6fbf9-fa31-43f9-8f8d-bdffedc389fa",
        "colab": {
          "base_uri": "https://localhost:8080/"
        }
      },
      "execution_count": null,
      "outputs": [
        {
          "output_type": "execute_result",
          "data": {
            "text/plain": [
              "array([[7.70526316, 7.2       ],\n",
              "       [3.23376623, 2.75324675]])"
            ]
          },
          "metadata": {},
          "execution_count": 19
        }
      ]
    },
    {
      "cell_type": "code",
      "source": [
        "df1=df_cleaned[df_cleaned.cluster==0]\n",
        "df2=df_cleaned[df_cleaned.cluster==1]\n",
        "\n",
        "plt.scatter(df1['How satisfied are you with your social relationships outside of social media?'],df1['On a scale of 1 to 10, how would you rate your overall mental health?'],color='green')\n",
        "plt.scatter(df2['How satisfied are you with your social relationships outside of social media?'],df2['On a scale of 1 to 10, how would you rate your overall mental health?'],color='red')\n",
        "#plt.scatter(df3['How satisfied are you with your social relationships outside of social media?'],df3['On a scale of 1 to 10, how would you rate your overall mental health?'],color='black')\n",
        "plt.xlabel('Satisfaction with social relationship outside social media')\n",
        "plt.ylabel('Overall mental health')\n",
        "plt.legend()"
      ],
      "metadata": {
        "colab": {
          "base_uri": "https://localhost:8080/",
          "height": 504
        },
        "id": "XqGYLQxKr11R",
        "outputId": "2c38c10f-b7e7-44c2-cd5e-19c84cb14dec"
      },
      "execution_count": null,
      "outputs": [
        {
          "output_type": "stream",
          "name": "stderr",
          "text": [
            "WARNING:matplotlib.legend:No artists with labels found to put in legend.  Note that artists whose label start with an underscore are ignored when legend() is called with no argument.\n"
          ]
        },
        {
          "output_type": "execute_result",
          "data": {
            "text/plain": [
              "<matplotlib.legend.Legend at 0x7d5f64580fd0>"
            ]
          },
          "metadata": {},
          "execution_count": 20
        },
        {
          "output_type": "display_data",
          "data": {
            "text/plain": [
              "<Figure size 640x480 with 1 Axes>"
            ],
            "image/png": "[encoded data removed]"
          },
          "metadata": {}
        }
      ]
    },
    {
      "cell_type": "code",
      "source": [
        "predicted=km.fit_predict(df[['How satisfied are you with your social relationships outside of social media?','On a scale of 1 to 10, how would you rate your overall mental health?']])"
      ],
      "metadata": {
        "colab": {
          "base_uri": "https://localhost:8080/",
          "height": 391
        },
        "id": "rxazbnhjpDKJ",
        "outputId": "86e6b812-e29c-4c88-db6f-511b22ca3c1e"
      },
      "execution_count": null,
      "outputs": [
        {
          "output_type": "error",
          "ename": "ValueError",
          "evalue": "Input X contains NaN.\nKMeans does not accept missing values encoded as NaN natively. For supervised learning, you might want to consider sklearn.ensemble.HistGradientBoostingClassifier and Regressor which accept missing values encoded as NaNs natively. Alternatively, it is possible to preprocess the data, for instance by using an imputer transformer in a pipeline or drop samples with missing values. See https://scikit-learn.org/stable/modules/impute.html You can find a list of all estimators that handle NaN values at the following page: https://scikit-learn.org/stable/modules/impute.html#estimators-that-handle-nan-values",
          "traceback": [
            "\u001b[0;31m---------------------------------------------------------------------------\u001b[0m",
            "\u001b[0;31mValueError\u001b[0m                                Traceback (most recent call last)",
            "\u001b[0;32m<ipython-input-33-eb76bdadb54e>\u001b[0m in \u001b[0;36m<cell line: 1>\u001b[0;34m()\u001b[0m\n\u001b[0;32m----> 1\u001b[0;31m \u001b[0mpredicted\u001b[0m\u001b[0;34m=\u001b[0m\u001b[0mkm\u001b[0m\u001b[0;34m.\u001b[0m\u001b[0mfit_predict\u001b[0m\u001b[0;34m(\u001b[0m\u001b[0mdf\u001b[0m\u001b[0;34m[\u001b[0m\u001b[0;34m[\u001b[0m\u001b[0;34m'How satisfied are you with your social relationships outside of social media?'\u001b[0m\u001b[0;34m,\u001b[0m\u001b[0;34m'On a scale of 1 to 10, how would you rate your overall mental health?'\u001b[0m\u001b[0;34m]\u001b[0m\u001b[0;34m]\u001b[0m\u001b[0;34m)\u001b[0m\u001b[0;34m\u001b[0m\u001b[0;34m\u001b[0m\u001b[0m\n\u001b[0m",
            "\u001b[0;32m/usr/local/lib/python3.10/dist-packages/sklearn/cluster/_kmeans.py\u001b[0m in \u001b[0;36mfit_predict\u001b[0;34m(self, X, y, sample_weight)\u001b[0m\n\u001b[1;32m   1031\u001b[0m             \u001b[0mIndex\u001b[0m \u001b[0mof\u001b[0m \u001b[0mthe\u001b[0m \u001b[0mcluster\u001b[0m \u001b[0meach\u001b[0m \u001b[0msample\u001b[0m \u001b[0mbelongs\u001b[0m \u001b[0mto\u001b[0m\u001b[0;34m.\u001b[0m\u001b[0;34m\u001b[0m\u001b[0;34m\u001b[0m\u001b[0m\n\u001b[1;32m   1032\u001b[0m         \"\"\"\n\u001b[0;32m-> 1033\u001b[0;31m         \u001b[0;32mreturn\u001b[0m \u001b[0mself\u001b[0m\u001b[0;34m.\u001b[0m\u001b[0mfit\u001b[0m\u001b[0;34m(\u001b[0m\u001b[0mX\u001b[0m\u001b[0;34m,\u001b[0m \u001b[0msample_weight\u001b[0m\u001b[0;34m=\u001b[0m\u001b[0msample_weight\u001b[0m\u001b[0;34m)\u001b[0m\u001b[0;34m.\u001b[0m\u001b[0mlabels_\u001b[0m\u001b[0;34m\u001b[0m\u001b[0;34m\u001b[0m\u001b[0m\n\u001b[0m\u001b[1;32m   1034\u001b[0m \u001b[0;34m\u001b[0m\u001b[0m\n\u001b[1;32m   1035\u001b[0m     \u001b[0;32mdef\u001b[0m \u001b[0mpredict\u001b[0m\u001b[0;34m(\u001b[0m\u001b[0mself\u001b[0m\u001b[0;34m,\u001b[0m \u001b[0mX\u001b[0m\u001b[0;34m,\u001b[0m \u001b[0msample_weight\u001b[0m\u001b[0;34m=\u001b[0m\u001b[0;32mNone\u001b[0m\u001b[0;34m)\u001b[0m\u001b[0;34m:\u001b[0m\u001b[0;34m\u001b[0m\u001b[0;34m\u001b[0m\u001b[0m\n",
            "\u001b[0;32m/usr/local/lib/python3.10/dist-packages/sklearn/cluster/_kmeans.py\u001b[0m in \u001b[0;36mfit\u001b[0;34m(self, X, y, sample_weight)\u001b[0m\n\u001b[1;32m   1415\u001b[0m         \u001b[0mself\u001b[0m\u001b[0;34m.\u001b[0m\u001b[0m_validate_params\u001b[0m\u001b[0;34m(\u001b[0m\u001b[0;34m)\u001b[0m\u001b[0;34m\u001b[0m\u001b[0;34m\u001b[0m\u001b[0m\n\u001b[1;32m   1416\u001b[0m \u001b[0;34m\u001b[0m\u001b[0m\n\u001b[0;32m-> 1417\u001b[0;31m         X = self._validate_data(\n\u001b[0m\u001b[1;32m   1418\u001b[0m             \u001b[0mX\u001b[0m\u001b[0;34m,\u001b[0m\u001b[0;34m\u001b[0m\u001b[0;34m\u001b[0m\u001b[0m\n\u001b[1;32m   1419\u001b[0m             \u001b[0maccept_sparse\u001b[0m\u001b[0;34m=\u001b[0m\u001b[0;34m\"csr\"\u001b[0m\u001b[0;34m,\u001b[0m\u001b[0;34m\u001b[0m\u001b[0;34m\u001b[0m\u001b[0m\n",
            "\u001b[0;32m/usr/local/lib/python3.10/dist-packages/sklearn/base.py\u001b[0m in \u001b[0;36m_validate_data\u001b[0;34m(self, X, y, reset, validate_separately, **check_params)\u001b[0m\n\u001b[1;32m    563\u001b[0m             \u001b[0;32mraise\u001b[0m \u001b[0mValueError\u001b[0m\u001b[0;34m(\u001b[0m\u001b[0;34m\"Validation should be done on X, y or both.\"\u001b[0m\u001b[0;34m)\u001b[0m\u001b[0;34m\u001b[0m\u001b[0;34m\u001b[0m\u001b[0m\n\u001b[1;32m    564\u001b[0m         \u001b[0;32melif\u001b[0m \u001b[0;32mnot\u001b[0m \u001b[0mno_val_X\u001b[0m \u001b[0;32mand\u001b[0m \u001b[0mno_val_y\u001b[0m\u001b[0;34m:\u001b[0m\u001b[0;34m\u001b[0m\u001b[0;34m\u001b[0m\u001b[0m\n\u001b[0;32m--> 565\u001b[0;31m             \u001b[0mX\u001b[0m \u001b[0;34m=\u001b[0m \u001b[0mcheck_array\u001b[0m\u001b[0;34m(\u001b[0m\u001b[0mX\u001b[0m\u001b[0;34m,\u001b[0m \u001b[0minput_name\u001b[0m\u001b[0;34m=\u001b[0m\u001b[0;34m\"X\"\u001b[0m\u001b[0;34m,\u001b[0m \u001b[0;34m**\u001b[0m\u001b[0mcheck_params\u001b[0m\u001b[0;34m)\u001b[0m\u001b[0;34m\u001b[0m\u001b[0;34m\u001b[0m\u001b[0m\n\u001b[0m\u001b[1;32m    566\u001b[0m             \u001b[0mout\u001b[0m \u001b[0;34m=\u001b[0m \u001b[0mX\u001b[0m\u001b[0;34m\u001b[0m\u001b[0;34m\u001b[0m\u001b[0m\n\u001b[1;32m    567\u001b[0m         \u001b[0;32melif\u001b[0m \u001b[0mno_val_X\u001b[0m \u001b[0;32mand\u001b[0m \u001b[0;32mnot\u001b[0m \u001b[0mno_val_y\u001b[0m\u001b[0;34m:\u001b[0m\u001b[0;34m\u001b[0m\u001b[0;34m\u001b[0m\u001b[0m\n",
            "\u001b[0;32m/usr/local/lib/python3.10/dist-packages/sklearn/utils/validation.py\u001b[0m in \u001b[0;36mcheck_array\u001b[0;34m(array, accept_sparse, accept_large_sparse, dtype, order, copy, force_all_finite, ensure_2d, allow_nd, ensure_min_samples, ensure_min_features, estimator, input_name)\u001b[0m\n\u001b[1;32m    919\u001b[0m \u001b[0;34m\u001b[0m\u001b[0m\n\u001b[1;32m    920\u001b[0m         \u001b[0;32mif\u001b[0m \u001b[0mforce_all_finite\u001b[0m\u001b[0;34m:\u001b[0m\u001b[0;34m\u001b[0m\u001b[0;34m\u001b[0m\u001b[0m\n\u001b[0;32m--> 921\u001b[0;31m             _assert_all_finite(\n\u001b[0m\u001b[1;32m    922\u001b[0m                 \u001b[0marray\u001b[0m\u001b[0;34m,\u001b[0m\u001b[0;34m\u001b[0m\u001b[0;34m\u001b[0m\u001b[0m\n\u001b[1;32m    923\u001b[0m                 \u001b[0minput_name\u001b[0m\u001b[0;34m=\u001b[0m\u001b[0minput_name\u001b[0m\u001b[0;34m,\u001b[0m\u001b[0;34m\u001b[0m\u001b[0;34m\u001b[0m\u001b[0m\n",
            "\u001b[0;32m/usr/local/lib/python3.10/dist-packages/sklearn/utils/validation.py\u001b[0m in \u001b[0;36m_assert_all_finite\u001b[0;34m(X, allow_nan, msg_dtype, estimator_name, input_name)\u001b[0m\n\u001b[1;32m    159\u001b[0m                 \u001b[0;34m\"#estimators-that-handle-nan-values\"\u001b[0m\u001b[0;34m\u001b[0m\u001b[0;34m\u001b[0m\u001b[0m\n\u001b[1;32m    160\u001b[0m             )\n\u001b[0;32m--> 161\u001b[0;31m         \u001b[0;32mraise\u001b[0m \u001b[0mValueError\u001b[0m\u001b[0;34m(\u001b[0m\u001b[0mmsg_err\u001b[0m\u001b[0;34m)\u001b[0m\u001b[0;34m\u001b[0m\u001b[0;34m\u001b[0m\u001b[0m\n\u001b[0m\u001b[1;32m    162\u001b[0m \u001b[0;34m\u001b[0m\u001b[0m\n\u001b[1;32m    163\u001b[0m \u001b[0;34m\u001b[0m\u001b[0m\n",
            "\u001b[0;31mValueError\u001b[0m: Input X contains NaN.\nKMeans does not accept missing values encoded as NaN natively. For supervised learning, you might want to consider sklearn.ensemble.HistGradientBoostingClassifier and Regressor which accept missing values encoded as NaNs natively. Alternatively, it is possible to preprocess the data, for instance by using an imputer transformer in a pipeline or drop samples with missing values. See https://scikit-learn.org/stable/modules/impute.html You can find a list of all estimators that handle NaN values at the following page: https://scikit-learn.org/stable/modules/impute.html#estimators-that-handle-nan-values"
          ]
        }
      ]
    },
    {
      "cell_type": "code",
      "source": [],
      "metadata": {
        "colab": {
          "base_uri": "https://localhost:8080/"
        },
        "id": "-qX7xwzRs4Bi",
        "outputId": "3fe4ba7d-40b2-462c-9ffc-2ae9557540e9"
      },
      "execution_count": null,
      "outputs": [
        {
          "output_type": "stream",
          "name": "stderr",
          "text": [
            "/usr/local/lib/python3.10/dist-packages/sklearn/cluster/_kmeans.py:870: FutureWarning: The default value of `n_init` will change from 10 to 'auto' in 1.4. Set the value of `n_init` explicitly to suppress the warning\n",
            "  warnings.warn(\n",
            "/usr/local/lib/python3.10/dist-packages/sklearn/cluster/_kmeans.py:870: FutureWarning: The default value of `n_init` will change from 10 to 'auto' in 1.4. Set the value of `n_init` explicitly to suppress the warning\n",
            "  warnings.warn(\n",
            "/usr/local/lib/python3.10/dist-packages/sklearn/cluster/_kmeans.py:870: FutureWarning: The default value of `n_init` will change from 10 to 'auto' in 1.4. Set the value of `n_init` explicitly to suppress the warning\n",
            "  warnings.warn(\n",
            "/usr/local/lib/python3.10/dist-packages/sklearn/cluster/_kmeans.py:870: FutureWarning: The default value of `n_init` will change from 10 to 'auto' in 1.4. Set the value of `n_init` explicitly to suppress the warning\n",
            "  warnings.warn(\n",
            "/usr/local/lib/python3.10/dist-packages/sklearn/cluster/_kmeans.py:870: FutureWarning: The default value of `n_init` will change from 10 to 'auto' in 1.4. Set the value of `n_init` explicitly to suppress the warning\n",
            "  warnings.warn(\n",
            "/usr/local/lib/python3.10/dist-packages/sklearn/cluster/_kmeans.py:870: FutureWarning: The default value of `n_init` will change from 10 to 'auto' in 1.4. Set the value of `n_init` explicitly to suppress the warning\n",
            "  warnings.warn(\n",
            "/usr/local/lib/python3.10/dist-packages/sklearn/cluster/_kmeans.py:870: FutureWarning: The default value of `n_init` will change from 10 to 'auto' in 1.4. Set the value of `n_init` explicitly to suppress the warning\n",
            "  warnings.warn(\n",
            "/usr/local/lib/python3.10/dist-packages/sklearn/cluster/_kmeans.py:870: FutureWarning: The default value of `n_init` will change from 10 to 'auto' in 1.4. Set the value of `n_init` explicitly to suppress the warning\n",
            "  warnings.warn(\n",
            "/usr/local/lib/python3.10/dist-packages/sklearn/cluster/_kmeans.py:870: FutureWarning: The default value of `n_init` will change from 10 to 'auto' in 1.4. Set the value of `n_init` explicitly to suppress the warning\n",
            "  warnings.warn(\n"
          ]
        }
      ]
    },
    {
      "cell_type": "code",
      "source": [],
      "metadata": {
        "id": "KMETFFJ2tHcA"
      },
      "execution_count": null,
      "outputs": []
    },
    {
      "cell_type": "code",
      "source": [
        "h = df_cleaned['Do you think life would be fundamentally different without social media?']\n",
        "\n",
        "# Convert using lambda\n",
        "h = h.apply(lambda x: 1 if x == 'Yes' else 0)"
      ],
      "metadata": {
        "id": "xViZpbQSRbjv"
      },
      "execution_count": null,
      "outputs": []
    },
    {
      "cell_type": "code",
      "source": [
        "plt.scatter(df_cleaned['On a scale of 1 to 10, how would you rate your overall mental health?'],h)"
      ],
      "metadata": {
        "colab": {
          "base_uri": "https://localhost:8080/",
          "height": 447
        },
        "id": "J3ABMSdmQN2V",
        "outputId": "eb688865-3e28-405c-df7e-f30aefce7f4a"
      },
      "execution_count": null,
      "outputs": [
        {
          "output_type": "execute_result",
          "data": {
            "text/plain": [
              "<matplotlib.collections.PathCollection at 0x7d5f64977820>"
            ]
          },
          "metadata": {},
          "execution_count": 22
        },
        {
          "output_type": "display_data",
          "data": {
            "text/plain": [
              "<Figure size 640x480 with 1 Axes>"
            ],
            "image/png": "[encoded data removed]"
          },
          "metadata": {}
        }
      ]
    },
    {
      "cell_type": "code",
      "source": [
        "from sklearn.model_selection import train_test_split\n",
        "X_train1,X_test1,y_train1,y_test1=train_test_split(df_cleaned[['On a scale of 1 to 10, how would you rate your overall mental health?']],h,test_size=0.3,random_state=42)"
      ],
      "metadata": {
        "id": "UWgfv3KiW4s7"
      },
      "execution_count": null,
      "outputs": []
    },
    {
      "cell_type": "code",
      "source": [
        "X_test1"
      ],
      "metadata": {
        "colab": {
          "base_uri": "https://localhost:8080/",
          "height": 1000
        },
        "id": "mYqygyjXXO64",
        "outputId": "9cffd771-e4cc-476f-e100-998163144d6d"
      },
      "execution_count": null,
      "outputs": [
        {
          "output_type": "execute_result",
          "data": {
            "text/plain": [
              "     On a scale of 1 to 10, how would you rate your overall mental health?\n",
              "147                                                  9                    \n",
              "209                                                  5                    \n",
              "223                                                 10                    \n",
              "131                                                  2                    \n",
              "227                                                  1                    \n",
              "236                                                  1                    \n",
              "156                                                  4                    \n",
              "213                                                  8                    \n",
              "185                                                  9                    \n",
              "102                                                  5                    \n",
              "194                                                  5                    \n",
              "180                                                  1                    \n",
              "112                                                  2                    \n",
              "161                                                  3                    \n",
              "217                                                  7                    \n",
              "86                                                   2                    \n",
              "207                                                 10                    \n",
              "95                                                   4                    \n",
              "146                                                  2                    \n",
              "216                                                  8                    \n",
              "100                                                  2                    \n",
              "101                                                  1                    \n",
              "126                                                  9                    \n",
              "184                                                  8                    \n",
              "239                                                  2                    \n",
              "90                                                   4                    \n",
              "87                                                   1                    \n",
              "175                                                 10                    \n",
              "89                                                   1                    \n",
              "83                                                   1                    \n",
              "211                                                  5                    \n",
              "80                                                   8                    \n",
              "109                                                  2                    \n",
              "195                                                  2                    \n",
              "149                                                  1                    \n",
              "172                                                  5                    \n",
              "127                                                  8                    \n",
              "113                                                  3                    \n",
              "153                                                 10                    \n",
              "136                                                 10                    \n",
              "116                                                  1                    \n",
              "73                                                   1                    \n",
              "167                                                  6                    \n",
              "224                                                  8                    \n",
              "189                                                  4                    \n",
              "169                                                  7                    \n",
              "122                                                  6                    \n",
              "97                                                   3                    \n",
              "219                                                  9                    \n",
              "203                                                  8                    \n",
              "171                                                  1                    \n",
              "138                                                 10                    "
            ],
            "text/html": [
              "\n",
              "  <div id=\"df-f2df9772-9c61-42b0-b8c5-be72616a1c6c\" class=\"colab-df-container\">\n",
              "    <div>\n",
              "<style scoped>\n",
              "    .dataframe tbody tr th:only-of-type {\n",
              "        vertical-align: middle;\n",
              "    }\n",
              "\n",
              "    .dataframe tbody tr th {\n",
              "        vertical-align: top;\n",
              "    }\n",
              "\n",
              "    .dataframe thead th {\n",
              "        text-align: right;\n",
              "    }\n",
              "</style>\n",
              "<table border=\"1\" class=\"dataframe\">\n",
              "  <thead>\n",
              "    <tr style=\"text-align: right;\">\n",
              "      <th></th>\n",
              "      <th>On a scale of 1 to 10, how would you rate your overall mental health?</th>\n",
              "    </tr>\n",
              "  </thead>\n",
              "  <tbody>\n",
              "    <tr>\n",
              "      <th>147</th>\n",
              "      <td>9</td>\n",
              "    </tr>\n",
              "    <tr>\n",
              "      <th>209</th>\n",
              "      <td>5</td>\n",
              "    </tr>\n",
              "    <tr>\n",
              "      <th>223</th>\n",
              "      <td>10</td>\n",
              "    </tr>\n",
              "    <tr>\n",
              "      <th>131</th>\n",
              "      <td>2</td>\n",
              "    </tr>\n",
              "    <tr>\n",
              "      <th>227</th>\n",
              "      <td>1</td>\n",
              "    </tr>\n",
              "    <tr>\n",
              "      <th>236</th>\n",
              "      <td>1</td>\n",
              "    </tr>\n",
              "    <tr>\n",
              "      <th>156</th>\n",
              "      <td>4</td>\n",
              "    </tr>\n",
              "    <tr>\n",
              "      <th>213</th>\n",
              "      <td>8</td>\n",
              "    </tr>\n",
              "    <tr>\n",
              "      <th>185</th>\n",
              "      <td>9</td>\n",
              "    </tr>\n",
              "    <tr>\n",
              "      <th>102</th>\n",
              "      <td>5</td>\n",
              "    </tr>\n",
              "    <tr>\n",
              "      <th>194</th>\n",
              "      <td>5</td>\n",
              "    </tr>\n",
              "    <tr>\n",
              "      <th>180</th>\n",
              "      <td>1</td>\n",
              "    </tr>\n",
              "    <tr>\n",
              "      <th>112</th>\n",
              "      <td>2</td>\n",
              "    </tr>\n",
              "    <tr>\n",
              "      <th>161</th>\n",
              "      <td>3</td>\n",
              "    </tr>\n",
              "    <tr>\n",
              "      <th>217</th>\n",
              "      <td>7</td>\n",
              "    </tr>\n",
              "    <tr>\n",
              "      <th>86</th>\n",
              "      <td>2</td>\n",
              "    </tr>\n",
              "    <tr>\n",
              "      <th>207</th>\n",
              "      <td>10</td>\n",
              "    </tr>\n",
              "    <tr>\n",
              "      <th>95</th>\n",
              "      <td>4</td>\n",
              "    </tr>\n",
              "    <tr>\n",
              "      <th>146</th>\n",
              "      <td>2</td>\n",
              "    </tr>\n",
              "    <tr>\n",
              "      <th>216</th>\n",
              "      <td>8</td>\n",
              "    </tr>\n",
              "    <tr>\n",
              "      <th>100</th>\n",
              "      <td>2</td>\n",
              "    </tr>\n",
              "    <tr>\n",
              "      <th>101</th>\n",
              "      <td>1</td>\n",
              "    </tr>\n",
              "    <tr>\n",
              "      <th>126</th>\n",
              "      <td>9</td>\n",
              "    </tr>\n",
              "    <tr>\n",
              "      <th>184</th>\n",
              "      <td>8</td>\n",
              "    </tr>\n",
              "    <tr>\n",
              "      <th>239</th>\n",
              "      <td>2</td>\n",
              "    </tr>\n",
              "    <tr>\n",
              "      <th>90</th>\n",
              "      <td>4</td>\n",
              "    </tr>\n",
              "    <tr>\n",
              "      <th>87</th>\n",
              "      <td>1</td>\n",
              "    </tr>\n",
              "    <tr>\n",
              "      <th>175</th>\n",
              "      <td>10</td>\n",
              "    </tr>\n",
              "    <tr>\n",
              "      <th>89</th>\n",
              "      <td>1</td>\n",
              "    </tr>\n",
              "    <tr>\n",
              "      <th>83</th>\n",
              "      <td>1</td>\n",
              "    </tr>\n",
              "    <tr>\n",
              "      <th>211</th>\n",
              "      <td>5</td>\n",
              "    </tr>\n",
              "    <tr>\n",
              "      <th>80</th>\n",
              "      <td>8</td>\n",
              "    </tr>\n",
              "    <tr>\n",
              "      <th>109</th>\n",
              "      <td>2</td>\n",
              "    </tr>\n",
              "    <tr>\n",
              "      <th>195</th>\n",
              "      <td>2</td>\n",
              "    </tr>\n",
              "    <tr>\n",
              "      <th>149</th>\n",
              "      <td>1</td>\n",
              "    </tr>\n",
              "    <tr>\n",
              "      <th>172</th>\n",
              "      <td>5</td>\n",
              "    </tr>\n",
              "    <tr>\n",
              "      <th>127</th>\n",
              "      <td>8</td>\n",
              "    </tr>\n",
              "    <tr>\n",
              "      <th>113</th>\n",
              "      <td>3</td>\n",
              "    </tr>\n",
              "    <tr>\n",
              "      <th>153</th>\n",
              "      <td>10</td>\n",
              "    </tr>\n",
              "    <tr>\n",
              "      <th>136</th>\n",
              "      <td>10</td>\n",
              "    </tr>\n",
              "    <tr>\n",
              "      <th>116</th>\n",
              "      <td>1</td>\n",
              "    </tr>\n",
              "    <tr>\n",
              "      <th>73</th>\n",
              "      <td>1</td>\n",
              "    </tr>\n",
              "    <tr>\n",
              "      <th>167</th>\n",
              "      <td>6</td>\n",
              "    </tr>\n",
              "    <tr>\n",
              "      <th>224</th>\n",
              "      <td>8</td>\n",
              "    </tr>\n",
              "    <tr>\n",
              "      <th>189</th>\n",
              "      <td>4</td>\n",
              "    </tr>\n",
              "    <tr>\n",
              "      <th>169</th>\n",
              "      <td>7</td>\n",
              "    </tr>\n",
              "    <tr>\n",
              "      <th>122</th>\n",
              "      <td>6</td>\n",
              "    </tr>\n",
              "    <tr>\n",
              "      <th>97</th>\n",
              "      <td>3</td>\n",
              "    </tr>\n",
              "    <tr>\n",
              "      <th>219</th>\n",
              "      <td>9</td>\n",
              "    </tr>\n",
              "    <tr>\n",
              "      <th>203</th>\n",
              "      <td>8</td>\n",
              "    </tr>\n",
              "    <tr>\n",
              "      <th>171</th>\n",
              "      <td>1</td>\n",
              "    </tr>\n",
              "    <tr>\n",
              "      <th>138</th>\n",
              "      <td>10</td>\n",
              "    </tr>\n",
              "  </tbody>\n",
              "</table>\n",
              "</div>\n",
              "    <div class=\"colab-df-buttons\">\n",
              "\n",
              "  <div class=\"colab-df-container\">\n",
              "    <button class=\"colab-df-convert\" onclick=\"convertToInteractive('df-f2df9772-9c61-42b0-b8c5-be72616a1c6c')\"\n",
              "            title=\"Convert this dataframe to an interactive table.\"\n",
              "            style=\"display:none;\">\n",
              "\n",
              "  <svg xmlns=\"http://www.w3.org/2000/svg\" height=\"24px\" viewBox=\"0 -960 960 960\">\n",
              "    <path d=\"M120-120v-720h720v720H120Zm60-500h600v-160H180v160Zm220 220h160v-160H400v160Zm0 220h160v-160H400v160ZM180-400h160v-160H180v160Zm440 0h160v-160H620v160ZM180-180h160v-160H180v160Zm440 0h160v-160H620v160Z\"/>\n",
              "  </svg>\n",
              "    </button>\n",
              "\n",
              "  <style>\n",
              "    .colab-df-container {\n",
              "      display:flex;\n",
              "      gap: 12px;\n",
              "    }\n",
              "\n",
              "    .colab-df-convert {\n",
              "      background-color: #E8F0FE;\n",
              "      border: none;\n",
              "      border-radius: 50%;\n",
              "      cursor: pointer;\n",
              "      display: none;\n",
              "      fill: #1967D2;\n",
              "      height: 32px;\n",
              "      padding: 0 0 0 0;\n",
              "      width: 32px;\n",
              "    }\n",
              "\n",
              "    .colab-df-convert:hover {\n",
              "      background-color: #E2EBFA;\n",
              "      box-shadow: 0px 1px 2px rgba(60, 64, 67, 0.3), 0px 1px 3px 1px rgba(60, 64, 67, 0.15);\n",
              "      fill: #174EA6;\n",
              "    }\n",
              "\n",
              "    .colab-df-buttons div {\n",
              "      margin-bottom: 4px;\n",
              "    }\n",
              "\n",
              "    [theme=dark] .colab-df-convert {\n",
              "      background-color: #3B4455;\n",
              "      fill: #D2E3FC;\n",
              "    }\n",
              "\n",
              "    [theme=dark] .colab-df-convert:hover {\n",
              "      background-color: #434B5C;\n",
              "      box-shadow: 0px 1px 3px 1px rgba(0, 0, 0, 0.15);\n",
              "      filter: drop-shadow(0px 1px 2px rgba(0, 0, 0, 0.3));\n",
              "      fill: #FFFFFF;\n",
              "    }\n",
              "  </style>\n",
              "\n",
              "    <script>\n",
              "      const buttonEl =\n",
              "        document.querySelector('#df-f2df9772-9c61-42b0-b8c5-be72616a1c6c button.colab-df-convert');\n",
              "      buttonEl.style.display =\n",
              "        google.colab.kernel.accessAllowed ? 'block' : 'none';\n",
              "\n",
              "      async function convertToInteractive(key) {\n",
              "        const element = document.querySelector('#df-f2df9772-9c61-42b0-b8c5-be72616a1c6c');\n",
              "        const dataTable =\n",
              "          await google.colab.kernel.invokeFunction('convertToInteractive',\n",
              "                                                    [key], {});\n",
              "        if (!dataTable) return;\n",
              "\n",
              "        const docLinkHtml = 'Like what you see? Visit the ' +\n",
              "          '<a target=\"_blank\" href=https://colab.research.google.com/notebooks/data_table.ipynb>data table notebook</a>'\n",
              "          + ' to learn more about interactive tables.';\n",
              "        element.innerHTML = '';\n",
              "        dataTable['output_type'] = 'display_data';\n",
              "        await google.colab.output.renderOutput(dataTable, element);\n",
              "        const docLink = document.createElement('div');\n",
              "        docLink.innerHTML = docLinkHtml;\n",
              "        element.appendChild(docLink);\n",
              "      }\n",
              "    </script>\n",
              "  </div>\n",
              "\n",
              "\n",
              "<div id=\"df-c683daaa-8b14-4c14-a1b1-c6ec2a724b49\">\n",
              "  <button class=\"colab-df-quickchart\" onclick=\"quickchart('df-c683daaa-8b14-4c14-a1b1-c6ec2a724b49')\"\n",
              "            title=\"Suggest charts\"\n",
              "            style=\"display:none;\">\n",
              "\n",
              "<svg xmlns=\"http://www.w3.org/2000/svg\" height=\"24px\"viewBox=\"0 0 24 24\"\n",
              "     width=\"24px\">\n",
              "    <g>\n",
              "        <path d=\"M19 3H5c-1.1 0-2 .9-2 2v14c0 1.1.9 2 2 2h14c1.1 0 2-.9 2-2V5c0-1.1-.9-2-2-2zM9 17H7v-7h2v7zm4 0h-2V7h2v10zm4 0h-2v-4h2v4z\"/>\n",
              "    </g>\n",
              "</svg>\n",
              "  </button>\n",
              "\n",
              "<style>\n",
              "  .colab-df-quickchart {\n",
              "      --bg-color: #E8F0FE;\n",
              "      --fill-color: #1967D2;\n",
              "      --hover-bg-color: #E2EBFA;\n",
              "      --hover-fill-color: #174EA6;\n",
              "      --disabled-fill-color: #AAA;\n",
              "      --disabled-bg-color: #DDD;\n",
              "  }\n",
              "\n",
              "  [theme=dark] .colab-df-quickchart {\n",
              "      --bg-color: #3B4455;\n",
              "      --fill-color: #D2E3FC;\n",
              "      --hover-bg-color: #434B5C;\n",
              "      --hover-fill-color: #FFFFFF;\n",
              "      --disabled-bg-color: #3B4455;\n",
              "      --disabled-fill-color: #666;\n",
              "  }\n",
              "\n",
              "  .colab-df-quickchart {\n",
              "    background-color: var(--bg-color);\n",
              "    border: none;\n",
              "    border-radius: 50%;\n",
              "    cursor: pointer;\n",
              "    display: none;\n",
              "    fill: var(--fill-color);\n",
              "    height: 32px;\n",
              "    padding: 0;\n",
              "    width: 32px;\n",
              "  }\n",
              "\n",
              "  .colab-df-quickchart:hover {\n",
              "    background-color: var(--hover-bg-color);\n",
              "    box-shadow: 0 1px 2px rgba(60, 64, 67, 0.3), 0 1px 3px 1px rgba(60, 64, 67, 0.15);\n",
              "    fill: var(--button-hover-fill-color);\n",
              "  }\n",
              "\n",
              "  .colab-df-quickchart-complete:disabled,\n",
              "  .colab-df-quickchart-complete:disabled:hover {\n",
              "    background-color: var(--disabled-bg-color);\n",
              "    fill: var(--disabled-fill-color);\n",
              "    box-shadow: none;\n",
              "  }\n",
              "\n",
              "  .colab-df-spinner {\n",
              "    border: 2px solid var(--fill-color);\n",
              "    border-color: transparent;\n",
              "    border-bottom-color: var(--fill-color);\n",
              "    animation:\n",
              "      spin 1s steps(1) infinite;\n",
              "  }\n",
              "\n",
              "  @keyframes spin {\n",
              "    0% {\n",
              "      border-color: transparent;\n",
              "      border-bottom-color: var(--fill-color);\n",
              "      border-left-color: var(--fill-color);\n",
              "    }\n",
              "    20% {\n",
              "      border-color: transparent;\n",
              "      border-left-color: var(--fill-color);\n",
              "      border-top-color: var(--fill-color);\n",
              "    }\n",
              "    30% {\n",
              "      border-color: transparent;\n",
              "      border-left-color: var(--fill-color);\n",
              "      border-top-color: var(--fill-color);\n",
              "      border-right-color: var(--fill-color);\n",
              "    }\n",
              "    40% {\n",
              "      border-color: transparent;\n",
              "      border-right-color: var(--fill-color);\n",
              "      border-top-color: var(--fill-color);\n",
              "    }\n",
              "    60% {\n",
              "      border-color: transparent;\n",
              "      border-right-color: var(--fill-color);\n",
              "    }\n",
              "    80% {\n",
              "      border-color: transparent;\n",
              "      border-right-color: var(--fill-color);\n",
              "      border-bottom-color: var(--fill-color);\n",
              "    }\n",
              "    90% {\n",
              "      border-color: transparent;\n",
              "      border-bottom-color: var(--fill-color);\n",
              "    }\n",
              "  }\n",
              "</style>\n",
              "\n",
              "  <script>\n",
              "    async function quickchart(key) {\n",
              "      const quickchartButtonEl =\n",
              "        document.querySelector('#' + key + ' button');\n",
              "      quickchartButtonEl.disabled = true;  // To prevent multiple clicks.\n",
              "      quickchartButtonEl.classList.add('colab-df-spinner');\n",
              "      try {\n",
              "        const charts = await google.colab.kernel.invokeFunction(\n",
              "            'suggestCharts', [key], {});\n",
              "      } catch (error) {\n",
              "        console.error('Error during call to suggestCharts:', error);\n",
              "      }\n",
              "      quickchartButtonEl.classList.remove('colab-df-spinner');\n",
              "      quickchartButtonEl.classList.add('colab-df-quickchart-complete');\n",
              "    }\n",
              "    (() => {\n",
              "      let quickchartButtonEl =\n",
              "        document.querySelector('#df-c683daaa-8b14-4c14-a1b1-c6ec2a724b49 button');\n",
              "      quickchartButtonEl.style.display =\n",
              "        google.colab.kernel.accessAllowed ? 'block' : 'none';\n",
              "    })();\n",
              "  </script>\n",
              "</div>\n",
              "\n",
              "  <div id=\"id_77a6963e-87c5-4a55-988e-c317605604ea\">\n",
              "    <style>\n",
              "      .colab-df-generate {\n",
              "        background-color: #E8F0FE;\n",
              "        border: none;\n",
              "        border-radius: 50%;\n",
              "        cursor: pointer;\n",
              "        display: none;\n",
              "        fill: #1967D2;\n",
              "        height: 32px;\n",
              "        padding: 0 0 0 0;\n",
              "        width: 32px;\n",
              "      }\n",
              "\n",
              "      .colab-df-generate:hover {\n",
              "        background-color: #E2EBFA;\n",
              "        box-shadow: 0px 1px 2px rgba(60, 64, 67, 0.3), 0px 1px 3px 1px rgba(60, 64, 67, 0.15);\n",
              "        fill: #174EA6;\n",
              "      }\n",
              "\n",
              "      [theme=dark] .colab-df-generate {\n",
              "        background-color: #3B4455;\n",
              "        fill: #D2E3FC;\n",
              "      }\n",
              "\n",
              "      [theme=dark] .colab-df-generate:hover {\n",
              "        background-color: #434B5C;\n",
              "        box-shadow: 0px 1px 3px 1px rgba(0, 0, 0, 0.15);\n",
              "        filter: drop-shadow(0px 1px 2px rgba(0, 0, 0, 0.3));\n",
              "        fill: #FFFFFF;\n",
              "      }\n",
              "    </style>\n",
              "    <button class=\"colab-df-generate\" onclick=\"generateWithVariable('X_test1')\"\n",
              "            title=\"Generate code using this dataframe.\"\n",
              "            style=\"display:none;\">\n",
              "\n",
              "  <svg xmlns=\"http://www.w3.org/2000/svg\" height=\"24px\"viewBox=\"0 0 24 24\"\n",
              "       width=\"24px\">\n",
              "    <path d=\"M7,19H8.4L18.45,9,17,7.55,7,17.6ZM5,21V16.75L18.45,3.32a2,2,0,0,1,2.83,0l1.4,1.43a1.91,1.91,0,0,1,.58,1.4,1.91,1.91,0,0,1-.58,1.4L9.25,21ZM18.45,9,17,7.55Zm-12,3A5.31,5.31,0,0,0,4.9,8.1,5.31,5.31,0,0,0,1,6.5,5.31,5.31,0,0,0,4.9,4.9,5.31,5.31,0,0,0,6.5,1,5.31,5.31,0,0,0,8.1,4.9,5.31,5.31,0,0,0,12,6.5,5.46,5.46,0,0,0,6.5,12Z\"/>\n",
              "  </svg>\n",
              "    </button>\n",
              "    <script>\n",
              "      (() => {\n",
              "      const buttonEl =\n",
              "        document.querySelector('#id_77a6963e-87c5-4a55-988e-c317605604ea button.colab-df-generate');\n",
              "      buttonEl.style.display =\n",
              "        google.colab.kernel.accessAllowed ? 'block' : 'none';\n",
              "\n",
              "      buttonEl.onclick = () => {\n",
              "        google.colab.notebook.generateWithVariable('X_test1');\n",
              "      }\n",
              "      })();\n",
              "    </script>\n",
              "  </div>\n",
              "\n",
              "    </div>\n",
              "  </div>\n"
            ],
            "application/vnd.google.colaboratory.intrinsic+json": {
              "type": "dataframe",
              "variable_name": "X_test1",
              "summary": "{\n  \"name\": \"X_test1\",\n  \"rows\": 52,\n  \"fields\": [\n    {\n      \"column\": \"On a scale of 1 to 10, how would you rate your overall mental health?\",\n      \"properties\": {\n        \"dtype\": \"number\",\n        \"std\": 3,\n        \"min\": 1,\n        \"max\": 10,\n        \"num_unique_values\": 10,\n        \"samples\": [\n          7,\n          5,\n          4\n        ],\n        \"semantic_type\": \"\",\n        \"description\": \"\"\n      }\n    }\n  ]\n}"
            }
          },
          "metadata": {},
          "execution_count": 24
        }
      ]
    },
    {
      "cell_type": "code",
      "source": [
        "y_test1"
      ],
      "metadata": {
        "colab": {
          "base_uri": "https://localhost:8080/"
        },
        "id": "pWCuDHr_Xftp",
        "outputId": "d773969d-5970-4d61-f276-60f7b264a4a2"
      },
      "execution_count": null,
      "outputs": [
        {
          "output_type": "execute_result",
          "data": {
            "text/plain": [
              "147    1\n",
              "209    1\n",
              "223    1\n",
              "131    1\n",
              "227    1\n",
              "236    1\n",
              "156    1\n",
              "213    1\n",
              "185    1\n",
              "102    1\n",
              "194    0\n",
              "180    1\n",
              "112    1\n",
              "161    1\n",
              "217    1\n",
              "86     1\n",
              "207    1\n",
              "95     1\n",
              "146    1\n",
              "216    1\n",
              "100    0\n",
              "101    1\n",
              "126    1\n",
              "184    1\n",
              "239    1\n",
              "90     1\n",
              "87     1\n",
              "175    0\n",
              "89     1\n",
              "83     1\n",
              "211    1\n",
              "80     0\n",
              "109    1\n",
              "195    1\n",
              "149    1\n",
              "172    1\n",
              "127    1\n",
              "113    1\n",
              "153    0\n",
              "136    1\n",
              "116    1\n",
              "73     1\n",
              "167    1\n",
              "224    1\n",
              "189    0\n",
              "169    1\n",
              "122    1\n",
              "97     1\n",
              "219    1\n",
              "203    1\n",
              "171    1\n",
              "138    1\n",
              "Name: Do you think life would be fundamentally different without social media?, dtype: int64"
            ]
          },
          "metadata": {},
          "execution_count": 25
        }
      ]
    },
    {
      "cell_type": "code",
      "source": [
        "from sklearn.linear_model import LogisticRegression"
      ],
      "metadata": {
        "id": "8kMFsrF0XjjI"
      },
      "execution_count": null,
      "outputs": []
    },
    {
      "cell_type": "code",
      "source": [
        "model1=LogisticRegression()"
      ],
      "metadata": {
        "id": "j9Ix1omZXoVo"
      },
      "execution_count": null,
      "outputs": []
    },
    {
      "cell_type": "code",
      "source": [
        "model1.fit(X_train1,y_train1)"
      ],
      "metadata": {
        "colab": {
          "base_uri": "https://localhost:8080/",
          "height": 74
        },
        "id": "tRbJXWyBXqvz",
        "outputId": "8d9bcd7c-316c-42d2-acb7-d3d84eb155b6"
      },
      "execution_count": null,
      "outputs": [
        {
          "output_type": "execute_result",
          "data": {
            "text/plain": [
              "LogisticRegression()"
            ],
            "text/html": [
              "<style>#sk-container-id-3 {color: black;background-color: white;}#sk-container-id-3 pre{padding: 0;}#sk-container-id-3 div.sk-toggleable {background-color: white;}#sk-container-id-3 label.sk-toggleable__label {cursor: pointer;display: block;width: 100%;margin-bottom: 0;padding: 0.3em;box-sizing: border-box;text-align: center;}#sk-container-id-3 label.sk-toggleable__label-arrow:before {content: \"▸\";float: left;margin-right: 0.25em;color: #696969;}#sk-container-id-3 label.sk-toggleable__label-arrow:hover:before {color: black;}#sk-container-id-3 div.sk-estimator:hover label.sk-toggleable__label-arrow:before {color: black;}#sk-container-id-3 div.sk-toggleable__content {max-height: 0;max-width: 0;overflow: hidden;text-align: left;background-color: #f0f8ff;}#sk-container-id-3 div.sk-toggleable__content pre {margin: 0.2em;color: black;border-radius: 0.25em;background-color: #f0f8ff;}#sk-container-id-3 input.sk-toggleable__control:checked~div.sk-toggleable__content {max-height: 200px;max-width: 100%;overflow: auto;}#sk-container-id-3 input.sk-toggleable__control:checked~label.sk-toggleable__label-arrow:before {content: \"▾\";}#sk-container-id-3 div.sk-estimator input.sk-toggleable__control:checked~label.sk-toggleable__label {background-color: #d4ebff;}#sk-container-id-3 div.sk-label input.sk-toggleable__control:checked~label.sk-toggleable__label {background-color: #d4ebff;}#sk-container-id-3 input.sk-hidden--visually {border: 0;clip: rect(1px 1px 1px 1px);clip: rect(1px, 1px, 1px, 1px);height: 1px;margin: -1px;overflow: hidden;padding: 0;position: absolute;width: 1px;}#sk-container-id-3 div.sk-estimator {font-family: monospace;background-color: #f0f8ff;border: 1px dotted black;border-radius: 0.25em;box-sizing: border-box;margin-bottom: 0.5em;}#sk-container-id-3 div.sk-estimator:hover {background-color: #d4ebff;}#sk-container-id-3 div.sk-parallel-item::after {content: \"\";width: 100%;border-bottom: 1px solid gray;flex-grow: 1;}#sk-container-id-3 div.sk-label:hover label.sk-toggleable__label {background-color: #d4ebff;}#sk-container-id-3 div.sk-serial::before {content: \"\";position: absolute;border-left: 1px solid gray;box-sizing: border-box;top: 0;bottom: 0;left: 50%;z-index: 0;}#sk-container-id-3 div.sk-serial {display: flex;flex-direction: column;align-items: center;background-color: white;padding-right: 0.2em;padding-left: 0.2em;position: relative;}#sk-container-id-3 div.sk-item {position: relative;z-index: 1;}#sk-container-id-3 div.sk-parallel {display: flex;align-items: stretch;justify-content: center;background-color: white;position: relative;}#sk-container-id-3 div.sk-item::before, #sk-container-id-3 div.sk-parallel-item::before {content: \"\";position: absolute;border-left: 1px solid gray;box-sizing: border-box;top: 0;bottom: 0;left: 50%;z-index: -1;}#sk-container-id-3 div.sk-parallel-item {display: flex;flex-direction: column;z-index: 1;position: relative;background-color: white;}#sk-container-id-3 div.sk-parallel-item:first-child::after {align-self: flex-end;width: 50%;}#sk-container-id-3 div.sk-parallel-item:last-child::after {align-self: flex-start;width: 50%;}#sk-container-id-3 div.sk-parallel-item:only-child::after {width: 0;}#sk-container-id-3 div.sk-dashed-wrapped {border: 1px dashed gray;margin: 0 0.4em 0.5em 0.4em;box-sizing: border-box;padding-bottom: 0.4em;background-color: white;}#sk-container-id-3 div.sk-label label {font-family: monospace;font-weight: bold;display: inline-block;line-height: 1.2em;}#sk-container-id-3 div.sk-label-container {text-align: center;}#sk-container-id-3 div.sk-container {/* jupyter's `normalize.less` sets `[hidden] { display: none; }` but bootstrap.min.css set `[hidden] { display: none !important; }` so we also need the `!important` here to be able to override the default hidden behavior on the sphinx rendered scikit-learn.org. See: https://github.com/scikit-learn/scikit-learn/issues/21755 */display: inline-block !important;position: relative;}#sk-container-id-3 div.sk-text-repr-fallback {display: none;}</style><div id=\"sk-container-id-3\" class=\"sk-top-container\"><div class=\"sk-text-repr-fallback\"><pre>LogisticRegression()</pre><b>In a Jupyter environment, please rerun this cell to show the HTML representation or trust the notebook. <br />On GitHub, the HTML representation is unable to render, please try loading this page with nbviewer.org.</b></div><div class=\"sk-container\" hidden><div class=\"sk-item\"><div class=\"sk-estimator sk-toggleable\"><input class=\"sk-toggleable__control sk-hidden--visually\" id=\"sk-estimator-id-3\" type=\"checkbox\" checked><label for=\"sk-estimator-id-3\" class=\"sk-toggleable__label sk-toggleable__label-arrow\">LogisticRegression</label><div class=\"sk-toggleable__content\"><pre>LogisticRegression()</pre></div></div></div></div></div>"
            ]
          },
          "metadata": {},
          "execution_count": 28
        }
      ]
    },
    {
      "cell_type": "code",
      "source": [
        "ypred=model1.predict(X_test1)"
      ],
      "metadata": {
        "id": "ugQ1JvodXyx7"
      },
      "execution_count": null,
      "outputs": []
    },
    {
      "cell_type": "code",
      "source": [
        "model1.score(X_test1,y_test1)"
      ],
      "metadata": {
        "colab": {
          "base_uri": "https://localhost:8080/"
        },
        "id": "xjxi8mDgYAxn",
        "outputId": "e2b69ee5-3200-4fa3-adcb-fda6f65f1f09"
      },
      "execution_count": null,
      "outputs": [
        {
          "output_type": "execute_result",
          "data": {
            "text/plain": [
              "0.8846153846153846"
            ]
          },
          "metadata": {},
          "execution_count": 30
        }
      ]
    },
    {
      "cell_type": "code",
      "source": [
        "from sklearn.metrics import precision_score, f1_score\n",
        "precision = precision_score(y_test1, ypred)\n",
        "print(f'Precision: {precision:.2f}')"
      ],
      "metadata": {
        "colab": {
          "base_uri": "https://localhost:8080/"
        },
        "id": "ZJBW8pkYTIs2",
        "outputId": "0e4c4e45-ab8e-4a1a-ba2a-7a38066142ae"
      },
      "execution_count": null,
      "outputs": [
        {
          "output_type": "stream",
          "name": "stdout",
          "text": [
            "Precision: 0.88\n"
          ]
        }
      ]
    },
    {
      "cell_type": "code",
      "source": [
        "f1 = f1_score(y_test1, ypred)\n",
        "print(f'F1 Score: {f1:.2f}')\n"
      ],
      "metadata": {
        "colab": {
          "base_uri": "https://localhost:8080/"
        },
        "id": "4bxbX2yHTfdH",
        "outputId": "0a5bd19b-fd02-424a-87a9-c4ed7592d168"
      },
      "execution_count": null,
      "outputs": [
        {
          "output_type": "stream",
          "name": "stdout",
          "text": [
            "F1 Score: 0.94\n"
          ]
        }
      ]
    },
    {
      "cell_type": "code",
      "source": [],
      "metadata": {
        "colab": {
          "base_uri": "https://localhost:8080/"
        },
        "id": "bHgQciKDYr4J",
        "outputId": "693d2183-2f30-4d0a-de1f-a71cf67866c5"
      },
      "execution_count": null,
      "outputs": [
        {
          "output_type": "stream",
          "name": "stderr",
          "text": [
            "/usr/local/lib/python3.10/dist-packages/sklearn/base.py:439: UserWarning: X does not have valid feature names, but LogisticRegression was fitted with feature names\n",
            "  warnings.warn(\n"
          ]
        },
        {
          "output_type": "execute_result",
          "data": {
            "text/plain": [
              "array([1])"
            ]
          },
          "metadata": {},
          "execution_count": 181
        }
      ]
    },
    {
      "cell_type": "code",
      "source": [
        "model1.predict([[2]])"
      ],
      "metadata": {
        "colab": {
          "base_uri": "https://localhost:8080/"
        },
        "id": "_libgySzYzz2",
        "outputId": "1729d87b-9bfb-45f5-caff-23c90e412e04"
      },
      "execution_count": null,
      "outputs": [
        {
          "output_type": "stream",
          "name": "stderr",
          "text": [
            "/usr/local/lib/python3.10/dist-packages/sklearn/base.py:439: UserWarning: X does not have valid feature names, but LogisticRegression was fitted with feature names\n",
            "  warnings.warn(\n"
          ]
        },
        {
          "output_type": "execute_result",
          "data": {
            "text/plain": [
              "array([1])"
            ]
          },
          "metadata": {},
          "execution_count": 33
        }
      ]
    },
    {
      "cell_type": "code",
      "source": [],
      "metadata": {
        "id": "bQrcoAq7Y0AV"
      },
      "execution_count": null,
      "outputs": []
    },
    {
      "cell_type": "code",
      "execution_count": null,
      "metadata": {
        "id": "puWzQdAGCOxe"
      },
      "outputs": [],
      "source": [
        "df=df.drop(['Timestamp','Name','Email address'],axis='columns')\n",
        "Y=df['Do you think life would be fundamentally different without social media?']"
      ]
    },
    {
      "cell_type": "code",
      "execution_count": null,
      "metadata": {
        "colab": {
          "base_uri": "https://localhost:8080/"
        },
        "id": "--ECKrCUDDFs",
        "outputId": "5cb0b407-3e24-4911-aef9-7334e2807ca9"
      },
      "outputs": [
        {
          "output_type": "stream",
          "name": "stdout",
          "text": [
            "Rows with missing values:\n",
            "Empty DataFrame\n",
            "Columns: [Age, Gender, Profession, On average, how many hours per day do you spend on social media?, Which social media app do you use the most?, Do you use Social media just before going to bed and just after waking up?, Do you often find yourself scrolling through social media feeds without a specific purpose?, Do you ever feel like your achievements aren't as good as what you see on social media?, How often do you encounter negative content (e.g., cyberbullying, distressing news) on social media?, Do you feel anxious or stressed when you don't get enough likes or engagement on your posts?, Which type of content do you engage with the most on social media?, How satisfied are you with your social relationships outside of social media?, Do u experience symptoms of anxiety (e.g., worry, nervousness, panic attacks)?, On a scale of 1 to 10, how would you rate your overall mental health?, Do you think life would be fundamentally different without social media?]\n",
            "Index: []\n"
          ]
        }
      ],
      "source": [
        "missing_rows = df[df.isna().any(axis=1)]\n",
        "\n",
        "# Print rows with missing values\n",
        "print(\"Rows with missing values:\")\n",
        "print(missing_rows)"
      ]
    },
    {
      "cell_type": "code",
      "execution_count": null,
      "metadata": {
        "colab": {
          "base_uri": "https://localhost:8080/",
          "height": 602
        },
        "id": "N1L19vR3EpHk",
        "outputId": "8080aba8-414f-472a-d135-470bb652f305"
      },
      "outputs": [
        {
          "output_type": "execute_result",
          "data": {
            "text/plain": [
              "   Age  \\\n",
              "0   19   \n",
              "1   19   \n",
              "2   20   \n",
              "3   17   \n",
              "4   18   \n",
              "\n",
              "   How satisfied are you with your social relationships outside of social media?  \\\n",
              "0                                                  1                               \n",
              "1                                                  1                               \n",
              "2                                                  2                               \n",
              "3                                                  3                               \n",
              "4                                                  2                               \n",
              "\n",
              "   On a scale of 1 to 10, how would you rate your overall mental health?  \\\n",
              "0                                                  4                       \n",
              "1                                                  8                       \n",
              "2                                                  1                       \n",
              "3                                                  5                       \n",
              "4                                                  7                       \n",
              "\n",
              "   Gender_Female  Gender_Male  Gender_Other  Profession_Actor  \\\n",
              "0           True        False         False             False   \n",
              "1           True        False         False             False   \n",
              "2          False         True         False             False   \n",
              "3           True        False         False             False   \n",
              "4           True        False         False             False   \n",
              "\n",
              "   Profession_Businessmen  Profession_Doctor  Profession_Engineer  ...  \\\n",
              "0                   False              False                False  ...   \n",
              "1                   False              False                False  ...   \n",
              "2                   False              False                False  ...   \n",
              "3                   False              False                False  ...   \n",
              "4                   False              False                False  ...   \n",
              "\n",
              "   Which type of content do you engage with the most on social media?_News and current events, Entertainment(memes, funny videos), Others  \\\n",
              "0                                              False                                                                                        \n",
              "1                                              False                                                                                        \n",
              "2                                              False                                                                                        \n",
              "3                                              False                                                                                        \n",
              "4                                              False                                                                                        \n",
              "\n",
              "   Which type of content do you engage with the most on social media?_News and current events, Inspirational and motivational posts, Educational content  \\\n",
              "0                                              False                                                                                                       \n",
              "1                                              False                                                                                                       \n",
              "2                                              False                                                                                                       \n",
              "3                                              False                                                                                                       \n",
              "4                                              False                                                                                                       \n",
              "\n",
              "   Which type of content do you engage with the most on social media?_News and current events, Inspirational and motivational posts, Educational content, Health and wellness-related content  \\\n",
              "0                                              False                                                                                                                                            \n",
              "1                                              False                                                                                                                                            \n",
              "2                                              False                                                                                                                                            \n",
              "3                                              False                                                                                                                                            \n",
              "4                                              False                                                                                                                                            \n",
              "\n",
              "   Which type of content do you engage with the most on social media?_News and current events, Inspirational and motivational posts, Educational content, Health and wellness-related content, Cooking-related content  \\\n",
              "0                                              False                                                                                                                                                                     \n",
              "1                                              False                                                                                                                                                                     \n",
              "2                                              False                                                                                                                                                                     \n",
              "3                                              False                                                                                                                                                                     \n",
              "4                                              False                                                                                                                                                                     \n",
              "\n",
              "   Which type of content do you engage with the most on social media?_Others  \\\n",
              "0                                              False                           \n",
              "1                                              False                           \n",
              "2                                              False                           \n",
              "3                                              False                           \n",
              "4                                              False                           \n",
              "\n",
              "   Do u experience symptoms of anxiety (e.g., worry, nervousness, panic attacks)?_Daily  \\\n",
              "0                                               True                                      \n",
              "1                                              False                                      \n",
              "2                                               True                                      \n",
              "3                                              False                                      \n",
              "4                                              False                                      \n",
              "\n",
              "   Do u experience symptoms of anxiety (e.g., worry, nervousness, panic attacks)?_Monthly  \\\n",
              "0                                              False                                        \n",
              "1                                              False                                        \n",
              "2                                              False                                        \n",
              "3                                              False                                        \n",
              "4                                               True                                        \n",
              "\n",
              "   Do u experience symptoms of anxiety (e.g., worry, nervousness, panic attacks)?_Never  \\\n",
              "0                                              False                                      \n",
              "1                                              False                                      \n",
              "2                                              False                                      \n",
              "3                                              False                                      \n",
              "4                                              False                                      \n",
              "\n",
              "   Do u experience symptoms of anxiety (e.g., worry, nervousness, panic attacks)?_Rarely  \\\n",
              "0                                              False                                       \n",
              "1                                               True                                       \n",
              "2                                              False                                       \n",
              "3                                               True                                       \n",
              "4                                              False                                       \n",
              "\n",
              "   Do u experience symptoms of anxiety (e.g., worry, nervousness, panic attacks)?_Weekly  \n",
              "0                                              False                                      \n",
              "1                                              False                                      \n",
              "2                                              False                                      \n",
              "3                                              False                                      \n",
              "4                                              False                                      \n",
              "\n",
              "[5 rows x 150 columns]"
            ],
            "text/html": [
              "\n",
              "  <div id=\"df-5571b51f-1e1e-49d4-915e-cc683da42469\" class=\"colab-df-container\">\n",
              "    <div>\n",
              "<style scoped>\n",
              "    .dataframe tbody tr th:only-of-type {\n",
              "        vertical-align: middle;\n",
              "    }\n",
              "\n",
              "    .dataframe tbody tr th {\n",
              "        vertical-align: top;\n",
              "    }\n",
              "\n",
              "    .dataframe thead th {\n",
              "        text-align: right;\n",
              "    }\n",
              "</style>\n",
              "<table border=\"1\" class=\"dataframe\">\n",
              "  <thead>\n",
              "    <tr style=\"text-align: right;\">\n",
              "      <th></th>\n",
              "      <th>Age</th>\n",
              "      <th>How satisfied are you with your social relationships outside of social media?</th>\n",
              "      <th>On a scale of 1 to 10, how would you rate your overall mental health?</th>\n",
              "      <th>Gender_Female</th>\n",
              "      <th>Gender_Male</th>\n",
              "      <th>Gender_Other</th>\n",
              "      <th>Profession_Actor</th>\n",
              "      <th>Profession_Businessmen</th>\n",
              "      <th>Profession_Doctor</th>\n",
              "      <th>Profession_Engineer</th>\n",
              "      <th>...</th>\n",
              "      <th>Which type of content do you engage with the most on social media?_News and current events, Entertainment(memes, funny videos), Others</th>\n",
              "      <th>Which type of content do you engage with the most on social media?_News and current events, Inspirational and motivational posts, Educational content</th>\n",
              "      <th>Which type of content do you engage with the most on social media?_News and current events, Inspirational and motivational posts, Educational content, Health and wellness-related content</th>\n",
              "      <th>Which type of content do you engage with the most on social media?_News and current events, Inspirational and motivational posts, Educational content, Health and wellness-related content, Cooking-related content</th>\n",
              "      <th>Which type of content do you engage with the most on social media?_Others</th>\n",
              "      <th>Do u experience symptoms of anxiety (e.g., worry, nervousness, panic attacks)?_Daily</th>\n",
              "      <th>Do u experience symptoms of anxiety (e.g., worry, nervousness, panic attacks)?_Monthly</th>\n",
              "      <th>Do u experience symptoms of anxiety (e.g., worry, nervousness, panic attacks)?_Never</th>\n",
              "      <th>Do u experience symptoms of anxiety (e.g., worry, nervousness, panic attacks)?_Rarely</th>\n",
              "      <th>Do u experience symptoms of anxiety (e.g., worry, nervousness, panic attacks)?_Weekly</th>\n",
              "    </tr>\n",
              "  </thead>\n",
              "  <tbody>\n",
              "    <tr>\n",
              "      <th>0</th>\n",
              "      <td>19</td>\n",
              "      <td>1</td>\n",
              "      <td>4</td>\n",
              "      <td>True</td>\n",
              "      <td>False</td>\n",
              "      <td>False</td>\n",
              "      <td>False</td>\n",
              "      <td>False</td>\n",
              "      <td>False</td>\n",
              "      <td>False</td>\n",
              "      <td>...</td>\n",
              "      <td>False</td>\n",
              "      <td>False</td>\n",
              "      <td>False</td>\n",
              "      <td>False</td>\n",
              "      <td>False</td>\n",
              "      <td>True</td>\n",
              "      <td>False</td>\n",
              "      <td>False</td>\n",
              "      <td>False</td>\n",
              "      <td>False</td>\n",
              "    </tr>\n",
              "    <tr>\n",
              "      <th>1</th>\n",
              "      <td>19</td>\n",
              "      <td>1</td>\n",
              "      <td>8</td>\n",
              "      <td>True</td>\n",
              "      <td>False</td>\n",
              "      <td>False</td>\n",
              "      <td>False</td>\n",
              "      <td>False</td>\n",
              "      <td>False</td>\n",
              "      <td>False</td>\n",
              "      <td>...</td>\n",
              "      <td>False</td>\n",
              "      <td>False</td>\n",
              "      <td>False</td>\n",
              "      <td>False</td>\n",
              "      <td>False</td>\n",
              "      <td>False</td>\n",
              "      <td>False</td>\n",
              "      <td>False</td>\n",
              "      <td>True</td>\n",
              "      <td>False</td>\n",
              "    </tr>\n",
              "    <tr>\n",
              "      <th>2</th>\n",
              "      <td>20</td>\n",
              "      <td>2</td>\n",
              "      <td>1</td>\n",
              "      <td>False</td>\n",
              "      <td>True</td>\n",
              "      <td>False</td>\n",
              "      <td>False</td>\n",
              "      <td>False</td>\n",
              "      <td>False</td>\n",
              "      <td>False</td>\n",
              "      <td>...</td>\n",
              "      <td>False</td>\n",
              "      <td>False</td>\n",
              "      <td>False</td>\n",
              "      <td>False</td>\n",
              "      <td>False</td>\n",
              "      <td>True</td>\n",
              "      <td>False</td>\n",
              "      <td>False</td>\n",
              "      <td>False</td>\n",
              "      <td>False</td>\n",
              "    </tr>\n",
              "    <tr>\n",
              "      <th>3</th>\n",
              "      <td>17</td>\n",
              "      <td>3</td>\n",
              "      <td>5</td>\n",
              "      <td>True</td>\n",
              "      <td>False</td>\n",
              "      <td>False</td>\n",
              "      <td>False</td>\n",
              "      <td>False</td>\n",
              "      <td>False</td>\n",
              "      <td>False</td>\n",
              "      <td>...</td>\n",
              "      <td>False</td>\n",
              "      <td>False</td>\n",
              "      <td>False</td>\n",
              "      <td>False</td>\n",
              "      <td>False</td>\n",
              "      <td>False</td>\n",
              "      <td>False</td>\n",
              "      <td>False</td>\n",
              "      <td>True</td>\n",
              "      <td>False</td>\n",
              "    </tr>\n",
              "    <tr>\n",
              "      <th>4</th>\n",
              "      <td>18</td>\n",
              "      <td>2</td>\n",
              "      <td>7</td>\n",
              "      <td>True</td>\n",
              "      <td>False</td>\n",
              "      <td>False</td>\n",
              "      <td>False</td>\n",
              "      <td>False</td>\n",
              "      <td>False</td>\n",
              "      <td>False</td>\n",
              "      <td>...</td>\n",
              "      <td>False</td>\n",
              "      <td>False</td>\n",
              "      <td>False</td>\n",
              "      <td>False</td>\n",
              "      <td>False</td>\n",
              "      <td>False</td>\n",
              "      <td>True</td>\n",
              "      <td>False</td>\n",
              "      <td>False</td>\n",
              "      <td>False</td>\n",
              "    </tr>\n",
              "  </tbody>\n",
              "</table>\n",
              "<p>5 rows × 150 columns</p>\n",
              "</div>\n",
              "    <div class=\"colab-df-buttons\">\n",
              "\n",
              "  <div class=\"colab-df-container\">\n",
              "    <button class=\"colab-df-convert\" onclick=\"convertToInteractive('df-5571b51f-1e1e-49d4-915e-cc683da42469')\"\n",
              "            title=\"Convert this dataframe to an interactive table.\"\n",
              "            style=\"display:none;\">\n",
              "\n",
              "  <svg xmlns=\"http://www.w3.org/2000/svg\" height=\"24px\" viewBox=\"0 -960 960 960\">\n",
              "    <path d=\"M120-120v-720h720v720H120Zm60-500h600v-160H180v160Zm220 220h160v-160H400v160Zm0 220h160v-160H400v160ZM180-400h160v-160H180v160Zm440 0h160v-160H620v160ZM180-180h160v-160H180v160Zm440 0h160v-160H620v160Z\"/>\n",
              "  </svg>\n",
              "    </button>\n",
              "\n",
              "  <style>\n",
              "    .colab-df-container {\n",
              "      display:flex;\n",
              "      gap: 12px;\n",
              "    }\n",
              "\n",
              "    .colab-df-convert {\n",
              "      background-color: #E8F0FE;\n",
              "      border: none;\n",
              "      border-radius: 50%;\n",
              "      cursor: pointer;\n",
              "      display: none;\n",
              "      fill: #1967D2;\n",
              "      height: 32px;\n",
              "      padding: 0 0 0 0;\n",
              "      width: 32px;\n",
              "    }\n",
              "\n",
              "    .colab-df-convert:hover {\n",
              "      background-color: #E2EBFA;\n",
              "      box-shadow: 0px 1px 2px rgba(60, 64, 67, 0.3), 0px 1px 3px 1px rgba(60, 64, 67, 0.15);\n",
              "      fill: #174EA6;\n",
              "    }\n",
              "\n",
              "    .colab-df-buttons div {\n",
              "      margin-bottom: 4px;\n",
              "    }\n",
              "\n",
              "    [theme=dark] .colab-df-convert {\n",
              "      background-color: #3B4455;\n",
              "      fill: #D2E3FC;\n",
              "    }\n",
              "\n",
              "    [theme=dark] .colab-df-convert:hover {\n",
              "      background-color: #434B5C;\n",
              "      box-shadow: 0px 1px 3px 1px rgba(0, 0, 0, 0.15);\n",
              "      filter: drop-shadow(0px 1px 2px rgba(0, 0, 0, 0.3));\n",
              "      fill: #FFFFFF;\n",
              "    }\n",
              "  </style>\n",
              "\n",
              "    <script>\n",
              "      const buttonEl =\n",
              "        document.querySelector('#df-5571b51f-1e1e-49d4-915e-cc683da42469 button.colab-df-convert');\n",
              "      buttonEl.style.display =\n",
              "        google.colab.kernel.accessAllowed ? 'block' : 'none';\n",
              "\n",
              "      async function convertToInteractive(key) {\n",
              "        const element = document.querySelector('#df-5571b51f-1e1e-49d4-915e-cc683da42469');\n",
              "        const dataTable =\n",
              "          await google.colab.kernel.invokeFunction('convertToInteractive',\n",
              "                                                    [key], {});\n",
              "        if (!dataTable) return;\n",
              "\n",
              "        const docLinkHtml = 'Like what you see? Visit the ' +\n",
              "          '<a target=\"_blank\" href=https://colab.research.google.com/notebooks/data_table.ipynb>data table notebook</a>'\n",
              "          + ' to learn more about interactive tables.';\n",
              "        element.innerHTML = '';\n",
              "        dataTable['output_type'] = 'display_data';\n",
              "        await google.colab.output.renderOutput(dataTable, element);\n",
              "        const docLink = document.createElement('div');\n",
              "        docLink.innerHTML = docLinkHtml;\n",
              "        element.appendChild(docLink);\n",
              "      }\n",
              "    </script>\n",
              "  </div>\n",
              "\n",
              "\n",
              "<div id=\"df-7602333c-9272-4ad8-989b-5ec92e66a6ae\">\n",
              "  <button class=\"colab-df-quickchart\" onclick=\"quickchart('df-7602333c-9272-4ad8-989b-5ec92e66a6ae')\"\n",
              "            title=\"Suggest charts\"\n",
              "            style=\"display:none;\">\n",
              "\n",
              "<svg xmlns=\"http://www.w3.org/2000/svg\" height=\"24px\"viewBox=\"0 0 24 24\"\n",
              "     width=\"24px\">\n",
              "    <g>\n",
              "        <path d=\"M19 3H5c-1.1 0-2 .9-2 2v14c0 1.1.9 2 2 2h14c1.1 0 2-.9 2-2V5c0-1.1-.9-2-2-2zM9 17H7v-7h2v7zm4 0h-2V7h2v10zm4 0h-2v-4h2v4z\"/>\n",
              "    </g>\n",
              "</svg>\n",
              "  </button>\n",
              "\n",
              "<style>\n",
              "  .colab-df-quickchart {\n",
              "      --bg-color: #E8F0FE;\n",
              "      --fill-color: #1967D2;\n",
              "      --hover-bg-color: #E2EBFA;\n",
              "      --hover-fill-color: #174EA6;\n",
              "      --disabled-fill-color: #AAA;\n",
              "      --disabled-bg-color: #DDD;\n",
              "  }\n",
              "\n",
              "  [theme=dark] .colab-df-quickchart {\n",
              "      --bg-color: #3B4455;\n",
              "      --fill-color: #D2E3FC;\n",
              "      --hover-bg-color: #434B5C;\n",
              "      --hover-fill-color: #FFFFFF;\n",
              "      --disabled-bg-color: #3B4455;\n",
              "      --disabled-fill-color: #666;\n",
              "  }\n",
              "\n",
              "  .colab-df-quickchart {\n",
              "    background-color: var(--bg-color);\n",
              "    border: none;\n",
              "    border-radius: 50%;\n",
              "    cursor: pointer;\n",
              "    display: none;\n",
              "    fill: var(--fill-color);\n",
              "    height: 32px;\n",
              "    padding: 0;\n",
              "    width: 32px;\n",
              "  }\n",
              "\n",
              "  .colab-df-quickchart:hover {\n",
              "    background-color: var(--hover-bg-color);\n",
              "    box-shadow: 0 1px 2px rgba(60, 64, 67, 0.3), 0 1px 3px 1px rgba(60, 64, 67, 0.15);\n",
              "    fill: var(--button-hover-fill-color);\n",
              "  }\n",
              "\n",
              "  .colab-df-quickchart-complete:disabled,\n",
              "  .colab-df-quickchart-complete:disabled:hover {\n",
              "    background-color: var(--disabled-bg-color);\n",
              "    fill: var(--disabled-fill-color);\n",
              "    box-shadow: none;\n",
              "  }\n",
              "\n",
              "  .colab-df-spinner {\n",
              "    border: 2px solid var(--fill-color);\n",
              "    border-color: transparent;\n",
              "    border-bottom-color: var(--fill-color);\n",
              "    animation:\n",
              "      spin 1s steps(1) infinite;\n",
              "  }\n",
              "\n",
              "  @keyframes spin {\n",
              "    0% {\n",
              "      border-color: transparent;\n",
              "      border-bottom-color: var(--fill-color);\n",
              "      border-left-color: var(--fill-color);\n",
              "    }\n",
              "    20% {\n",
              "      border-color: transparent;\n",
              "      border-left-color: var(--fill-color);\n",
              "      border-top-color: var(--fill-color);\n",
              "    }\n",
              "    30% {\n",
              "      border-color: transparent;\n",
              "      border-left-color: var(--fill-color);\n",
              "      border-top-color: var(--fill-color);\n",
              "      border-right-color: var(--fill-color);\n",
              "    }\n",
              "    40% {\n",
              "      border-color: transparent;\n",
              "      border-right-color: var(--fill-color);\n",
              "      border-top-color: var(--fill-color);\n",
              "    }\n",
              "    60% {\n",
              "      border-color: transparent;\n",
              "      border-right-color: var(--fill-color);\n",
              "    }\n",
              "    80% {\n",
              "      border-color: transparent;\n",
              "      border-right-color: var(--fill-color);\n",
              "      border-bottom-color: var(--fill-color);\n",
              "    }\n",
              "    90% {\n",
              "      border-color: transparent;\n",
              "      border-bottom-color: var(--fill-color);\n",
              "    }\n",
              "  }\n",
              "</style>\n",
              "\n",
              "  <script>\n",
              "    async function quickchart(key) {\n",
              "      const quickchartButtonEl =\n",
              "        document.querySelector('#' + key + ' button');\n",
              "      quickchartButtonEl.disabled = true;  // To prevent multiple clicks.\n",
              "      quickchartButtonEl.classList.add('colab-df-spinner');\n",
              "      try {\n",
              "        const charts = await google.colab.kernel.invokeFunction(\n",
              "            'suggestCharts', [key], {});\n",
              "      } catch (error) {\n",
              "        console.error('Error during call to suggestCharts:', error);\n",
              "      }\n",
              "      quickchartButtonEl.classList.remove('colab-df-spinner');\n",
              "      quickchartButtonEl.classList.add('colab-df-quickchart-complete');\n",
              "    }\n",
              "    (() => {\n",
              "      let quickchartButtonEl =\n",
              "        document.querySelector('#df-7602333c-9272-4ad8-989b-5ec92e66a6ae button');\n",
              "      quickchartButtonEl.style.display =\n",
              "        google.colab.kernel.accessAllowed ? 'block' : 'none';\n",
              "    })();\n",
              "  </script>\n",
              "</div>\n",
              "\n",
              "    </div>\n",
              "  </div>\n"
            ],
            "application/vnd.google.colaboratory.intrinsic+json": {
              "type": "dataframe",
              "variable_name": "df1"
            }
          },
          "metadata": {},
          "execution_count": 36
        }
      ],
      "source": [
        "df1 = pd.get_dummies(df.drop(['Do you think life would be fundamentally different without social media?'],axis='columns'))\n",
        "df1.head()"
      ]
    },
    {
      "cell_type": "code",
      "execution_count": null,
      "metadata": {
        "id": "Zh17o9XIFh3b"
      },
      "outputs": [],
      "source": [
        "## Apply one-hot encoding with drop_first=True\n",
        "#df_encoded = pd.get_dummies(df, drop_first=True)\n"
      ]
    },
    {
      "cell_type": "code",
      "execution_count": null,
      "metadata": {
        "id": "nKc8WKofH70j"
      },
      "outputs": [],
      "source": [
        "#df_encoded.head()"
      ]
    },
    {
      "cell_type": "code",
      "execution_count": null,
      "metadata": {
        "id": "vnKWjrjhVK9R"
      },
      "outputs": [],
      "source": []
    },
    {
      "cell_type": "code",
      "execution_count": null,
      "metadata": {
        "id": "2_RcHrJRIDCe"
      },
      "outputs": [],
      "source": [
        "from sklearn.model_selection import train_test_split\n",
        "from sklearn.ensemble import RandomForestClassifier\n",
        "from sklearn.metrics import accuracy_score, classification_report"
      ]
    },
    {
      "cell_type": "code",
      "execution_count": null,
      "metadata": {
        "id": "cToLkKSIIH9f"
      },
      "outputs": [],
      "source": [
        "from sklearn.ensemble import RandomForestClassifier\n",
        "from sklearn.model_selection import train_test_split\n"
      ]
    },
    {
      "cell_type": "code",
      "source": [
        "print(len(df1))\n",
        "print(len(Y))"
      ],
      "metadata": {
        "colab": {
          "base_uri": "https://localhost:8080/"
        },
        "id": "eB9QBs14r-kW",
        "outputId": "8bc4210e-9c74-4782-8fc5-33d0d6a77d64"
      },
      "execution_count": null,
      "outputs": [
        {
          "output_type": "stream",
          "name": "stdout",
          "text": [
            "243\n",
            "243\n"
          ]
        }
      ]
    },
    {
      "cell_type": "code",
      "execution_count": null,
      "metadata": {
        "id": "WJHuAfkjKj6B"
      },
      "outputs": [],
      "source": [
        "X_train, X_test, y_train, y_test = train_test_split(df1, Y, test_size=0.2,random_state=42)"
      ]
    },
    {
      "cell_type": "code",
      "execution_count": null,
      "metadata": {
        "colab": {
          "base_uri": "https://localhost:8080/"
        },
        "id": "zAptXZ4dc2yD",
        "outputId": "9a1b6a0b-f3f7-4529-d95f-1a515e4c1883"
      },
      "outputs": [
        {
          "output_type": "stream",
          "name": "stdout",
          "text": [
            "Missing values in X_train:\n",
            "Age                                                                                       0\n",
            "How satisfied are you with your social relationships outside of social media?             0\n",
            "On a scale of 1 to 10, how would you rate your overall mental health?                     0\n",
            "Gender_Female                                                                             0\n",
            "Gender_Male                                                                               0\n",
            "                                                                                         ..\n",
            "Do u experience symptoms of anxiety (e.g., worry, nervousness, panic attacks)?_Daily      0\n",
            "Do u experience symptoms of anxiety (e.g., worry, nervousness, panic attacks)?_Monthly    0\n",
            "Do u experience symptoms of anxiety (e.g., worry, nervousness, panic attacks)?_Never      0\n",
            "Do u experience symptoms of anxiety (e.g., worry, nervousness, panic attacks)?_Rarely     0\n",
            "Do u experience symptoms of anxiety (e.g., worry, nervousness, panic attacks)?_Weekly     0\n",
            "Length: 150, dtype: int64\n",
            "Missing values in X_test:\n",
            "Age                                                                                       0\n",
            "How satisfied are you with your social relationships outside of social media?             0\n",
            "On a scale of 1 to 10, how would you rate your overall mental health?                     0\n",
            "Gender_Female                                                                             0\n",
            "Gender_Male                                                                               0\n",
            "                                                                                         ..\n",
            "Do u experience symptoms of anxiety (e.g., worry, nervousness, panic attacks)?_Daily      0\n",
            "Do u experience symptoms of anxiety (e.g., worry, nervousness, panic attacks)?_Monthly    0\n",
            "Do u experience symptoms of anxiety (e.g., worry, nervousness, panic attacks)?_Never      0\n",
            "Do u experience symptoms of anxiety (e.g., worry, nervousness, panic attacks)?_Rarely     0\n",
            "Do u experience symptoms of anxiety (e.g., worry, nervousness, panic attacks)?_Weekly     0\n",
            "Length: 150, dtype: int64\n"
          ]
        }
      ],
      "source": [
        "missing_values_train = X_train.isna().sum()\n",
        "print(\"Missing values in X_train:\")\n",
        "print(missing_values_train)\n",
        "\n",
        "# Check for missing values in X_test\n",
        "missing_values_test = X_test.isna().sum()\n",
        "print(\"Missing values in X_test:\")\n",
        "print(missing_values_test)"
      ]
    },
    {
      "cell_type": "code",
      "execution_count": null,
      "metadata": {
        "id": "1GRyddY5eX89"
      },
      "outputs": [],
      "source": [
        "X_test['How satisfied are you with your social relationships outside of social media? '].fillna(0, inplace=True)"
      ]
    },
    {
      "cell_type": "code",
      "source": [],
      "metadata": {
        "id": "PhaXjHAyxXsT"
      },
      "execution_count": null,
      "outputs": []
    },
    {
      "cell_type": "code",
      "source": [],
      "metadata": {
        "id": "O8yuVoALxiuX"
      },
      "execution_count": null,
      "outputs": []
    },
    {
      "cell_type": "code",
      "execution_count": null,
      "metadata": {
        "colab": {
          "base_uri": "https://localhost:8080/",
          "height": 74
        },
        "id": "gAtWzE5OKvFY",
        "outputId": "4b311947-baf1-45eb-86af-de73b58cd727"
      },
      "outputs": [
        {
          "output_type": "execute_result",
          "data": {
            "text/plain": [
              "RandomForestClassifier(random_state=42)"
            ],
            "text/html": [
              "<style>#sk-container-id-4 {color: black;background-color: white;}#sk-container-id-4 pre{padding: 0;}#sk-container-id-4 div.sk-toggleable {background-color: white;}#sk-container-id-4 label.sk-toggleable__label {cursor: pointer;display: block;width: 100%;margin-bottom: 0;padding: 0.3em;box-sizing: border-box;text-align: center;}#sk-container-id-4 label.sk-toggleable__label-arrow:before {content: \"▸\";float: left;margin-right: 0.25em;color: #696969;}#sk-container-id-4 label.sk-toggleable__label-arrow:hover:before {color: black;}#sk-container-id-4 div.sk-estimator:hover label.sk-toggleable__label-arrow:before {color: black;}#sk-container-id-4 div.sk-toggleable__content {max-height: 0;max-width: 0;overflow: hidden;text-align: left;background-color: #f0f8ff;}#sk-container-id-4 div.sk-toggleable__content pre {margin: 0.2em;color: black;border-radius: 0.25em;background-color: #f0f8ff;}#sk-container-id-4 input.sk-toggleable__control:checked~div.sk-toggleable__content {max-height: 200px;max-width: 100%;overflow: auto;}#sk-container-id-4 input.sk-toggleable__control:checked~label.sk-toggleable__label-arrow:before {content: \"▾\";}#sk-container-id-4 div.sk-estimator input.sk-toggleable__control:checked~label.sk-toggleable__label {background-color: #d4ebff;}#sk-container-id-4 div.sk-label input.sk-toggleable__control:checked~label.sk-toggleable__label {background-color: #d4ebff;}#sk-container-id-4 input.sk-hidden--visually {border: 0;clip: rect(1px 1px 1px 1px);clip: rect(1px, 1px, 1px, 1px);height: 1px;margin: -1px;overflow: hidden;padding: 0;position: absolute;width: 1px;}#sk-container-id-4 div.sk-estimator {font-family: monospace;background-color: #f0f8ff;border: 1px dotted black;border-radius: 0.25em;box-sizing: border-box;margin-bottom: 0.5em;}#sk-container-id-4 div.sk-estimator:hover {background-color: #d4ebff;}#sk-container-id-4 div.sk-parallel-item::after {content: \"\";width: 100%;border-bottom: 1px solid gray;flex-grow: 1;}#sk-container-id-4 div.sk-label:hover label.sk-toggleable__label {background-color: #d4ebff;}#sk-container-id-4 div.sk-serial::before {content: \"\";position: absolute;border-left: 1px solid gray;box-sizing: border-box;top: 0;bottom: 0;left: 50%;z-index: 0;}#sk-container-id-4 div.sk-serial {display: flex;flex-direction: column;align-items: center;background-color: white;padding-right: 0.2em;padding-left: 0.2em;position: relative;}#sk-container-id-4 div.sk-item {position: relative;z-index: 1;}#sk-container-id-4 div.sk-parallel {display: flex;align-items: stretch;justify-content: center;background-color: white;position: relative;}#sk-container-id-4 div.sk-item::before, #sk-container-id-4 div.sk-parallel-item::before {content: \"\";position: absolute;border-left: 1px solid gray;box-sizing: border-box;top: 0;bottom: 0;left: 50%;z-index: -1;}#sk-container-id-4 div.sk-parallel-item {display: flex;flex-direction: column;z-index: 1;position: relative;background-color: white;}#sk-container-id-4 div.sk-parallel-item:first-child::after {align-self: flex-end;width: 50%;}#sk-container-id-4 div.sk-parallel-item:last-child::after {align-self: flex-start;width: 50%;}#sk-container-id-4 div.sk-parallel-item:only-child::after {width: 0;}#sk-container-id-4 div.sk-dashed-wrapped {border: 1px dashed gray;margin: 0 0.4em 0.5em 0.4em;box-sizing: border-box;padding-bottom: 0.4em;background-color: white;}#sk-container-id-4 div.sk-label label {font-family: monospace;font-weight: bold;display: inline-block;line-height: 1.2em;}#sk-container-id-4 div.sk-label-container {text-align: center;}#sk-container-id-4 div.sk-container {/* jupyter's `normalize.less` sets `[hidden] { display: none; }` but bootstrap.min.css set `[hidden] { display: none !important; }` so we also need the `!important` here to be able to override the default hidden behavior on the sphinx rendered scikit-learn.org. See: https://github.com/scikit-learn/scikit-learn/issues/21755 */display: inline-block !important;position: relative;}#sk-container-id-4 div.sk-text-repr-fallback {display: none;}</style><div id=\"sk-container-id-4\" class=\"sk-top-container\"><div class=\"sk-text-repr-fallback\"><pre>RandomForestClassifier(random_state=42)</pre><b>In a Jupyter environment, please rerun this cell to show the HTML representation or trust the notebook. <br />On GitHub, the HTML representation is unable to render, please try loading this page with nbviewer.org.</b></div><div class=\"sk-container\" hidden><div class=\"sk-item\"><div class=\"sk-estimator sk-toggleable\"><input class=\"sk-toggleable__control sk-hidden--visually\" id=\"sk-estimator-id-4\" type=\"checkbox\" checked><label for=\"sk-estimator-id-4\" class=\"sk-toggleable__label sk-toggleable__label-arrow\">RandomForestClassifier</label><div class=\"sk-toggleable__content\"><pre>RandomForestClassifier(random_state=42)</pre></div></div></div></div></div>"
            ]
          },
          "metadata": {},
          "execution_count": 42
        }
      ],
      "source": [
        "rf_classifier = RandomForestClassifier(n_estimators=100, random_state=42)\n",
        "from sklearn.impute import SimpleImputer\n",
        "\n",
        "# Instantiate SimpleImputer\n",
        "imputer = SimpleImputer(strategy='most_frequent')\n",
        "\n",
        "# Fit the imputer on the training data and transform both training and testing data\n",
        "X_train_imputed = imputer.fit_transform(X_train)\n",
        "X_test_imputed = imputer.transform(X_test)\n",
        "\n",
        "\n",
        "# Train the classifier\n",
        "rf_classifier.fit(X_train_imputed, y_train)\n"
      ]
    },
    {
      "cell_type": "code",
      "execution_count": null,
      "metadata": {
        "colab": {
          "base_uri": "https://localhost:8080/"
        },
        "id": "iBJ8JUlOLVIL",
        "outputId": "22d691c9-3940-445d-96b6-35d4d3c46949"
      },
      "outputs": [
        {
          "output_type": "stream",
          "name": "stderr",
          "text": [
            "/usr/local/lib/python3.10/dist-packages/sklearn/base.py:432: UserWarning: X has feature names, but RandomForestClassifier was fitted without feature names\n",
            "  warnings.warn(\n"
          ]
        }
      ],
      "source": [
        "accuracy = rf_classifier.score(X_test, y_test)\n"
      ]
    },
    {
      "cell_type": "code",
      "execution_count": null,
      "metadata": {
        "colab": {
          "base_uri": "https://localhost:8080/"
        },
        "id": "NyP6PNClMXEl",
        "outputId": "708b4a24-59f2-48a3-ea0a-352426bff5c2"
      },
      "outputs": [
        {
          "output_type": "stream",
          "name": "stdout",
          "text": [
            "Accuracy: 0.7142857142857143\n"
          ]
        }
      ],
      "source": [
        "print(\"Accuracy:\", accuracy)\n"
      ]
    },
    {
      "cell_type": "code",
      "source": [
        "y_pred = rf_classifier.predict(X_test)\n"
      ],
      "metadata": {
        "colab": {
          "base_uri": "https://localhost:8080/"
        },
        "id": "bbbl5SR-VfsH",
        "outputId": "12923cd0-e6bb-4ff8-9874-42946188cecd"
      },
      "execution_count": null,
      "outputs": [
        {
          "output_type": "stream",
          "name": "stderr",
          "text": [
            "/usr/local/lib/python3.10/dist-packages/sklearn/base.py:432: UserWarning: X has feature names, but RandomForestClassifier was fitted without feature names\n",
            "  warnings.warn(\n"
          ]
        }
      ]
    },
    {
      "cell_type": "code",
      "source": [
        "precision = precision_score(y_test, y_pred)\n",
        "print(f'Precision: {precision:.2f}')\n"
      ],
      "metadata": {
        "id": "DlTHclVqVW1G"
      },
      "execution_count": null,
      "outputs": []
    },
    {
      "cell_type": "code",
      "execution_count": null,
      "metadata": {
        "id": "tOu6P_2zNZu0"
      },
      "outputs": [],
      "source": [
        "percentage_yes = (sum(predictions == 'Yes') / len(predictions)) * 100"
      ]
    },
    {
      "cell_type": "code",
      "execution_count": null,
      "metadata": {
        "id": "bGJDdNBsamg5"
      },
      "outputs": [],
      "source": []
    },
    {
      "cell_type": "code",
      "execution_count": null,
      "metadata": {
        "id": "ZcYZX6QJRGEF"
      },
      "outputs": [],
      "source": []
    },
    {
      "cell_type": "code",
      "execution_count": null,
      "metadata": {
        "id": "ibGWykH9RI7S"
      },
      "outputs": [],
      "source": []
    },
    {
      "cell_type": "code",
      "execution_count": null,
      "metadata": {
        "id": "j1NC_WXSPfF9"
      },
      "outputs": [],
      "source": []
    },
    {
      "cell_type": "code",
      "execution_count": null,
      "metadata": {
        "id": "AXqnBXzEOFfI"
      },
      "outputs": [],
      "source": []
    },
    {
      "cell_type": "code",
      "execution_count": null,
      "metadata": {
        "colab": {
          "base_uri": "https://localhost:8080/",
          "height": 74
        },
        "id": "i8C1pZiDPgTW",
        "outputId": "2a30947b-88b3-4d28-f832-55c5fd8ddbfa"
      },
      "outputs": [
        {
          "output_type": "execute_result",
          "data": {
            "text/plain": [
              "ExtraTreesRegressor()"
            ],
            "text/html": [
              "<style>#sk-container-id-5 {color: black;background-color: white;}#sk-container-id-5 pre{padding: 0;}#sk-container-id-5 div.sk-toggleable {background-color: white;}#sk-container-id-5 label.sk-toggleable__label {cursor: pointer;display: block;width: 100%;margin-bottom: 0;padding: 0.3em;box-sizing: border-box;text-align: center;}#sk-container-id-5 label.sk-toggleable__label-arrow:before {content: \"▸\";float: left;margin-right: 0.25em;color: #696969;}#sk-container-id-5 label.sk-toggleable__label-arrow:hover:before {color: black;}#sk-container-id-5 div.sk-estimator:hover label.sk-toggleable__label-arrow:before {color: black;}#sk-container-id-5 div.sk-toggleable__content {max-height: 0;max-width: 0;overflow: hidden;text-align: left;background-color: #f0f8ff;}#sk-container-id-5 div.sk-toggleable__content pre {margin: 0.2em;color: black;border-radius: 0.25em;background-color: #f0f8ff;}#sk-container-id-5 input.sk-toggleable__control:checked~div.sk-toggleable__content {max-height: 200px;max-width: 100%;overflow: auto;}#sk-container-id-5 input.sk-toggleable__control:checked~label.sk-toggleable__label-arrow:before {content: \"▾\";}#sk-container-id-5 div.sk-estimator input.sk-toggleable__control:checked~label.sk-toggleable__label {background-color: #d4ebff;}#sk-container-id-5 div.sk-label input.sk-toggleable__control:checked~label.sk-toggleable__label {background-color: #d4ebff;}#sk-container-id-5 input.sk-hidden--visually {border: 0;clip: rect(1px 1px 1px 1px);clip: rect(1px, 1px, 1px, 1px);height: 1px;margin: -1px;overflow: hidden;padding: 0;position: absolute;width: 1px;}#sk-container-id-5 div.sk-estimator {font-family: monospace;background-color: #f0f8ff;border: 1px dotted black;border-radius: 0.25em;box-sizing: border-box;margin-bottom: 0.5em;}#sk-container-id-5 div.sk-estimator:hover {background-color: #d4ebff;}#sk-container-id-5 div.sk-parallel-item::after {content: \"\";width: 100%;border-bottom: 1px solid gray;flex-grow: 1;}#sk-container-id-5 div.sk-label:hover label.sk-toggleable__label {background-color: #d4ebff;}#sk-container-id-5 div.sk-serial::before {content: \"\";position: absolute;border-left: 1px solid gray;box-sizing: border-box;top: 0;bottom: 0;left: 50%;z-index: 0;}#sk-container-id-5 div.sk-serial {display: flex;flex-direction: column;align-items: center;background-color: white;padding-right: 0.2em;padding-left: 0.2em;position: relative;}#sk-container-id-5 div.sk-item {position: relative;z-index: 1;}#sk-container-id-5 div.sk-parallel {display: flex;align-items: stretch;justify-content: center;background-color: white;position: relative;}#sk-container-id-5 div.sk-item::before, #sk-container-id-5 div.sk-parallel-item::before {content: \"\";position: absolute;border-left: 1px solid gray;box-sizing: border-box;top: 0;bottom: 0;left: 50%;z-index: -1;}#sk-container-id-5 div.sk-parallel-item {display: flex;flex-direction: column;z-index: 1;position: relative;background-color: white;}#sk-container-id-5 div.sk-parallel-item:first-child::after {align-self: flex-end;width: 50%;}#sk-container-id-5 div.sk-parallel-item:last-child::after {align-self: flex-start;width: 50%;}#sk-container-id-5 div.sk-parallel-item:only-child::after {width: 0;}#sk-container-id-5 div.sk-dashed-wrapped {border: 1px dashed gray;margin: 0 0.4em 0.5em 0.4em;box-sizing: border-box;padding-bottom: 0.4em;background-color: white;}#sk-container-id-5 div.sk-label label {font-family: monospace;font-weight: bold;display: inline-block;line-height: 1.2em;}#sk-container-id-5 div.sk-label-container {text-align: center;}#sk-container-id-5 div.sk-container {/* jupyter's `normalize.less` sets `[hidden] { display: none; }` but bootstrap.min.css set `[hidden] { display: none !important; }` so we also need the `!important` here to be able to override the default hidden behavior on the sphinx rendered scikit-learn.org. See: https://github.com/scikit-learn/scikit-learn/issues/21755 */display: inline-block !important;position: relative;}#sk-container-id-5 div.sk-text-repr-fallback {display: none;}</style><div id=\"sk-container-id-5\" class=\"sk-top-container\"><div class=\"sk-text-repr-fallback\"><pre>ExtraTreesRegressor()</pre><b>In a Jupyter environment, please rerun this cell to show the HTML representation or trust the notebook. <br />On GitHub, the HTML representation is unable to render, please try loading this page with nbviewer.org.</b></div><div class=\"sk-container\" hidden><div class=\"sk-item\"><div class=\"sk-estimator sk-toggleable\"><input class=\"sk-toggleable__control sk-hidden--visually\" id=\"sk-estimator-id-5\" type=\"checkbox\" checked><label for=\"sk-estimator-id-5\" class=\"sk-toggleable__label sk-toggleable__label-arrow\">ExtraTreesRegressor</label><div class=\"sk-toggleable__content\"><pre>ExtraTreesRegressor()</pre></div></div></div></div></div>"
            ]
          },
          "metadata": {},
          "execution_count": 47
        }
      ],
      "source": [
        "from sklearn.ensemble import ExtraTreesRegressor\n",
        "selection = ExtraTreesRegressor()\n",
        "from sklearn.impute import SimpleImputer\n",
        "from sklearn.preprocessing import LabelEncoder\n",
        "\n",
        "# Encode the target variable (assuming it's named 'Y')\n",
        "label_encoder = LabelEncoder()\n",
        "Y_encoded = label_encoder.fit_transform(Y)\n",
        "\n",
        "# Instantiate SimpleImputer\n",
        "#imputer = SimpleImputer(strategy='mean')\n",
        "\n",
        "# Fit the imputer on the training data and transform both training and testing data\n",
        "x_imputed = imputer.fit_transform(df1)\n",
        "selection.fit(x_imputed, Y_encoded)"
      ]
    },
    {
      "cell_type": "code",
      "execution_count": null,
      "metadata": {
        "colab": {
          "base_uri": "https://localhost:8080/"
        },
        "id": "Ndl4ksB0anmn",
        "outputId": "20575810-0772-43af-cb87-daf6be15d80e"
      },
      "outputs": [
        {
          "output_type": "stream",
          "name": "stdout",
          "text": [
            "['Yes' 'Yes' 'Yes' 'Yes' 'Yes' 'Yes' 'Yes' 'Yes' 'Yes' 'Yes' 'Yes' 'Yes'\n",
            " 'Yes' 'Yes' 'Yes' 'Yes' 'Yes' 'Yes' 'Yes' 'Yes' 'No' 'Yes' 'Yes' 'Yes'\n",
            " 'Yes' 'Yes' 'Yes' 'Yes' 'Yes' 'Yes' 'Yes' 'Yes' 'No' 'Yes' 'Yes' 'Yes'\n",
            " 'Yes' 'Yes' 'Yes' 'Yes' 'Yes' 'Yes' 'Yes' 'Yes' 'Yes' 'Yes' 'Yes' 'Yes'\n",
            " 'Yes']\n",
            "95.91836734693877\n"
          ]
        },
        {
          "output_type": "stream",
          "name": "stderr",
          "text": [
            "/usr/local/lib/python3.10/dist-packages/sklearn/base.py:432: UserWarning: X has feature names, but RandomForestClassifier was fitted without feature names\n",
            "  warnings.warn(\n"
          ]
        }
      ],
      "source": [
        "predictions = rf_classifier.predict(X_test)\n",
        "print(predictions)\n",
        "percentage_yes = (sum(predictions == 'Yes') / len(predictions)) * 100\n",
        "print(percentage_yes)"
      ]
    },
    {
      "cell_type": "code",
      "execution_count": null,
      "metadata": {
        "colab": {
          "base_uri": "https://localhost:8080/"
        },
        "id": "DkqdHoqfgcUJ",
        "outputId": "c6c5b703-1e15-45a6-90e0-5079e8a52e4a"
      },
      "outputs": [
        {
          "output_type": "stream",
          "name": "stdout",
          "text": [
            "Percentage of 'Yes' responses in original target values: 71.42857142857143\n",
            "Percentage of 'Yes' responses in predictions: 95.91836734693877\n"
          ]
        }
      ],
      "source": [
        "# Convert original target values to binary (0s and 1s) for comparison\n",
        "y_test_binary = (y_test == 'Yes').astype(int)\n",
        "\n",
        "# Calculate the percentage of \"Yes\" responses in the original target values\n",
        "percentage_yes_original = (sum(y_test_binary) / len(y_test_binary)) * 100\n",
        "\n",
        "# Print the percentage of \"Yes\" responses in the original target values\n",
        "print(\"Percentage of 'Yes' responses in original target values:\", percentage_yes_original)\n",
        "\n",
        "# Calculate the percentage of \"Yes\" responses in the predictions\n",
        "percentage_yes_predicted = (sum(predictions == 'Yes') / len(predictions)) * 100\n",
        "\n",
        "# Print the percentage of \"Yes\" responses in the predictions\n",
        "print(\"Percentage of 'Yes' responses in predictions:\", percentage_yes_predicted)"
      ]
    },
    {
      "cell_type": "code",
      "execution_count": null,
      "metadata": {
        "id": "LjFWXxuxbuAb"
      },
      "outputs": [],
      "source": [
        "import matplotlib.pyplot as plt"
      ]
    },
    {
      "cell_type": "code",
      "execution_count": null,
      "metadata": {
        "colab": {
          "base_uri": "https://localhost:8080/",
          "height": 320
        },
        "id": "UxPlmbZNQbbI",
        "outputId": "c099e3b3-b0d6-4099-bc09-e74a6ac13a4f"
      },
      "outputs": [
        {
          "output_type": "display_data",
          "data": {
            "text/plain": [
              "<Figure size 1200x800 with 1 Axes>"
            ],
            "image/png": "[encoded data removed]"
          },
          "metadata": {}
        }
      ],
      "source": [
        "plt.figure(figsize = (12,8))\n",
        "feat_importances = pd.Series(selection.feature_importances_, index=X_train.columns)\n",
        "feat_importances.nlargest(20).plot(kind='barh')\n",
        "plt.show()"
      ]
    },
    {
      "cell_type": "code",
      "execution_count": null,
      "metadata": {
        "colab": {
          "base_uri": "https://localhost:8080/"
        },
        "id": "R4PJqB7JRLZj",
        "outputId": "812a4cc5-9aac-4a14-c030-ffe5532157d4"
      },
      "outputs": [
        {
          "output_type": "stream",
          "name": "stdout",
          "text": [
            "[1.31895681e-02 8.34211999e-02 1.53281154e-01 1.97067177e-02\n",
            " 2.19735873e-02 0.00000000e+00 5.95238095e-04 7.16030002e-04\n",
            " 0.00000000e+00 7.72879068e-03 8.16760728e-03 0.00000000e+00\n",
            " 6.53980136e-03 2.05528406e-03 6.44107889e-03 1.85074725e-02\n",
            " 4.51784073e-03 2.39815670e-02 1.20031952e-03 5.82084856e-04\n",
            " 0.00000000e+00 1.41742252e-03 3.84829004e-02 0.00000000e+00\n",
            " 1.08293354e-02 1.19047619e-04 7.28885194e-03 0.00000000e+00\n",
            " 0.00000000e+00 0.00000000e+00 0.00000000e+00 0.00000000e+00\n",
            " 8.18791092e-03 0.00000000e+00 1.67148507e-02 3.83597884e-04\n",
            " 1.39845255e-02 0.00000000e+00 1.00255350e-02 0.00000000e+00\n",
            " 0.00000000e+00 6.96307357e-04 1.26984127e-04 4.81361151e-03\n",
            " 1.76279933e-03 1.05990174e-03 3.57142857e-04 1.51356355e-03\n",
            " 0.00000000e+00 1.32369703e-02 9.92063492e-04 2.40079365e-03\n",
            " 0.00000000e+00 0.00000000e+00 4.78740332e-03 5.24767861e-03\n",
            " 6.89027869e-03 6.72956832e-03 0.00000000e+00 0.00000000e+00\n",
            " 0.00000000e+00 9.80683940e-04 1.19047619e-04 0.00000000e+00\n",
            " 1.78961292e-03 3.89481230e-03 1.56015687e-02 4.60698378e-03\n",
            " 1.64678220e-03 7.22021366e-03 7.53089095e-03 1.02731769e-02\n",
            " 9.56738469e-03 6.18668792e-03 6.31502652e-03 9.33141593e-03\n",
            " 7.23173767e-03 5.67601930e-03 6.51694416e-02 5.60116471e-03\n",
            " 9.33189558e-03 8.36418374e-03 1.99344503e-02 2.64883845e-03\n",
            " 0.00000000e+00 0.00000000e+00 1.24939295e-02 1.92179204e-03\n",
            " 8.47635886e-03 1.26786137e-02 2.38095238e-04 0.00000000e+00\n",
            " 4.04234032e-03 9.78088452e-03 1.26997507e-03 0.00000000e+00\n",
            " 4.89089446e-03 7.93976872e-03 4.98823389e-03 1.36478631e-03\n",
            " 1.31276381e-02 2.31894208e-02 3.60123945e-04 1.69047619e-03\n",
            " 0.00000000e+00 0.00000000e+00 0.00000000e+00 5.20748271e-04\n",
            " 6.37471655e-04 8.10423310e-03 1.54761905e-03 0.00000000e+00\n",
            " 0.00000000e+00 9.16666667e-04 1.78229969e-03 0.00000000e+00\n",
            " 0.00000000e+00 0.00000000e+00 0.00000000e+00 3.97902179e-03\n",
            " 0.00000000e+00 3.34467120e-04 1.96581900e-03 5.84714111e-03\n",
            " 1.37652875e-04 0.00000000e+00 3.48294499e-04 2.21500722e-04\n",
            " 8.14058957e-04 3.16781871e-03 0.00000000e+00 4.21419539e-03\n",
            " 0.00000000e+00 5.21164021e-04 6.28427763e-03 4.08817373e-04\n",
            " 1.85479557e-02 1.64507889e-02 0.00000000e+00 1.89015386e-03\n",
            " 0.00000000e+00 0.00000000e+00 1.22185705e-02 5.76044277e-03\n",
            " 1.01014062e-02 1.34418583e-03 2.93664645e-03 2.05036835e-02\n",
            " 8.50810410e-03 1.18550567e-02]\n"
          ]
        }
      ],
      "source": [
        "print(selection.feature_importances_)"
      ]
    },
    {
      "cell_type": "code",
      "execution_count": null,
      "metadata": {
        "colab": {
          "base_uri": "https://localhost:8080/"
        },
        "id": "FgrXZzMrVMpu",
        "outputId": "665f63b9-fe08-4040-d19b-85c86c8930ec"
      },
      "outputs": [
        {
          "output_type": "stream",
          "name": "stdout",
          "text": [
            "Confusion Matrix:\n",
            "[[ 1 13]\n",
            " [ 1 34]]\n",
            "Precision: 0.723404255319149\n",
            "F1-score: 0.8292682926829269\n"
          ]
        }
      ],
      "source": [
        "from sklearn.metrics import confusion_matrix, classification_report\n",
        "\n",
        "# Predict on the test data using the best model\n",
        "y_pred = rf_classifier.predict(X_test_imputed)\n",
        "\n",
        "# Generate confusion matrix\n",
        "conf_matrix = confusion_matrix(y_test, y_pred)\n",
        "print(\"Confusion Matrix:\")\n",
        "print(conf_matrix)\n",
        "\n",
        "from sklearn.metrics import precision_score, f1_score\n",
        "\n",
        "# Compute precision\n",
        "precision = precision_score(y_test, y_pred, pos_label='Yes')\n",
        "print(\"Precision:\", precision)\n",
        "\n",
        "# Compute F1-score\n",
        "f1 = f1_score(y_test, y_pred, pos_label='Yes')\n",
        "print(\"F1-score:\", f1)\n"
      ]
    },
    {
      "cell_type": "code",
      "execution_count": null,
      "metadata": {
        "colab": {
          "base_uri": "https://localhost:8080/",
          "height": 636
        },
        "id": "e57cTpENid6W",
        "outputId": "a56f423c-5a3c-4fe8-e4e7-05b664cbb9a6"
      },
      "outputs": [
        {
          "output_type": "execute_result",
          "data": {
            "text/plain": [
              "Text(95.72222222222221, 0.5, 'truth')"
            ]
          },
          "metadata": {},
          "execution_count": 54
        },
        {
          "output_type": "display_data",
          "data": {
            "text/plain": [
              "<Figure size 1000x700 with 2 Axes>"
            ],
            "image/png": "[encoded data removed]"
          },
          "metadata": {}
        }
      ],
      "source": [
        "%matplotlib inline\n",
        "import matplotlib.pyplot as plt\n",
        "import seaborn as sns\n",
        "plt.figure(figsize=(10,7))\n",
        "sns.heatmap(conf_matrix,annot=True)\n",
        "plt.xlabel('Predicted')\n",
        "plt.ylabel('truth')"
      ]
    },
    {
      "cell_type": "code",
      "execution_count": null,
      "metadata": {
        "id": "y8d7bVz2ZghW"
      },
      "outputs": [],
      "source": []
    },
    {
      "cell_type": "code",
      "source": [],
      "metadata": {
        "id": "saj836Kcb7xh"
      },
      "execution_count": null,
      "outputs": []
    },
    {
      "cell_type": "code",
      "source": [
        "\n"
      ],
      "metadata": {
        "id": "Xhsl8c8maThI"
      },
      "execution_count": null,
      "outputs": []
    },
    {
      "cell_type": "code",
      "source": [
        "import matplotlib.pyplot as plt\n",
        "\n",
        "n_trees = [100, 200, 300, 400, 500]\n",
        "\n",
        "\n",
        "accuracy_values = [0.71, 0.73, 0.755, 0.755, 0.755]\n",
        "\n",
        "# Plot the accuracy against the number of trees\n",
        "plt.figure(figsize=(10, 8))\n",
        "plt.plot(n_trees, accuracy_values, marker='o')\n",
        "plt.title('Accuracy vs. Number of Trees in Random Forest Classifier')\n",
        "plt.xlabel('Number of Trees')\n",
        "plt.ylabel('Accuracy')\n",
        "plt.ylim(0.705, 0.76)  # Adjust y-axis limits for better visualization\n",
        "plt.grid(True)\n",
        "plt.show()\n"
      ],
      "metadata": {
        "colab": {
          "base_uri": "https://localhost:8080/",
          "height": 718
        },
        "id": "Wli9-A33awt9",
        "outputId": "ce220a35-bf45-4b02-a160-bb7723a44dea"
      },
      "execution_count": null,
      "outputs": [
        {
          "output_type": "display_data",
          "data": {
            "text/plain": [
              "<Figure size 1000x800 with 1 Axes>"
            ],
            "image/png": "[encoded data removed]"
          },
          "metadata": {}
        }
      ]
    },
    {
      "cell_type": "code",
      "source": [
        "from sklearn.ensemble import RandomForestClassifier\n",
        "from sklearn.model_selection import GridSearchCV\n",
        "\n",
        "# Define the parameter grid for hyperparameter tuning\n",
        "param_grid = {\n",
        "    'n_estimators': [100, 200, 300],\n",
        "    'max_depth': [None, 10, 20],\n",
        "    'min_samples_split': [2, 5, 10],\n",
        "    'min_samples_leaf': [1, 2, 4]\n",
        "}\n",
        "\n",
        "# Create a RandomForestClassifier instance\n",
        "rf_classifier = RandomForestClassifier(random_state=42)\n",
        "\n",
        "# Instantiate GridSearchCV with the classifier and parameter grid\n",
        "grid_search = GridSearchCV(estimator=rf_classifier, param_grid=param_grid, cv=5, scoring='accuracy', verbose=1)\n",
        "\n",
        "# Fit the GridSearchCV instance on the imputed training data\n",
        "grid_search.fit(X_train_imputed, y_train)\n",
        "\n",
        "# Print the best parameters and best score\n",
        "print(\"Best Hyperparameters:\", grid_search.best_params_)\n",
        "print(\"Best Accuracy Score:\", grid_search.best_score_)\n",
        "\n",
        "# Get the best estimator (model) from the grid search\n",
        "best_rf_classifier = grid_search.best_estimator_\n",
        "\n",
        "# Evaluate the best model on the imputed test data\n",
        "test_accuracy = best_rf_classifier.score(X_test_imputed, y_test)\n",
        "print(\"Test Accuracy:\", test_accuracy)\n"
      ],
      "metadata": {
        "colab": {
          "base_uri": "https://localhost:8080/"
        },
        "id": "DHgddZlJvPfd",
        "outputId": "d86c062d-20f7-4b85-d481-934348772bf0"
      },
      "execution_count": null,
      "outputs": [
        {
          "output_type": "stream",
          "name": "stdout",
          "text": [
            "Fitting 5 folds for each of 81 candidates, totalling 405 fits\n",
            "Best Hyperparameters: {'max_depth': None, 'min_samples_leaf': 1, 'min_samples_split': 2, 'n_estimators': 200}\n",
            "Best Accuracy Score: 0.8040485829959515\n",
            "Test Accuracy: 0.7346938775510204\n"
          ]
        }
      ]
    },
    {
      "cell_type": "code",
      "execution_count": null,
      "metadata": {
        "colab": {
          "base_uri": "https://localhost:8080/"
        },
        "id": "s3eD6O_hZLSO",
        "outputId": "def00f0f-d6f6-4275-a8d6-8da9b1c7c6ba"
      },
      "outputs": [
        {
          "output_type": "execute_result",
          "data": {
            "text/plain": [
              "Index(['Age', 'Gender', 'Profession',\n",
              "       'On average, how many hours per day do you spend on social media?',\n",
              "       'Which social media app do you use the most?',\n",
              "       'Do you use Social media just before going to bed and just after waking up?',\n",
              "       'Do you often find yourself scrolling through social media feeds without a specific purpose?',\n",
              "       'Do you ever feel like your achievements aren't as good as what you see on social media?',\n",
              "       'How often do you encounter negative content (e.g., cyberbullying, distressing news) on social media?',\n",
              "       'Do you feel anxious or stressed when you don't get enough likes or engagement on your posts?',\n",
              "       'Which type of content do you engage with the most on social media?',\n",
              "       'How satisfied are you with your social relationships outside of social media?',\n",
              "       'Do u experience symptoms of anxiety (e.g., worry, nervousness, panic attacks)?',\n",
              "       'On a scale of 1 to 10, how would you rate your overall mental health?',\n",
              "       'Do you think life would be fundamentally different without social media?'],\n",
              "      dtype='object')"
            ]
          },
          "metadata": {},
          "execution_count": 57
        }
      ],
      "source": [
        "df.columns"
      ]
    },
    {
      "cell_type": "code",
      "execution_count": null,
      "metadata": {
        "colab": {
          "base_uri": "https://localhost:8080/"
        },
        "id": "9OALfvclZlcR",
        "outputId": "b43ec250-695f-4d52-f2fc-e9688ff0af76"
      },
      "outputs": [
        {
          "output_type": "stream",
          "name": "stdout",
          "text": [
            "Index(['Age', 'Gender', 'Profession',\n",
            "       'On average, how many hours per day do you spend on social media?',\n",
            "       'Which social media app do you use the most?',\n",
            "       'Do you use Social media just before going to bed and just after waking up?',\n",
            "       'Do you often find yourself scrolling through social media feeds without a specific purpose?',\n",
            "       'Do you ever feel like your achievements aren't as good as what you see on social media?',\n",
            "       'How often do you encounter negative content (e.g., cyberbullying, distressing news) on social media?',\n",
            "       'Do you feel anxious or stressed when you don't get enough likes or engagement on your posts?',\n",
            "       'Which type of content do you engage with the most on social media?',\n",
            "       'How satisfied are you with your social relationships outside of social media?',\n",
            "       'Do u experience symptoms of anxiety (e.g., worry, nervousness, panic attacks)?',\n",
            "       'On a scale of 1 to 10, how would you rate your overall mental health?',\n",
            "       'Do you think life would be fundamentally different without social media?'],\n",
            "      dtype='object')\n",
            "Index(['Age', 'Gender', 'Profession',\n",
            "       'On average, how many hours per day do you spend on social media?',\n",
            "       'Which social media app do you use the most?',\n",
            "       'Do you use Social media just before going to bed and just after waking up?',\n",
            "       'Do you often find yourself scrolling through social media feeds without a specific purpose?',\n",
            "       'Do you ever feel like your achievements aren't as good as what you see on social media?',\n",
            "       'How often do you encounter negative content (e.g., cyberbullying, distressing news) on social media?',\n",
            "       'Do you feel anxious or stressed when you don't get enough likes or engagement on your posts?',\n",
            "       'Which type of content do you engage with the most on social media?',\n",
            "       'How satisfied are you with your social relationships outside of social media?',\n",
            "       'Do u experience symptoms of anxiety (e.g., worry, nervousness, panic attacks)?',\n",
            "       'On a scale of 1 to 10, how would you rate your overall mental health?',\n",
            "       'Do you think life would be fundamentally different without social media?'],\n",
            "      dtype='object')\n"
          ]
        }
      ],
      "source": [
        "print(df.columns)\n",
        "\n",
        "# Clean up column names by stripping trailing spaces\n",
        "df.columns = df.columns.str.strip()\n",
        "\n",
        "# Recheck the column names after stripping spaces\n",
        "print(df.columns)"
      ]
    },
    {
      "cell_type": "code",
      "execution_count": null,
      "metadata": {
        "colab": {
          "base_uri": "https://localhost:8080/",
          "height": 524
        },
        "id": "6OVKFCPIVhea",
        "outputId": "ff88e4c1-a1de-4aa8-a6bd-28443dea7ea8"
      },
      "outputs": [
        {
          "output_type": "display_data",
          "data": {
            "text/plain": [
              "<Figure size 2000x2000 with 0 Axes>"
            ]
          },
          "metadata": {}
        },
        {
          "output_type": "display_data",
          "data": {
            "text/plain": [
              "<Figure size 640x480 with 1 Axes>"
            ],
            "image/png": "[encoded data removed]"
          },
          "metadata": {}
        }
      ],
      "source": [
        "import pandas as pd\n",
        "import matplotlib.pyplot as plt\n",
        "\n",
        "\n",
        "df.columns = df.columns.str.strip()\n",
        "\n",
        "\n",
        "anxiety_data = df[[\n",
        "    'Do u experience symptoms of anxiety (e.g., worry, nervousness, panic attacks)?',\n",
        "    'On a scale of 1 to 10, how would you rate your overall mental health?'\n",
        "]]\n",
        "\n",
        "\n",
        "grouped_data = anxiety_data.groupby('Do u experience symptoms of anxiety (e.g., worry, nervousness, panic attacks)?').mean()\n",
        "\n",
        "# Plot the relationship\n",
        "plt.figure(figsize=(20, 20))\n",
        "grouped_data.plot(kind='bar', legend=False)\n",
        "plt.xlabel('Anxiety Symptoms')\n",
        "plt.ylabel('Average Mental Health Rating (1-10)')\n",
        "plt.title('Relationship Between Anxiety Symptoms and Mental Health Rating')\n",
        "plt.xticks(rotation=45)\n",
        "plt.show()\n"
      ]
    },
    {
      "cell_type": "code",
      "execution_count": null,
      "metadata": {
        "colab": {
          "base_uri": "https://localhost:8080/"
        },
        "id": "j87pWpSOahLB",
        "outputId": "377a0b46-9c50-44d7-e112-427149a32457"
      },
      "outputs": [
        {
          "output_type": "stream",
          "name": "stdout",
          "text": [
            "Percentage of Mental Health Ratings for People with Daily Anxiety Symptoms:\n",
            "Rating 1: 35.29%\n",
            "Rating 2: 17.65%\n",
            "Rating 3: 8.82%\n",
            "Rating 4: 5.88%\n",
            "Rating 5: 11.76%\n",
            "Rating 6: 5.88%\n",
            "Rating 8: 8.82%\n",
            "Rating 10: 5.88%\n"
          ]
        }
      ],
      "source": [
        "import pandas as pd\n",
        "\n",
        "\n",
        "monthly_anxiety_data = df[df['Do u experience symptoms of anxiety (e.g., worry, nervousness, panic attacks)?'] == 'Daily']\n",
        "\n",
        "\n",
        "rating_counts = monthly_anxiety_data['On a scale of 1 to 10, how would you rate your overall mental health?'].value_counts().sort_index()\n",
        "\n",
        "\n",
        "total_people = len(monthly_anxiety_data)\n",
        "rating_percentages = (rating_counts / total_people) * 100\n",
        "\n",
        "\n",
        "print(\"Percentage of Mental Health Ratings for People with Daily Anxiety Symptoms:\")\n",
        "for rating, percentage in rating_percentages.items():\n",
        "    print(f\"Rating {rating}: {percentage:.2f}%\")"
      ]
    },
    {
      "cell_type": "code",
      "execution_count": null,
      "metadata": {
        "colab": {
          "base_uri": "https://localhost:8080/"
        },
        "id": "iCDbW_1waMXl",
        "outputId": "708c9dd3-a44f-4f1f-961c-ce916768c61f"
      },
      "outputs": [
        {
          "output_type": "stream",
          "name": "stdout",
          "text": [
            "Percentage of Mental Health Ratings for People with Monthly Anxiety Symptoms:\n",
            "Rating 1: 8.57%\n",
            "Rating 2: 8.57%\n",
            "Rating 3: 5.71%\n",
            "Rating 4: 5.71%\n",
            "Rating 5: 5.71%\n",
            "Rating 6: 31.43%\n",
            "Rating 7: 17.14%\n",
            "Rating 8: 14.29%\n",
            "Rating 10: 2.86%\n"
          ]
        }
      ],
      "source": [
        "import pandas as pd\n",
        "\n",
        "\n",
        "monthly_anxiety_data = df[df['Do u experience symptoms of anxiety (e.g., worry, nervousness, panic attacks)?'] == 'Monthly']\n",
        "\n",
        "\n",
        "rating_counts = monthly_anxiety_data['On a scale of 1 to 10, how would you rate your overall mental health?'].value_counts().sort_index()\n",
        "\n",
        "\n",
        "total_people = len(monthly_anxiety_data)\n",
        "rating_percentages = (rating_counts / total_people) * 100\n",
        "\n",
        "\n",
        "print(\"Percentage of Mental Health Ratings for People with Monthly Anxiety Symptoms:\")\n",
        "for rating, percentage in rating_percentages.items():\n",
        "    print(f\"Rating {rating}: {percentage:.2f}%\")\n"
      ]
    },
    {
      "cell_type": "code",
      "execution_count": null,
      "metadata": {
        "colab": {
          "base_uri": "https://localhost:8080/"
        },
        "id": "gfaTjVCFaZLO",
        "outputId": "3f0d9ed3-e23b-4b95-97fb-761762712e8b"
      },
      "outputs": [
        {
          "output_type": "stream",
          "name": "stdout",
          "text": [
            "Percentage of Mental Health Ratings for People with Rarely Anxiety Symptoms:\n",
            "Rating 1: 8.89%\n",
            "Rating 2: 10.00%\n",
            "Rating 3: 5.56%\n",
            "Rating 4: 5.56%\n",
            "Rating 5: 5.56%\n",
            "Rating 6: 5.56%\n",
            "Rating 7: 17.78%\n",
            "Rating 8: 23.33%\n",
            "Rating 9: 14.44%\n",
            "Rating 10: 3.33%\n"
          ]
        }
      ],
      "source": [
        "import pandas as pd\n",
        "\n",
        "monthly_anxiety_data = df[df['Do u experience symptoms of anxiety (e.g., worry, nervousness, panic attacks)?'] == 'Rarely']\n",
        "\n",
        "\n",
        "rating_counts = monthly_anxiety_data['On a scale of 1 to 10, how would you rate your overall mental health?'].value_counts().sort_index()\n",
        "\n",
        "\n",
        "total_people = len(monthly_anxiety_data)\n",
        "rating_percentages = (rating_counts / total_people) * 100\n",
        "\n",
        "\n",
        "print(\"Percentage of Mental Health Ratings for People with Rarely Anxiety Symptoms:\")\n",
        "for rating, percentage in rating_percentages.items():\n",
        "    print(f\"Rating {rating}: {percentage:.2f}%\")"
      ]
    },
    {
      "cell_type": "code",
      "execution_count": null,
      "metadata": {
        "id": "HagLjt5p0FYW",
        "colab": {
          "base_uri": "https://localhost:8080/"
        },
        "outputId": "291cf9bb-feec-41f0-cba9-31ed321a6e57"
      },
      "outputs": [
        {
          "output_type": "stream",
          "name": "stdout",
          "text": [
            "Percentage of Mental Health Ratings for People with Weekly Anxiety Symptoms:\n",
            "Rating 1: 21.62%\n",
            "Rating 2: 13.51%\n",
            "Rating 3: 13.51%\n",
            "Rating 4: 10.81%\n",
            "Rating 5: 8.11%\n",
            "Rating 6: 10.81%\n",
            "Rating 7: 10.81%\n",
            "Rating 8: 10.81%\n"
          ]
        }
      ],
      "source": [
        "import pandas as pd\n",
        "\n",
        "monthly_anxiety_data = df[df['Do u experience symptoms of anxiety (e.g., worry, nervousness, panic attacks)?'] == 'Weekly']\n",
        "\n",
        "\n",
        "rating_counts = monthly_anxiety_data['On a scale of 1 to 10, how would you rate your overall mental health?'].value_counts().sort_index()\n",
        "\n",
        "\n",
        "total_people = len(monthly_anxiety_data)\n",
        "rating_percentages = (rating_counts / total_people) * 100\n",
        "\n",
        "\n",
        "print(\"Percentage of Mental Health Ratings for People with Weekly Anxiety Symptoms:\")\n",
        "for rating, percentage in rating_percentages.items():\n",
        "    print(f\"Rating {rating}: {percentage:.2f}%\")"
      ]
    },
    {
      "cell_type": "code",
      "execution_count": null,
      "metadata": {
        "colab": {
          "base_uri": "https://localhost:8080/"
        },
        "id": "sgSSKanv4kIb",
        "outputId": "fa844eac-1a2d-4257-8046-915306532842"
      },
      "outputs": [
        {
          "output_type": "stream",
          "name": "stdout",
          "text": [
            "Index(['Age', 'Gender', 'Profession',\n",
            "       'On average, how many hours per day do you spend on social media?',\n",
            "       'Which social media app do you use the most?',\n",
            "       'Do you use Social media just before going to bed and just after waking up?',\n",
            "       'Do you often find yourself scrolling through social media feeds without a specific purpose?',\n",
            "       'Do you ever feel like your achievements aren't as good as what you see on social media?',\n",
            "       'How often do you encounter negative content (e.g., cyberbullying, distressing news) on social media?',\n",
            "       'Do you feel anxious or stressed when you don't get enough likes or engagement on your posts?',\n",
            "       'Which type of content do you engage with the most on social media?',\n",
            "       'How satisfied are you with your social relationships outside of social media?',\n",
            "       'Do u experience symptoms of anxiety (e.g., worry, nervousness, panic attacks)?',\n",
            "       'On a scale of 1 to 10, how would you rate your overall mental health?',\n",
            "       'Do you think life would be fundamentally different without social media?'],\n",
            "      dtype='object')\n"
          ]
        }
      ],
      "source": [
        "print(social_media_users.columns)"
      ]
    },
    {
      "cell_type": "code",
      "execution_count": null,
      "metadata": {
        "colab": {
          "base_uri": "https://localhost:8080/",
          "height": 731
        },
        "id": "ZVRmJYTZ4-7z",
        "outputId": "85cd57ce-c580-4473-ab00-2aab93bcf524"
      },
      "outputs": [
        {
          "output_type": "stream",
          "name": "stderr",
          "text": [
            "<ipython-input-228-b36c49a5b8b2>:22: SettingWithCopyWarning: \n",
            "A value is trying to be set on a copy of a slice from a DataFrame.\n",
            "Try using .loc[row_indexer,col_indexer] = value instead\n",
            "\n",
            "See the caveats in the documentation: https://pandas.pydata.org/pandas-docs/stable/user_guide/indexing.html#returning-a-view-versus-a-copy\n",
            "  anxiety_data['SocialMediaUsage'] = anxiety_data['Do you use Social media just before going to bed and just after waking up?'].map(usage_mapping)\n"
          ]
        },
        {
          "output_type": "display_data",
          "data": {
            "text/plain": [
              "<Figure size 1000x600 with 1 Axes>"
            ],
            "image/png": "[encoded data removed]"
          },
          "metadata": {}
        }
      ],
      "source": [
        "\n",
        "import pandas as pd\n",
        "import matplotlib.pyplot as plt\n",
        "\n",
        "# Assuming df is your DataFrame containing the relevant columns\n",
        "df.columns = df.columns.str.strip()\n",
        "\n",
        "# Filter data and select relevant columns\n",
        "anxiety_data = df[[\n",
        "    'Do u experience symptoms of anxiety (e.g., worry, nervousness, panic attacks)?',\n",
        "    'Do you use Social media just before going to bed and just after waking up?'\n",
        "]]\n",
        "\n",
        "# Clean and preprocess the column with social media usage\n",
        "# Replace string values with numerical categories (e.g., 0, 1, 2, ...)\n",
        "usage_mapping = {\n",
        "    'Yes, both the times': 2,\n",
        "    'Only before going to bed': 1,\n",
        "    'Only after waking up': 1,\n",
        "    'Nope': 0\n",
        "}\n",
        "\n",
        "anxiety_data['SocialMediaUsage'] = anxiety_data['Do you use Social media just before going to bed and just after waking up?'].map(usage_mapping)\n",
        "\n",
        "# Group data by anxiety symptoms and calculate average social media usage\n",
        "grouped_data = anxiety_data.groupby('Do u experience symptoms of anxiety (e.g., worry, nervousness, panic attacks)?')['SocialMediaUsage'].mean()\n",
        "\n",
        "# Plotting the relationship with improved visualization settings\n",
        "plt.figure(figsize=(10, 6))\n",
        "colors = ['skyblue' if x < 1 else 'lightcoral' for x in grouped_data]  # Define colors based on average usage\n",
        "grouped_data.plot(kind='bar', color=colors)\n",
        "\n",
        "# Add labels and title\n",
        "plt.xlabel('Anxiety Symptoms')\n",
        "plt.ylabel('Average Social Media Usage')\n",
        "plt.title('Relationship Between Anxiety Symptoms and Social Media Usage')\n",
        "plt.xticks(rotation=45, ha='right')\n",
        "\n",
        "# Add a horizontal line for the average usage threshold\n",
        "plt.axhline(y=1, color='gray', linestyle='--', linewidth=0.8)\n",
        "\n",
        "# Set y-axis limits to match the range of social media usage values\n",
        "plt.ylim(0, 2)\n",
        "\n",
        "# Add gridlines for better readability\n",
        "plt.grid(axis='y', linestyle='--', alpha=0.5)\n",
        "\n",
        "# Annotate the bars with usage representation\n",
        "for i, (idx, value) in enumerate(grouped_data.items()):\n",
        "    plt.text(i, value + 0.05, f'{value:.2f}', ha='center', va='bottom')\n",
        "    plt.text(i, value - 0.15, f'0: No\\n1: Once\\n2: Both', ha='center', va='top', fontsize=8, color='dimgrey')\n",
        "\n",
        "# Adjust layout for better fit\n",
        "plt.tight_layout()\n",
        "\n",
        "# Show the plot\n",
        "plt.show()\n"
      ]
    },
    {
      "cell_type": "code",
      "execution_count": null,
      "metadata": {
        "id": "XwdnsPqY77qE",
        "colab": {
          "base_uri": "https://localhost:8080/",
          "height": 564
        },
        "outputId": "75ead9b4-80c2-4531-c49c-b8aa88a4deda"
      },
      "outputs": [
        {
          "output_type": "display_data",
          "data": {
            "text/plain": [
              "<Figure size 1000x600 with 1 Axes>"
            ],
            "image/png": "[encoded data removed]"
          },
          "metadata": {}
        }
      ],
      "source": [
        "import matplotlib.pyplot as plt\n",
        "\n",
        "# Define the models and their corresponding accuracy, precision, and F-score\n",
        "models = ['Random Forest', 'Logistic Regression', 'K-Nearest Neighbors']\n",
        "accuracy = [71.5, 88.46, 72]\n",
        "precision = [72.3, 88, 74]\n",
        "fscore = [82.9, 94, 83.2]\n",
        "\n",
        "# Set the width of the bars\n",
        "bar_width = 0.3\n",
        "\n",
        "# Set the positions of the bars on the x-axis\n",
        "r1 = range(len(models))\n",
        "r2 = [x + bar_width for x in r1]\n",
        "r3 = [x + bar_width for x in r2]\n",
        "\n",
        "# Create the bar graph\n",
        "plt.figure(figsize=(10, 6))\n",
        "plt.bar(r1, accuracy, color='b', width=bar_width, edgecolor='grey', label='Accuracy')\n",
        "plt.bar(r2, precision, color='g', width=bar_width, edgecolor='grey', label='Precision')\n",
        "plt.bar(r3, fscore, color='r', width=bar_width, edgecolor='grey', label='F-Score')\n",
        "\n",
        "# Add labels, title, and ticks\n",
        "plt.xlabel('Models', fontweight='bold')\n",
        "plt.xticks([r + bar_width for r in range(len(models))], models)\n",
        "plt.ylabel('Percentage')\n",
        "plt.title('Comparison of Accuracy, Precision, and F-Score')\n",
        "plt.legend()\n",
        "\n",
        "# Show plot\n",
        "plt.show()\n"
      ]
    },
    {
      "cell_type": "code",
      "execution_count": null,
      "metadata": {
        "id": "sg22NySz8WN-"
      },
      "outputs": [],
      "source": []
    },
    {
      "cell_type": "code",
      "execution_count": null,
      "metadata": {
        "id": "SA1sKER-8ocO"
      },
      "outputs": [],
      "source": []
    },
    {
      "cell_type": "code",
      "execution_count": null,
      "metadata": {
        "id": "1KZxKNvP8HdE"
      },
      "outputs": [],
      "source": [
        "\n"
      ]
    },
    {
      "cell_type": "code",
      "execution_count": null,
      "metadata": {
        "id": "929BtgEs8pqA"
      },
      "outputs": [],
      "source": [
        "\n"
      ]
    },
    {
      "cell_type": "code",
      "execution_count": null,
      "metadata": {
        "colab": {
          "background_save": true
        },
        "id": "cgBYFiBP9Gvx"
      },
      "outputs": [],
      "source": [
        "\n"
      ]
    }
  ],
  "metadata": {
    "colab": {
      "provenance": []
    },
    "kernelspec": {
      "display_name": "Python 3",
      "name": "python3"
    },
    "language_info": {
      "name": "python"
    }
  },
  "nbformat": 4,
  "nbformat_minor": 0
}